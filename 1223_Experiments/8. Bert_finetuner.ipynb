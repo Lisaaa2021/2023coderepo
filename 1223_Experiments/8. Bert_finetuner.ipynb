{
  "cells": [
    {
      "cell_type": "markdown",
      "metadata": {
        "id": "Ed7pexgOsyZh"
      },
      "source": [
        "# Fine-tune BERT for Token Classification"
      ]
    },
    {
      "cell_type": "code",
      "execution_count": 42,
      "metadata": {
        "colab": {
          "base_uri": "https://localhost:8080/"
        },
        "id": "98OhjTlGsyZj",
        "outputId": "c44a26af-86f3-4967-d46d-2853952845f3"
      },
      "outputs": [
        {
          "name": "stdout",
          "output_type": "stream",
          "text": [
            "Looking in indexes: https://pypi.org/simple, https://us-python.pkg.dev/colab-wheels/public/simple/\n",
            "Requirement already satisfied: transformers==4.9.1 in /usr/local/lib/python3.8/dist-packages (4.9.1)\n",
            "Requirement already satisfied: filelock in /usr/local/lib/python3.8/dist-packages (from transformers==4.9.1) (3.8.0)\n",
            "Requirement already satisfied: huggingface-hub==0.0.12 in /usr/local/lib/python3.8/dist-packages (from transformers==4.9.1) (0.0.12)\n",
            "Requirement already satisfied: requests in /usr/local/lib/python3.8/dist-packages (from transformers==4.9.1) (2.23.0)\n",
            "Requirement already satisfied: tqdm>=4.27 in /usr/local/lib/python3.8/dist-packages (from transformers==4.9.1) (4.64.1)\n",
            "Requirement already satisfied: packaging in /usr/local/lib/python3.8/dist-packages (from transformers==4.9.1) (21.3)\n",
            "Requirement already satisfied: regex!=2019.12.17 in /usr/local/lib/python3.8/dist-packages (from transformers==4.9.1) (2022.6.2)\n",
            "Requirement already satisfied: tokenizers<0.11,>=0.10.1 in /usr/local/lib/python3.8/dist-packages (from transformers==4.9.1) (0.10.3)\n",
            "Requirement already satisfied: pyyaml>=5.1 in /usr/local/lib/python3.8/dist-packages (from transformers==4.9.1) (6.0)\n",
            "Requirement already satisfied: sacremoses in /usr/local/lib/python3.8/dist-packages (from transformers==4.9.1) (0.0.53)\n",
            "Requirement already satisfied: numpy>=1.17 in /usr/local/lib/python3.8/dist-packages (from transformers==4.9.1) (1.21.6)\n",
            "Requirement already satisfied: typing-extensions in /usr/local/lib/python3.8/dist-packages (from huggingface-hub==0.0.12->transformers==4.9.1) (4.4.0)\n",
            "Requirement already satisfied: pyparsing!=3.0.5,>=2.0.2 in /usr/local/lib/python3.8/dist-packages (from packaging->transformers==4.9.1) (3.0.9)\n",
            "Requirement already satisfied: idna<3,>=2.5 in /usr/local/lib/python3.8/dist-packages (from requests->transformers==4.9.1) (2.10)\n",
            "Requirement already satisfied: chardet<4,>=3.0.2 in /usr/local/lib/python3.8/dist-packages (from requests->transformers==4.9.1) (3.0.4)\n",
            "Requirement already satisfied: certifi>=2017.4.17 in /usr/local/lib/python3.8/dist-packages (from requests->transformers==4.9.1) (2022.9.24)\n",
            "Requirement already satisfied: urllib3!=1.25.0,!=1.25.1,<1.26,>=1.21.1 in /usr/local/lib/python3.8/dist-packages (from requests->transformers==4.9.1) (1.24.3)\n",
            "Requirement already satisfied: six in /usr/local/lib/python3.8/dist-packages (from sacremoses->transformers==4.9.1) (1.15.0)\n",
            "Requirement already satisfied: click in /usr/local/lib/python3.8/dist-packages (from sacremoses->transformers==4.9.1) (7.1.2)\n",
            "Requirement already satisfied: joblib in /usr/local/lib/python3.8/dist-packages (from sacremoses->transformers==4.9.1) (1.2.0)\n",
            "Looking in indexes: https://pypi.org/simple, https://us-python.pkg.dev/colab-wheels/public/simple/\n",
            "Requirement already satisfied: datasets==1.11.0 in /usr/local/lib/python3.8/dist-packages (1.11.0)\n",
            "Requirement already satisfied: xxhash in /usr/local/lib/python3.8/dist-packages (from datasets==1.11.0) (3.1.0)\n",
            "Requirement already satisfied: dill in /usr/local/lib/python3.8/dist-packages (from datasets==1.11.0) (0.3.6)\n",
            "Requirement already satisfied: pandas in /usr/local/lib/python3.8/dist-packages (from datasets==1.11.0) (1.3.5)\n",
            "Requirement already satisfied: packaging in /usr/local/lib/python3.8/dist-packages (from datasets==1.11.0) (21.3)\n",
            "Requirement already satisfied: fsspec>=2021.05.0 in /usr/local/lib/python3.8/dist-packages (from datasets==1.11.0) (2022.11.0)\n",
            "Requirement already satisfied: pyarrow!=4.0.0,>=1.0.0 in /usr/local/lib/python3.8/dist-packages (from datasets==1.11.0) (9.0.0)\n",
            "Requirement already satisfied: requests>=2.19.0 in /usr/local/lib/python3.8/dist-packages (from datasets==1.11.0) (2.23.0)\n",
            "Requirement already satisfied: huggingface-hub<0.1.0 in /usr/local/lib/python3.8/dist-packages (from datasets==1.11.0) (0.0.12)\n",
            "Requirement already satisfied: numpy>=1.17 in /usr/local/lib/python3.8/dist-packages (from datasets==1.11.0) (1.21.6)\n",
            "Requirement already satisfied: tqdm>=4.42 in /usr/local/lib/python3.8/dist-packages (from datasets==1.11.0) (4.64.1)\n",
            "Requirement already satisfied: multiprocess in /usr/local/lib/python3.8/dist-packages (from datasets==1.11.0) (0.70.14)\n",
            "Requirement already satisfied: typing-extensions in /usr/local/lib/python3.8/dist-packages (from huggingface-hub<0.1.0->datasets==1.11.0) (4.4.0)\n",
            "Requirement already satisfied: filelock in /usr/local/lib/python3.8/dist-packages (from huggingface-hub<0.1.0->datasets==1.11.0) (3.8.0)\n",
            "Requirement already satisfied: pyparsing!=3.0.5,>=2.0.2 in /usr/local/lib/python3.8/dist-packages (from packaging->datasets==1.11.0) (3.0.9)\n",
            "Requirement already satisfied: certifi>=2017.4.17 in /usr/local/lib/python3.8/dist-packages (from requests>=2.19.0->datasets==1.11.0) (2022.9.24)\n",
            "Requirement already satisfied: chardet<4,>=3.0.2 in /usr/local/lib/python3.8/dist-packages (from requests>=2.19.0->datasets==1.11.0) (3.0.4)\n",
            "Requirement already satisfied: urllib3!=1.25.0,!=1.25.1,<1.26,>=1.21.1 in /usr/local/lib/python3.8/dist-packages (from requests>=2.19.0->datasets==1.11.0) (1.24.3)\n",
            "Requirement already satisfied: idna<3,>=2.5 in /usr/local/lib/python3.8/dist-packages (from requests>=2.19.0->datasets==1.11.0) (2.10)\n",
            "Requirement already satisfied: python-dateutil>=2.7.3 in /usr/local/lib/python3.8/dist-packages (from pandas->datasets==1.11.0) (2.8.2)\n",
            "Requirement already satisfied: pytz>=2017.3 in /usr/local/lib/python3.8/dist-packages (from pandas->datasets==1.11.0) (2022.6)\n",
            "Requirement already satisfied: six>=1.5 in /usr/local/lib/python3.8/dist-packages (from python-dateutil>=2.7.3->pandas->datasets==1.11.0) (1.15.0)\n",
            "Looking in indexes: https://pypi.org/simple, https://us-python.pkg.dev/colab-wheels/public/simple/\n",
            "Requirement already satisfied: tabulate==0.8.9 in /usr/local/lib/python3.8/dist-packages (0.8.9)\n",
            "Looking in indexes: https://pypi.org/simple, https://us-python.pkg.dev/colab-wheels/public/simple/\n",
            "Requirement already satisfied: seqeval==1.2.2 in /usr/local/lib/python3.8/dist-packages (1.2.2)\n",
            "Requirement already satisfied: numpy>=1.14.0 in /usr/local/lib/python3.8/dist-packages (from seqeval==1.2.2) (1.21.6)\n",
            "Requirement already satisfied: scikit-learn>=0.21.3 in /usr/local/lib/python3.8/dist-packages (from seqeval==1.2.2) (1.0.2)\n",
            "Requirement already satisfied: joblib>=0.11 in /usr/local/lib/python3.8/dist-packages (from scikit-learn>=0.21.3->seqeval==1.2.2) (1.2.0)\n",
            "Requirement already satisfied: threadpoolctl>=2.0.0 in /usr/local/lib/python3.8/dist-packages (from scikit-learn>=0.21.3->seqeval==1.2.2) (3.1.0)\n",
            "Requirement already satisfied: scipy>=1.1.0 in /usr/local/lib/python3.8/dist-packages (from scikit-learn>=0.21.3->seqeval==1.2.2) (1.7.3)\n"
          ]
        }
      ],
      "source": [
        "### WARNING: Do NOT run this cell, unless you are running this on Google Colab. For a local installation run: pip install -r requirements.txt inside the terminal\n",
        "%pip install transformers==4.9.1\n",
        "%pip install datasets==1.11.0\n",
        "%pip install tabulate==0.8.9\n",
        "%pip install seqeval==1.2.2"
      ]
    },
    {
      "cell_type": "code",
      "execution_count": 43,
      "metadata": {
        "colab": {
          "base_uri": "https://localhost:8080/"
        },
        "id": "1QVhaFLgvtZa",
        "outputId": "7c175f4f-6bd0-46b3-cb7d-42fa8a7ce6d3"
      },
      "outputs": [
        {
          "name": "stdout",
          "output_type": "stream",
          "text": [
            "Drive already mounted at /content/drive; to attempt to forcibly remount, call drive.mount(\"/content/drive\", force_remount=True).\n"
          ]
        }
      ],
      "source": [
        "from google.colab import drive\n",
        "drive.mount('/content/drive')"
      ]
    },
    {
      "cell_type": "code",
      "execution_count": 44,
      "metadata": {
        "colab": {
          "base_uri": "https://localhost:8080/"
        },
        "id": "xNLY0Qa1v2d2",
        "outputId": "9667012f-1737-47d1-bb35-ae3877572a19"
      },
      "outputs": [
        {
          "name": "stdout",
          "output_type": "stream",
          "text": [
            "[Errno 2] No such file or directory: 'drive/MyDrive/VUP2/BERT'\n",
            "/content/drive/MyDrive/VUP2/BERT\n"
          ]
        }
      ],
      "source": [
        "cd drive/MyDrive/VUP2/BERT"
      ]
    },
    {
      "cell_type": "code",
      "execution_count": 45,
      "metadata": {
        "id": "7W9OE8N9syZk"
      },
      "outputs": [],
      "source": [
        "import random, time, os\n",
        "import torch\n",
        "from torch.nn import CrossEntropyLoss\n",
        "import numpy as np\n",
        "from torch.utils.data import TensorDataset, DataLoader, RandomSampler\n",
        "from transformers import BertForTokenClassification, AdamW\n",
        "from transformers import get_linear_schedule_with_warmup\n",
        "import logging, sys\n",
        "from transformers import BertTokenizer\n",
        "from sklearn.metrics import classification_report\n",
        "# Our code behind the scenes!\n",
        "import bert_utils as utils"
      ]
    },
    {
      "cell_type": "markdown",
      "metadata": {
        "id": "n-HQ_X00syZk"
      },
      "source": [
        "## Initialize Hyperparameters"
      ]
    },
    {
      "cell_type": "code",
      "execution_count": 46,
      "metadata": {
        "id": "XpoO9V69syZk"
      },
      "outputs": [],
      "source": [
        "EPOCHS = 1\n",
        "BERT_MODEL_NAME = \"bert-base-cased\"\n",
        "GPU_RUN_IX=0\n",
        "\n",
        "SEED_VAL = 1234500\n",
        "SEQ_MAX_LEN = 256\n",
        "PRINT_INFO_EVERY = 10 # Print status only every X batches\n",
        "GRADIENT_CLIP = 1.0\n",
        "LEARNING_RATE = 1e-5\n",
        "BATCH_SIZE = 4\n",
        "\n",
        "TRAIN_DATA_PATH = \"data/conll2003.train.conll\" # \"data/conll2003.train.conll\"\n",
        "\n",
        "# IMPORTANT NOTE: We use as validation set the test portion, in order to avoid overfitting on the dev set, \n",
        "# and this way be able to evaluate later and compare with your previous models!\n",
        "DEV_DATA_PATH = \"data/conll2003.dev.conll\" # \"data/conll2003.dev.conll\"\n",
        "\n",
        "SAVE_MODEL_DIR = \"saved_models/MY_BERT_NER/\"\n",
        "\n",
        "LABELS_FILENAME = f\"{SAVE_MODEL_DIR}/label2index.json\"\n",
        "LOSS_TRN_FILENAME = f\"{SAVE_MODEL_DIR}/Losses_Train_{EPOCHS}.json\"\n",
        "LOSS_DEV_FILENAME = f\"{SAVE_MODEL_DIR}/Losses_Dev_{EPOCHS}.json\"\n",
        "\n",
        "PAD_TOKEN_LABEL_ID = CrossEntropyLoss().ignore_index # -100\n",
        "\n",
        "if not os.path.exists(SAVE_MODEL_DIR):\n",
        "    os.makedirs(SAVE_MODEL_DIR)\n",
        "\n",
        "\n",
        "# Initialize Random seeds and validate if there's a GPU available...\n",
        "device, USE_CUDA = utils.get_torch_device(GPU_RUN_IX)\n",
        "random.seed(SEED_VAL)\n",
        "np.random.seed(SEED_VAL)\n",
        "torch.manual_seed(SEED_VAL)\n",
        "torch.cuda.manual_seed_all(SEED_VAL)"
      ]
    },
    {
      "cell_type": "markdown",
      "metadata": {
        "id": "Klit0kVTsyZk"
      },
      "source": [
        "## Record everything inside a Log File"
      ]
    },
    {
      "cell_type": "code",
      "execution_count": 47,
      "metadata": {
        "id": "fLzbwLTosyZl"
      },
      "outputs": [],
      "source": [
        "# console_hdlr = logging.StreamHandler(sys.stdout)\n",
        "# file_hdlr = logging.FileHandler(filename=f\"{SAVE_MODEL_DIR}/BERT_TokenClassifier_train_{EPOCHS}.log\")\n",
        "# logging.basicConfig(level=logging.INFO, handlers=[console_hdlr, file_hdlr])\n",
        "# logging.info(\"Start Logging\")"
      ]
    },
    {
      "cell_type": "code",
      "execution_count": 48,
      "metadata": {
        "colab": {
          "base_uri": "https://localhost:8080/"
        },
        "id": "mUemvkBL4l6-",
        "outputId": "cfca4cf5-fa28-4c3c-f74a-e4537c3e190c"
      },
      "outputs": [
        {
          "name": "stdout",
          "output_type": "stream",
          "text": [
            "Start Logging\n",
            "Start Logging\n",
            "Start Logging\n",
            "Start Logging\n"
          ]
        },
        {
          "name": "stderr",
          "output_type": "stream",
          "text": [
            "INFO:__main__:Start Logging\n"
          ]
        }
      ],
      "source": [
        "console_hdlr = logging.StreamHandler(sys.stdout)\n",
        "file_hdlr = logging.FileHandler(filename=f\"{SAVE_MODEL_DIR}/BERT_TokenClassifier_train_{EPOCHS}.log\")\n",
        "logging.basicConfig(handlers=[console_hdlr, file_hdlr])\n",
        "logger = logging.getLogger(__name__)\n",
        "logger.addHandler(console_hdlr)\n",
        "logger.addHandler(file_hdlr)\n",
        "logger.setLevel(logging.INFO)\n",
        "logger.info(\"Start Logging\")"
      ]
    },
    {
      "cell_type": "code",
      "execution_count": 49,
      "metadata": {
        "id": "0GIRdHKD4GG5"
      },
      "outputs": [],
      "source": [
        "\n",
        "\n",
        "# logging.basicConfig()\n",
        "# logger = logging.getLogger(__name__)\n",
        "# logger.setLevel(logging.INFO)\n",
        "\n",
        "# logger.info('its working')"
      ]
    },
    {
      "cell_type": "markdown",
      "metadata": {
        "id": "jZRqYHklsyZl"
      },
      "source": [
        "## Load Training and Validation Datasets"
      ]
    },
    {
      "cell_type": "code",
      "execution_count": 50,
      "metadata": {
        "id": "t6nEZeHisyZl"
      },
      "outputs": [],
      "source": [
        "# Initialize Tokenizer\n",
        "tokenizer = BertTokenizer.from_pretrained(BERT_MODEL_NAME, do_basic_tokenize=False)\n",
        "\n",
        "# Load Train Dataset\n",
        "train_data, train_labels, train_label2index = utils.read_conll(TRAIN_DATA_PATH, has_labels=True)\n",
        "train_inputs, train_masks, train_labels, seq_lengths = utils.data_to_tensors(train_data, \n",
        "                                                                            tokenizer, \n",
        "                                                                            max_len=SEQ_MAX_LEN, \n",
        "                                                                            labels=train_labels, \n",
        "                                                                            label2index=train_label2index,\n",
        "                                                                            pad_token_label_id=PAD_TOKEN_LABEL_ID)\n",
        "utils.save_label_dict(train_label2index, filename=LABELS_FILENAME)\n",
        "index2label = {v: k for k, v in train_label2index.items()}\n",
        "\n",
        "# Create the DataLoader for our training set.\n",
        "train_data = TensorDataset(train_inputs, train_masks, train_labels)\n",
        "train_sampler = RandomSampler(train_data)\n",
        "train_dataloader = DataLoader(train_data, sampler=train_sampler, batch_size=BATCH_SIZE)\n",
        "\n",
        "# Load Dev Dataset\n",
        "dev_data, dev_labels, _ = utils.read_conll(DEV_DATA_PATH, has_labels=True)\n",
        "dev_inputs, dev_masks, dev_labels, dev_lens = utils.data_to_tensors(dev_data, \n",
        "                                                                    tokenizer, \n",
        "                                                                    max_len=SEQ_MAX_LEN, \n",
        "                                                                    labels=dev_labels, \n",
        "                                                                    label2index=train_label2index,\n",
        "                                                                    pad_token_label_id=PAD_TOKEN_LABEL_ID)\n",
        "\n",
        "# Create the DataLoader for our Development set.\n",
        "dev_data = TensorDataset(dev_inputs, dev_masks, dev_labels, dev_lens)\n",
        "dev_sampler = RandomSampler(dev_data)\n",
        "dev_dataloader = DataLoader(dev_data, sampler=dev_sampler, batch_size=BATCH_SIZE)"
      ]
    },
    {
      "cell_type": "markdown",
      "metadata": {
        "id": "z4zDruznsyZl"
      },
      "source": [
        "## Initialize Model Components"
      ]
    },
    {
      "cell_type": "code",
      "execution_count": 51,
      "metadata": {
        "colab": {
          "base_uri": "https://localhost:8080/"
        },
        "id": "kvO2ol3RsyZm",
        "outputId": "9ef73dad-9265-4a7e-bf82-1da5d9dfa6a6"
      },
      "outputs": [
        {
          "name": "stderr",
          "output_type": "stream",
          "text": [
            "Some weights of the model checkpoint at bert-base-cased were not used when initializing BertForTokenClassification: ['cls.seq_relationship.weight', 'cls.predictions.transform.LayerNorm.bias', 'cls.predictions.decoder.weight', 'cls.seq_relationship.bias', 'cls.predictions.transform.LayerNorm.weight', 'cls.predictions.bias', 'cls.predictions.transform.dense.weight', 'cls.predictions.transform.dense.bias']\n",
            "- This IS expected if you are initializing BertForTokenClassification from the checkpoint of a model trained on another task or with another architecture (e.g. initializing a BertForSequenceClassification model from a BertForPreTraining model).\n",
            "- This IS NOT expected if you are initializing BertForTokenClassification from the checkpoint of a model that you expect to be exactly identical (initializing a BertForSequenceClassification model from a BertForSequenceClassification model).\n",
            "Some weights of BertForTokenClassification were not initialized from the model checkpoint at bert-base-cased and are newly initialized: ['classifier.bias', 'classifier.weight']\n",
            "You should probably TRAIN this model on a down-stream task to be able to use it for predictions and inference.\n"
          ]
        }
      ],
      "source": [
        "model = BertForTokenClassification.from_pretrained(BERT_MODEL_NAME, num_labels=len(train_label2index))\n",
        "model.config.finetuning_task = 'token-classification'\n",
        "model.config.id2label = index2label\n",
        "model.config.label2id = train_label2index\n",
        "if USE_CUDA: model.cuda()\n",
        "\n",
        "# Total number of training steps is number of batches * number of epochs.\n",
        "total_steps = len(train_dataloader) * EPOCHS\n",
        "\n",
        "# Create optimizer and the learning rate scheduler.\n",
        "optimizer = AdamW(model.parameters(), lr=LEARNING_RATE, eps=1e-8)\n",
        "scheduler = get_linear_schedule_with_warmup(optimizer,\n",
        "                                        num_warmup_steps=0,\n",
        "                                        num_training_steps=total_steps)"
      ]
    },
    {
      "cell_type": "markdown",
      "metadata": {
        "id": "2xhi2zm9syZm"
      },
      "source": [
        "## Training Cycle (Fine-tunning)"
      ]
    },
    {
      "cell_type": "code",
      "execution_count": 52,
      "metadata": {
        "colab": {
          "base_uri": "https://localhost:8080/"
        },
        "id": "AMHGOgYlsyZm",
        "outputId": "b8944638-e473-4ac4-f10f-fa5fec6eb0ab"
      },
      "outputs": [
        {
          "name": "stdout",
          "output_type": "stream",
          "text": [
            "\n",
            "\n",
            "\n",
            "\n"
          ]
        },
        {
          "name": "stderr",
          "output_type": "stream",
          "text": [
            "INFO:__main__:\n"
          ]
        },
        {
          "name": "stdout",
          "output_type": "stream",
          "text": [
            "======== Epoch 1 / 1 ========\n",
            "======== Epoch 1 / 1 ========\n",
            "======== Epoch 1 / 1 ========\n",
            "======== Epoch 1 / 1 ========\n"
          ]
        },
        {
          "name": "stderr",
          "output_type": "stream",
          "text": [
            "INFO:__main__:======== Epoch 1 / 1 ========\n"
          ]
        },
        {
          "name": "stdout",
          "output_type": "stream",
          "text": [
            "Training...\n",
            "Training...\n",
            "Training...\n",
            "Training...\n"
          ]
        },
        {
          "name": "stderr",
          "output_type": "stream",
          "text": [
            "INFO:__main__:Training...\n"
          ]
        },
        {
          "name": "stdout",
          "output_type": "stream",
          "text": [
            "  Batch    10  of  3,511.    Elapsed: 0:00:02.    Loss: 1.6976174116134644.\n",
            "  Batch    10  of  3,511.    Elapsed: 0:00:02.    Loss: 1.6976174116134644.\n",
            "  Batch    10  of  3,511.    Elapsed: 0:00:02.    Loss: 1.6976174116134644.\n",
            "  Batch    10  of  3,511.    Elapsed: 0:00:02.    Loss: 1.6976174116134644.\n"
          ]
        },
        {
          "name": "stderr",
          "output_type": "stream",
          "text": [
            "INFO:__main__:  Batch    10  of  3,511.    Elapsed: 0:00:02.    Loss: 1.6976174116134644.\n"
          ]
        },
        {
          "name": "stdout",
          "output_type": "stream",
          "text": [
            "  Batch    20  of  3,511.    Elapsed: 0:00:04.    Loss: 1.1396169662475586.\n",
            "  Batch    20  of  3,511.    Elapsed: 0:00:04.    Loss: 1.1396169662475586.\n",
            "  Batch    20  of  3,511.    Elapsed: 0:00:04.    Loss: 1.1396169662475586.\n",
            "  Batch    20  of  3,511.    Elapsed: 0:00:04.    Loss: 1.1396169662475586.\n"
          ]
        },
        {
          "name": "stderr",
          "output_type": "stream",
          "text": [
            "INFO:__main__:  Batch    20  of  3,511.    Elapsed: 0:00:04.    Loss: 1.1396169662475586.\n"
          ]
        },
        {
          "name": "stdout",
          "output_type": "stream",
          "text": [
            "  Batch    30  of  3,511.    Elapsed: 0:00:07.    Loss: 0.6209182143211365.\n",
            "  Batch    30  of  3,511.    Elapsed: 0:00:07.    Loss: 0.6209182143211365.\n",
            "  Batch    30  of  3,511.    Elapsed: 0:00:07.    Loss: 0.6209182143211365.\n",
            "  Batch    30  of  3,511.    Elapsed: 0:00:07.    Loss: 0.6209182143211365.\n"
          ]
        },
        {
          "name": "stderr",
          "output_type": "stream",
          "text": [
            "INFO:__main__:  Batch    30  of  3,511.    Elapsed: 0:00:07.    Loss: 0.6209182143211365.\n"
          ]
        },
        {
          "name": "stdout",
          "output_type": "stream",
          "text": [
            "  Batch    40  of  3,511.    Elapsed: 0:00:09.    Loss: 0.7222496867179871.\n",
            "  Batch    40  of  3,511.    Elapsed: 0:00:09.    Loss: 0.7222496867179871.\n",
            "  Batch    40  of  3,511.    Elapsed: 0:00:09.    Loss: 0.7222496867179871.\n",
            "  Batch    40  of  3,511.    Elapsed: 0:00:09.    Loss: 0.7222496867179871.\n"
          ]
        },
        {
          "name": "stderr",
          "output_type": "stream",
          "text": [
            "INFO:__main__:  Batch    40  of  3,511.    Elapsed: 0:00:09.    Loss: 0.7222496867179871.\n"
          ]
        },
        {
          "name": "stdout",
          "output_type": "stream",
          "text": [
            "  Batch    50  of  3,511.    Elapsed: 0:00:11.    Loss: 0.24956214427947998.\n",
            "  Batch    50  of  3,511.    Elapsed: 0:00:11.    Loss: 0.24956214427947998.\n",
            "  Batch    50  of  3,511.    Elapsed: 0:00:11.    Loss: 0.24956214427947998.\n",
            "  Batch    50  of  3,511.    Elapsed: 0:00:11.    Loss: 0.24956214427947998.\n"
          ]
        },
        {
          "name": "stderr",
          "output_type": "stream",
          "text": [
            "INFO:__main__:  Batch    50  of  3,511.    Elapsed: 0:00:11.    Loss: 0.24956214427947998.\n"
          ]
        },
        {
          "name": "stdout",
          "output_type": "stream",
          "text": [
            "  Batch    60  of  3,511.    Elapsed: 0:00:13.    Loss: 0.8569536805152893.\n",
            "  Batch    60  of  3,511.    Elapsed: 0:00:13.    Loss: 0.8569536805152893.\n",
            "  Batch    60  of  3,511.    Elapsed: 0:00:13.    Loss: 0.8569536805152893.\n",
            "  Batch    60  of  3,511.    Elapsed: 0:00:13.    Loss: 0.8569536805152893.\n"
          ]
        },
        {
          "name": "stderr",
          "output_type": "stream",
          "text": [
            "INFO:__main__:  Batch    60  of  3,511.    Elapsed: 0:00:13.    Loss: 0.8569536805152893.\n"
          ]
        },
        {
          "name": "stdout",
          "output_type": "stream",
          "text": [
            "  Batch    70  of  3,511.    Elapsed: 0:00:15.    Loss: 0.5175203680992126.\n",
            "  Batch    70  of  3,511.    Elapsed: 0:00:15.    Loss: 0.5175203680992126.\n",
            "  Batch    70  of  3,511.    Elapsed: 0:00:15.    Loss: 0.5175203680992126.\n",
            "  Batch    70  of  3,511.    Elapsed: 0:00:15.    Loss: 0.5175203680992126.\n"
          ]
        },
        {
          "name": "stderr",
          "output_type": "stream",
          "text": [
            "INFO:__main__:  Batch    70  of  3,511.    Elapsed: 0:00:15.    Loss: 0.5175203680992126.\n"
          ]
        },
        {
          "name": "stdout",
          "output_type": "stream",
          "text": [
            "  Batch    80  of  3,511.    Elapsed: 0:00:17.    Loss: 0.2653156518936157.\n",
            "  Batch    80  of  3,511.    Elapsed: 0:00:17.    Loss: 0.2653156518936157.\n",
            "  Batch    80  of  3,511.    Elapsed: 0:00:17.    Loss: 0.2653156518936157.\n",
            "  Batch    80  of  3,511.    Elapsed: 0:00:17.    Loss: 0.2653156518936157.\n"
          ]
        },
        {
          "name": "stderr",
          "output_type": "stream",
          "text": [
            "INFO:__main__:  Batch    80  of  3,511.    Elapsed: 0:00:17.    Loss: 0.2653156518936157.\n"
          ]
        },
        {
          "name": "stdout",
          "output_type": "stream",
          "text": [
            "  Batch    90  of  3,511.    Elapsed: 0:00:19.    Loss: 0.419086754322052.\n",
            "  Batch    90  of  3,511.    Elapsed: 0:00:19.    Loss: 0.419086754322052.\n",
            "  Batch    90  of  3,511.    Elapsed: 0:00:19.    Loss: 0.419086754322052.\n",
            "  Batch    90  of  3,511.    Elapsed: 0:00:19.    Loss: 0.419086754322052.\n"
          ]
        },
        {
          "name": "stderr",
          "output_type": "stream",
          "text": [
            "INFO:__main__:  Batch    90  of  3,511.    Elapsed: 0:00:19.    Loss: 0.419086754322052.\n"
          ]
        },
        {
          "name": "stdout",
          "output_type": "stream",
          "text": [
            "  Batch   100  of  3,511.    Elapsed: 0:00:21.    Loss: 0.5261414647102356.\n",
            "  Batch   100  of  3,511.    Elapsed: 0:00:21.    Loss: 0.5261414647102356.\n",
            "  Batch   100  of  3,511.    Elapsed: 0:00:21.    Loss: 0.5261414647102356.\n",
            "  Batch   100  of  3,511.    Elapsed: 0:00:21.    Loss: 0.5261414647102356.\n"
          ]
        },
        {
          "name": "stderr",
          "output_type": "stream",
          "text": [
            "INFO:__main__:  Batch   100  of  3,511.    Elapsed: 0:00:21.    Loss: 0.5261414647102356.\n"
          ]
        },
        {
          "name": "stdout",
          "output_type": "stream",
          "text": [
            "  Batch   110  of  3,511.    Elapsed: 0:00:24.    Loss: 0.31248360872268677.\n",
            "  Batch   110  of  3,511.    Elapsed: 0:00:24.    Loss: 0.31248360872268677.\n",
            "  Batch   110  of  3,511.    Elapsed: 0:00:24.    Loss: 0.31248360872268677.\n",
            "  Batch   110  of  3,511.    Elapsed: 0:00:24.    Loss: 0.31248360872268677.\n"
          ]
        },
        {
          "name": "stderr",
          "output_type": "stream",
          "text": [
            "INFO:__main__:  Batch   110  of  3,511.    Elapsed: 0:00:24.    Loss: 0.31248360872268677.\n"
          ]
        },
        {
          "name": "stdout",
          "output_type": "stream",
          "text": [
            "  Batch   120  of  3,511.    Elapsed: 0:00:26.    Loss: 0.7047669291496277.\n",
            "  Batch   120  of  3,511.    Elapsed: 0:00:26.    Loss: 0.7047669291496277.\n",
            "  Batch   120  of  3,511.    Elapsed: 0:00:26.    Loss: 0.7047669291496277.\n",
            "  Batch   120  of  3,511.    Elapsed: 0:00:26.    Loss: 0.7047669291496277.\n"
          ]
        },
        {
          "name": "stderr",
          "output_type": "stream",
          "text": [
            "INFO:__main__:  Batch   120  of  3,511.    Elapsed: 0:00:26.    Loss: 0.7047669291496277.\n"
          ]
        },
        {
          "name": "stdout",
          "output_type": "stream",
          "text": [
            "  Batch   130  of  3,511.    Elapsed: 0:00:28.    Loss: 0.22572967410087585.\n",
            "  Batch   130  of  3,511.    Elapsed: 0:00:28.    Loss: 0.22572967410087585.\n",
            "  Batch   130  of  3,511.    Elapsed: 0:00:28.    Loss: 0.22572967410087585.\n",
            "  Batch   130  of  3,511.    Elapsed: 0:00:28.    Loss: 0.22572967410087585.\n"
          ]
        },
        {
          "name": "stderr",
          "output_type": "stream",
          "text": [
            "INFO:__main__:  Batch   130  of  3,511.    Elapsed: 0:00:28.    Loss: 0.22572967410087585.\n"
          ]
        },
        {
          "name": "stdout",
          "output_type": "stream",
          "text": [
            "  Batch   140  of  3,511.    Elapsed: 0:00:30.    Loss: 0.22261522710323334.\n",
            "  Batch   140  of  3,511.    Elapsed: 0:00:30.    Loss: 0.22261522710323334.\n",
            "  Batch   140  of  3,511.    Elapsed: 0:00:30.    Loss: 0.22261522710323334.\n",
            "  Batch   140  of  3,511.    Elapsed: 0:00:30.    Loss: 0.22261522710323334.\n"
          ]
        },
        {
          "name": "stderr",
          "output_type": "stream",
          "text": [
            "INFO:__main__:  Batch   140  of  3,511.    Elapsed: 0:00:30.    Loss: 0.22261522710323334.\n"
          ]
        },
        {
          "name": "stdout",
          "output_type": "stream",
          "text": [
            "  Batch   150  of  3,511.    Elapsed: 0:00:32.    Loss: 0.1442883312702179.\n",
            "  Batch   150  of  3,511.    Elapsed: 0:00:32.    Loss: 0.1442883312702179.\n",
            "  Batch   150  of  3,511.    Elapsed: 0:00:32.    Loss: 0.1442883312702179.\n",
            "  Batch   150  of  3,511.    Elapsed: 0:00:32.    Loss: 0.1442883312702179.\n"
          ]
        },
        {
          "name": "stderr",
          "output_type": "stream",
          "text": [
            "INFO:__main__:  Batch   150  of  3,511.    Elapsed: 0:00:32.    Loss: 0.1442883312702179.\n"
          ]
        },
        {
          "name": "stdout",
          "output_type": "stream",
          "text": [
            "  Batch   160  of  3,511.    Elapsed: 0:00:34.    Loss: 0.15747001767158508.\n",
            "  Batch   160  of  3,511.    Elapsed: 0:00:34.    Loss: 0.15747001767158508.\n",
            "  Batch   160  of  3,511.    Elapsed: 0:00:34.    Loss: 0.15747001767158508.\n",
            "  Batch   160  of  3,511.    Elapsed: 0:00:34.    Loss: 0.15747001767158508.\n"
          ]
        },
        {
          "name": "stderr",
          "output_type": "stream",
          "text": [
            "INFO:__main__:  Batch   160  of  3,511.    Elapsed: 0:00:34.    Loss: 0.15747001767158508.\n"
          ]
        },
        {
          "name": "stdout",
          "output_type": "stream",
          "text": [
            "  Batch   170  of  3,511.    Elapsed: 0:00:36.    Loss: 0.6031147837638855.\n",
            "  Batch   170  of  3,511.    Elapsed: 0:00:36.    Loss: 0.6031147837638855.\n",
            "  Batch   170  of  3,511.    Elapsed: 0:00:36.    Loss: 0.6031147837638855.\n",
            "  Batch   170  of  3,511.    Elapsed: 0:00:36.    Loss: 0.6031147837638855.\n"
          ]
        },
        {
          "name": "stderr",
          "output_type": "stream",
          "text": [
            "INFO:__main__:  Batch   170  of  3,511.    Elapsed: 0:00:36.    Loss: 0.6031147837638855.\n"
          ]
        },
        {
          "name": "stdout",
          "output_type": "stream",
          "text": [
            "  Batch   180  of  3,511.    Elapsed: 0:00:38.    Loss: 0.4792969822883606.\n",
            "  Batch   180  of  3,511.    Elapsed: 0:00:38.    Loss: 0.4792969822883606.\n",
            "  Batch   180  of  3,511.    Elapsed: 0:00:38.    Loss: 0.4792969822883606.\n",
            "  Batch   180  of  3,511.    Elapsed: 0:00:38.    Loss: 0.4792969822883606.\n"
          ]
        },
        {
          "name": "stderr",
          "output_type": "stream",
          "text": [
            "INFO:__main__:  Batch   180  of  3,511.    Elapsed: 0:00:38.    Loss: 0.4792969822883606.\n"
          ]
        },
        {
          "name": "stdout",
          "output_type": "stream",
          "text": [
            "  Batch   190  of  3,511.    Elapsed: 0:00:40.    Loss: 0.20524735748767853.\n",
            "  Batch   190  of  3,511.    Elapsed: 0:00:40.    Loss: 0.20524735748767853.\n",
            "  Batch   190  of  3,511.    Elapsed: 0:00:40.    Loss: 0.20524735748767853.\n",
            "  Batch   190  of  3,511.    Elapsed: 0:00:40.    Loss: 0.20524735748767853.\n"
          ]
        },
        {
          "name": "stderr",
          "output_type": "stream",
          "text": [
            "INFO:__main__:  Batch   190  of  3,511.    Elapsed: 0:00:40.    Loss: 0.20524735748767853.\n"
          ]
        },
        {
          "name": "stdout",
          "output_type": "stream",
          "text": [
            "  Batch   200  of  3,511.    Elapsed: 0:00:42.    Loss: 0.09586215764284134.\n",
            "  Batch   200  of  3,511.    Elapsed: 0:00:42.    Loss: 0.09586215764284134.\n",
            "  Batch   200  of  3,511.    Elapsed: 0:00:42.    Loss: 0.09586215764284134.\n",
            "  Batch   200  of  3,511.    Elapsed: 0:00:42.    Loss: 0.09586215764284134.\n"
          ]
        },
        {
          "name": "stderr",
          "output_type": "stream",
          "text": [
            "INFO:__main__:  Batch   200  of  3,511.    Elapsed: 0:00:42.    Loss: 0.09586215764284134.\n"
          ]
        },
        {
          "name": "stdout",
          "output_type": "stream",
          "text": [
            "  Batch   210  of  3,511.    Elapsed: 0:00:44.    Loss: 0.16355831921100616.\n",
            "  Batch   210  of  3,511.    Elapsed: 0:00:44.    Loss: 0.16355831921100616.\n",
            "  Batch   210  of  3,511.    Elapsed: 0:00:44.    Loss: 0.16355831921100616.\n",
            "  Batch   210  of  3,511.    Elapsed: 0:00:44.    Loss: 0.16355831921100616.\n"
          ]
        },
        {
          "name": "stderr",
          "output_type": "stream",
          "text": [
            "INFO:__main__:  Batch   210  of  3,511.    Elapsed: 0:00:44.    Loss: 0.16355831921100616.\n"
          ]
        },
        {
          "name": "stdout",
          "output_type": "stream",
          "text": [
            "  Batch   220  of  3,511.    Elapsed: 0:00:46.    Loss: 0.10158085078001022.\n",
            "  Batch   220  of  3,511.    Elapsed: 0:00:46.    Loss: 0.10158085078001022.\n",
            "  Batch   220  of  3,511.    Elapsed: 0:00:46.    Loss: 0.10158085078001022.\n",
            "  Batch   220  of  3,511.    Elapsed: 0:00:46.    Loss: 0.10158085078001022.\n"
          ]
        },
        {
          "name": "stderr",
          "output_type": "stream",
          "text": [
            "INFO:__main__:  Batch   220  of  3,511.    Elapsed: 0:00:46.    Loss: 0.10158085078001022.\n"
          ]
        },
        {
          "name": "stdout",
          "output_type": "stream",
          "text": [
            "  Batch   230  of  3,511.    Elapsed: 0:00:48.    Loss: 0.36494889855384827.\n",
            "  Batch   230  of  3,511.    Elapsed: 0:00:48.    Loss: 0.36494889855384827.\n",
            "  Batch   230  of  3,511.    Elapsed: 0:00:48.    Loss: 0.36494889855384827.\n",
            "  Batch   230  of  3,511.    Elapsed: 0:00:48.    Loss: 0.36494889855384827.\n"
          ]
        },
        {
          "name": "stderr",
          "output_type": "stream",
          "text": [
            "INFO:__main__:  Batch   230  of  3,511.    Elapsed: 0:00:48.    Loss: 0.36494889855384827.\n"
          ]
        },
        {
          "name": "stdout",
          "output_type": "stream",
          "text": [
            "  Batch   240  of  3,511.    Elapsed: 0:00:50.    Loss: 0.28401634097099304.\n",
            "  Batch   240  of  3,511.    Elapsed: 0:00:50.    Loss: 0.28401634097099304.\n",
            "  Batch   240  of  3,511.    Elapsed: 0:00:50.    Loss: 0.28401634097099304.\n",
            "  Batch   240  of  3,511.    Elapsed: 0:00:50.    Loss: 0.28401634097099304.\n"
          ]
        },
        {
          "name": "stderr",
          "output_type": "stream",
          "text": [
            "INFO:__main__:  Batch   240  of  3,511.    Elapsed: 0:00:50.    Loss: 0.28401634097099304.\n"
          ]
        },
        {
          "name": "stdout",
          "output_type": "stream",
          "text": [
            "  Batch   250  of  3,511.    Elapsed: 0:00:52.    Loss: 0.25325527787208557.\n",
            "  Batch   250  of  3,511.    Elapsed: 0:00:52.    Loss: 0.25325527787208557.\n",
            "  Batch   250  of  3,511.    Elapsed: 0:00:52.    Loss: 0.25325527787208557.\n",
            "  Batch   250  of  3,511.    Elapsed: 0:00:52.    Loss: 0.25325527787208557.\n"
          ]
        },
        {
          "name": "stderr",
          "output_type": "stream",
          "text": [
            "INFO:__main__:  Batch   250  of  3,511.    Elapsed: 0:00:52.    Loss: 0.25325527787208557.\n"
          ]
        },
        {
          "name": "stdout",
          "output_type": "stream",
          "text": [
            "  Batch   260  of  3,511.    Elapsed: 0:00:54.    Loss: 0.2068926841020584.\n",
            "  Batch   260  of  3,511.    Elapsed: 0:00:54.    Loss: 0.2068926841020584.\n",
            "  Batch   260  of  3,511.    Elapsed: 0:00:54.    Loss: 0.2068926841020584.\n",
            "  Batch   260  of  3,511.    Elapsed: 0:00:54.    Loss: 0.2068926841020584.\n"
          ]
        },
        {
          "name": "stderr",
          "output_type": "stream",
          "text": [
            "INFO:__main__:  Batch   260  of  3,511.    Elapsed: 0:00:54.    Loss: 0.2068926841020584.\n"
          ]
        },
        {
          "name": "stdout",
          "output_type": "stream",
          "text": [
            "  Batch   270  of  3,511.    Elapsed: 0:00:57.    Loss: 0.11040806025266647.\n",
            "  Batch   270  of  3,511.    Elapsed: 0:00:57.    Loss: 0.11040806025266647.\n",
            "  Batch   270  of  3,511.    Elapsed: 0:00:57.    Loss: 0.11040806025266647.\n",
            "  Batch   270  of  3,511.    Elapsed: 0:00:57.    Loss: 0.11040806025266647.\n"
          ]
        },
        {
          "name": "stderr",
          "output_type": "stream",
          "text": [
            "INFO:__main__:  Batch   270  of  3,511.    Elapsed: 0:00:57.    Loss: 0.11040806025266647.\n"
          ]
        },
        {
          "name": "stdout",
          "output_type": "stream",
          "text": [
            "  Batch   280  of  3,511.    Elapsed: 0:00:59.    Loss: 0.27733081579208374.\n",
            "  Batch   280  of  3,511.    Elapsed: 0:00:59.    Loss: 0.27733081579208374.\n",
            "  Batch   280  of  3,511.    Elapsed: 0:00:59.    Loss: 0.27733081579208374.\n",
            "  Batch   280  of  3,511.    Elapsed: 0:00:59.    Loss: 0.27733081579208374.\n"
          ]
        },
        {
          "name": "stderr",
          "output_type": "stream",
          "text": [
            "INFO:__main__:  Batch   280  of  3,511.    Elapsed: 0:00:59.    Loss: 0.27733081579208374.\n"
          ]
        },
        {
          "name": "stdout",
          "output_type": "stream",
          "text": [
            "  Batch   290  of  3,511.    Elapsed: 0:01:01.    Loss: 0.019291648641228676.\n",
            "  Batch   290  of  3,511.    Elapsed: 0:01:01.    Loss: 0.019291648641228676.\n",
            "  Batch   290  of  3,511.    Elapsed: 0:01:01.    Loss: 0.019291648641228676.\n",
            "  Batch   290  of  3,511.    Elapsed: 0:01:01.    Loss: 0.019291648641228676.\n"
          ]
        },
        {
          "name": "stderr",
          "output_type": "stream",
          "text": [
            "INFO:__main__:  Batch   290  of  3,511.    Elapsed: 0:01:01.    Loss: 0.019291648641228676.\n"
          ]
        },
        {
          "name": "stdout",
          "output_type": "stream",
          "text": [
            "  Batch   300  of  3,511.    Elapsed: 0:01:03.    Loss: 0.2922499477863312.\n",
            "  Batch   300  of  3,511.    Elapsed: 0:01:03.    Loss: 0.2922499477863312.\n",
            "  Batch   300  of  3,511.    Elapsed: 0:01:03.    Loss: 0.2922499477863312.\n",
            "  Batch   300  of  3,511.    Elapsed: 0:01:03.    Loss: 0.2922499477863312.\n"
          ]
        },
        {
          "name": "stderr",
          "output_type": "stream",
          "text": [
            "INFO:__main__:  Batch   300  of  3,511.    Elapsed: 0:01:03.    Loss: 0.2922499477863312.\n"
          ]
        },
        {
          "name": "stdout",
          "output_type": "stream",
          "text": [
            "  Batch   310  of  3,511.    Elapsed: 0:01:05.    Loss: 0.1713249683380127.\n",
            "  Batch   310  of  3,511.    Elapsed: 0:01:05.    Loss: 0.1713249683380127.\n",
            "  Batch   310  of  3,511.    Elapsed: 0:01:05.    Loss: 0.1713249683380127.\n",
            "  Batch   310  of  3,511.    Elapsed: 0:01:05.    Loss: 0.1713249683380127.\n"
          ]
        },
        {
          "name": "stderr",
          "output_type": "stream",
          "text": [
            "INFO:__main__:  Batch   310  of  3,511.    Elapsed: 0:01:05.    Loss: 0.1713249683380127.\n"
          ]
        },
        {
          "name": "stdout",
          "output_type": "stream",
          "text": [
            "  Batch   320  of  3,511.    Elapsed: 0:01:07.    Loss: 0.3841073513031006.\n",
            "  Batch   320  of  3,511.    Elapsed: 0:01:07.    Loss: 0.3841073513031006.\n",
            "  Batch   320  of  3,511.    Elapsed: 0:01:07.    Loss: 0.3841073513031006.\n",
            "  Batch   320  of  3,511.    Elapsed: 0:01:07.    Loss: 0.3841073513031006.\n"
          ]
        },
        {
          "name": "stderr",
          "output_type": "stream",
          "text": [
            "INFO:__main__:  Batch   320  of  3,511.    Elapsed: 0:01:07.    Loss: 0.3841073513031006.\n"
          ]
        },
        {
          "name": "stdout",
          "output_type": "stream",
          "text": [
            "  Batch   330  of  3,511.    Elapsed: 0:01:09.    Loss: 0.16508354246616364.\n",
            "  Batch   330  of  3,511.    Elapsed: 0:01:09.    Loss: 0.16508354246616364.\n",
            "  Batch   330  of  3,511.    Elapsed: 0:01:09.    Loss: 0.16508354246616364.\n",
            "  Batch   330  of  3,511.    Elapsed: 0:01:09.    Loss: 0.16508354246616364.\n"
          ]
        },
        {
          "name": "stderr",
          "output_type": "stream",
          "text": [
            "INFO:__main__:  Batch   330  of  3,511.    Elapsed: 0:01:09.    Loss: 0.16508354246616364.\n"
          ]
        },
        {
          "name": "stdout",
          "output_type": "stream",
          "text": [
            "  Batch   340  of  3,511.    Elapsed: 0:01:11.    Loss: 0.1443835347890854.\n",
            "  Batch   340  of  3,511.    Elapsed: 0:01:11.    Loss: 0.1443835347890854.\n",
            "  Batch   340  of  3,511.    Elapsed: 0:01:11.    Loss: 0.1443835347890854.\n",
            "  Batch   340  of  3,511.    Elapsed: 0:01:11.    Loss: 0.1443835347890854.\n"
          ]
        },
        {
          "name": "stderr",
          "output_type": "stream",
          "text": [
            "INFO:__main__:  Batch   340  of  3,511.    Elapsed: 0:01:11.    Loss: 0.1443835347890854.\n"
          ]
        },
        {
          "name": "stdout",
          "output_type": "stream",
          "text": [
            "  Batch   350  of  3,511.    Elapsed: 0:01:13.    Loss: 0.12117336690425873.\n",
            "  Batch   350  of  3,511.    Elapsed: 0:01:13.    Loss: 0.12117336690425873.\n",
            "  Batch   350  of  3,511.    Elapsed: 0:01:13.    Loss: 0.12117336690425873.\n",
            "  Batch   350  of  3,511.    Elapsed: 0:01:13.    Loss: 0.12117336690425873.\n"
          ]
        },
        {
          "name": "stderr",
          "output_type": "stream",
          "text": [
            "INFO:__main__:  Batch   350  of  3,511.    Elapsed: 0:01:13.    Loss: 0.12117336690425873.\n"
          ]
        },
        {
          "name": "stdout",
          "output_type": "stream",
          "text": [
            "  Batch   360  of  3,511.    Elapsed: 0:01:15.    Loss: 0.052792228758335114.\n",
            "  Batch   360  of  3,511.    Elapsed: 0:01:15.    Loss: 0.052792228758335114.\n",
            "  Batch   360  of  3,511.    Elapsed: 0:01:15.    Loss: 0.052792228758335114.\n",
            "  Batch   360  of  3,511.    Elapsed: 0:01:15.    Loss: 0.052792228758335114.\n"
          ]
        },
        {
          "name": "stderr",
          "output_type": "stream",
          "text": [
            "INFO:__main__:  Batch   360  of  3,511.    Elapsed: 0:01:15.    Loss: 0.052792228758335114.\n"
          ]
        },
        {
          "name": "stdout",
          "output_type": "stream",
          "text": [
            "  Batch   370  of  3,511.    Elapsed: 0:01:17.    Loss: 0.056247465312480927.\n",
            "  Batch   370  of  3,511.    Elapsed: 0:01:17.    Loss: 0.056247465312480927.\n",
            "  Batch   370  of  3,511.    Elapsed: 0:01:17.    Loss: 0.056247465312480927.\n",
            "  Batch   370  of  3,511.    Elapsed: 0:01:17.    Loss: 0.056247465312480927.\n"
          ]
        },
        {
          "name": "stderr",
          "output_type": "stream",
          "text": [
            "INFO:__main__:  Batch   370  of  3,511.    Elapsed: 0:01:17.    Loss: 0.056247465312480927.\n"
          ]
        },
        {
          "name": "stdout",
          "output_type": "stream",
          "text": [
            "  Batch   380  of  3,511.    Elapsed: 0:01:19.    Loss: 0.07852163165807724.\n",
            "  Batch   380  of  3,511.    Elapsed: 0:01:19.    Loss: 0.07852163165807724.\n",
            "  Batch   380  of  3,511.    Elapsed: 0:01:19.    Loss: 0.07852163165807724.\n",
            "  Batch   380  of  3,511.    Elapsed: 0:01:19.    Loss: 0.07852163165807724.\n"
          ]
        },
        {
          "name": "stderr",
          "output_type": "stream",
          "text": [
            "INFO:__main__:  Batch   380  of  3,511.    Elapsed: 0:01:19.    Loss: 0.07852163165807724.\n"
          ]
        },
        {
          "name": "stdout",
          "output_type": "stream",
          "text": [
            "  Batch   390  of  3,511.    Elapsed: 0:01:21.    Loss: 0.11750168353319168.\n",
            "  Batch   390  of  3,511.    Elapsed: 0:01:21.    Loss: 0.11750168353319168.\n",
            "  Batch   390  of  3,511.    Elapsed: 0:01:21.    Loss: 0.11750168353319168.\n",
            "  Batch   390  of  3,511.    Elapsed: 0:01:21.    Loss: 0.11750168353319168.\n"
          ]
        },
        {
          "name": "stderr",
          "output_type": "stream",
          "text": [
            "INFO:__main__:  Batch   390  of  3,511.    Elapsed: 0:01:21.    Loss: 0.11750168353319168.\n"
          ]
        },
        {
          "name": "stdout",
          "output_type": "stream",
          "text": [
            "  Batch   400  of  3,511.    Elapsed: 0:01:23.    Loss: 0.13565848767757416.\n",
            "  Batch   400  of  3,511.    Elapsed: 0:01:23.    Loss: 0.13565848767757416.\n",
            "  Batch   400  of  3,511.    Elapsed: 0:01:23.    Loss: 0.13565848767757416.\n",
            "  Batch   400  of  3,511.    Elapsed: 0:01:23.    Loss: 0.13565848767757416.\n"
          ]
        },
        {
          "name": "stderr",
          "output_type": "stream",
          "text": [
            "INFO:__main__:  Batch   400  of  3,511.    Elapsed: 0:01:23.    Loss: 0.13565848767757416.\n"
          ]
        },
        {
          "name": "stdout",
          "output_type": "stream",
          "text": [
            "  Batch   410  of  3,511.    Elapsed: 0:01:25.    Loss: 0.12056247889995575.\n",
            "  Batch   410  of  3,511.    Elapsed: 0:01:25.    Loss: 0.12056247889995575.\n",
            "  Batch   410  of  3,511.    Elapsed: 0:01:25.    Loss: 0.12056247889995575.\n",
            "  Batch   410  of  3,511.    Elapsed: 0:01:25.    Loss: 0.12056247889995575.\n"
          ]
        },
        {
          "name": "stderr",
          "output_type": "stream",
          "text": [
            "INFO:__main__:  Batch   410  of  3,511.    Elapsed: 0:01:25.    Loss: 0.12056247889995575.\n"
          ]
        },
        {
          "name": "stdout",
          "output_type": "stream",
          "text": [
            "  Batch   420  of  3,511.    Elapsed: 0:01:27.    Loss: 0.7660216093063354.\n",
            "  Batch   420  of  3,511.    Elapsed: 0:01:27.    Loss: 0.7660216093063354.\n",
            "  Batch   420  of  3,511.    Elapsed: 0:01:27.    Loss: 0.7660216093063354.\n",
            "  Batch   420  of  3,511.    Elapsed: 0:01:27.    Loss: 0.7660216093063354.\n"
          ]
        },
        {
          "name": "stderr",
          "output_type": "stream",
          "text": [
            "INFO:__main__:  Batch   420  of  3,511.    Elapsed: 0:01:27.    Loss: 0.7660216093063354.\n"
          ]
        },
        {
          "name": "stdout",
          "output_type": "stream",
          "text": [
            "  Batch   430  of  3,511.    Elapsed: 0:01:29.    Loss: 0.08006298542022705.\n",
            "  Batch   430  of  3,511.    Elapsed: 0:01:29.    Loss: 0.08006298542022705.\n",
            "  Batch   430  of  3,511.    Elapsed: 0:01:29.    Loss: 0.08006298542022705.\n",
            "  Batch   430  of  3,511.    Elapsed: 0:01:29.    Loss: 0.08006298542022705.\n"
          ]
        },
        {
          "name": "stderr",
          "output_type": "stream",
          "text": [
            "INFO:__main__:  Batch   430  of  3,511.    Elapsed: 0:01:29.    Loss: 0.08006298542022705.\n"
          ]
        },
        {
          "name": "stdout",
          "output_type": "stream",
          "text": [
            "  Batch   440  of  3,511.    Elapsed: 0:01:31.    Loss: 0.16279412806034088.\n",
            "  Batch   440  of  3,511.    Elapsed: 0:01:31.    Loss: 0.16279412806034088.\n",
            "  Batch   440  of  3,511.    Elapsed: 0:01:31.    Loss: 0.16279412806034088.\n",
            "  Batch   440  of  3,511.    Elapsed: 0:01:31.    Loss: 0.16279412806034088.\n"
          ]
        },
        {
          "name": "stderr",
          "output_type": "stream",
          "text": [
            "INFO:__main__:  Batch   440  of  3,511.    Elapsed: 0:01:31.    Loss: 0.16279412806034088.\n"
          ]
        },
        {
          "name": "stdout",
          "output_type": "stream",
          "text": [
            "  Batch   450  of  3,511.    Elapsed: 0:01:33.    Loss: 0.0035543644335120916.\n",
            "  Batch   450  of  3,511.    Elapsed: 0:01:33.    Loss: 0.0035543644335120916.\n",
            "  Batch   450  of  3,511.    Elapsed: 0:01:33.    Loss: 0.0035543644335120916.\n",
            "  Batch   450  of  3,511.    Elapsed: 0:01:33.    Loss: 0.0035543644335120916.\n"
          ]
        },
        {
          "name": "stderr",
          "output_type": "stream",
          "text": [
            "INFO:__main__:  Batch   450  of  3,511.    Elapsed: 0:01:33.    Loss: 0.0035543644335120916.\n"
          ]
        },
        {
          "name": "stdout",
          "output_type": "stream",
          "text": [
            "  Batch   460  of  3,511.    Elapsed: 0:01:35.    Loss: 0.02139158919453621.\n",
            "  Batch   460  of  3,511.    Elapsed: 0:01:35.    Loss: 0.02139158919453621.\n",
            "  Batch   460  of  3,511.    Elapsed: 0:01:35.    Loss: 0.02139158919453621.\n",
            "  Batch   460  of  3,511.    Elapsed: 0:01:35.    Loss: 0.02139158919453621.\n"
          ]
        },
        {
          "name": "stderr",
          "output_type": "stream",
          "text": [
            "INFO:__main__:  Batch   460  of  3,511.    Elapsed: 0:01:35.    Loss: 0.02139158919453621.\n"
          ]
        },
        {
          "name": "stdout",
          "output_type": "stream",
          "text": [
            "  Batch   470  of  3,511.    Elapsed: 0:01:37.    Loss: 0.01460353285074234.\n",
            "  Batch   470  of  3,511.    Elapsed: 0:01:37.    Loss: 0.01460353285074234.\n",
            "  Batch   470  of  3,511.    Elapsed: 0:01:37.    Loss: 0.01460353285074234.\n",
            "  Batch   470  of  3,511.    Elapsed: 0:01:37.    Loss: 0.01460353285074234.\n"
          ]
        },
        {
          "name": "stderr",
          "output_type": "stream",
          "text": [
            "INFO:__main__:  Batch   470  of  3,511.    Elapsed: 0:01:37.    Loss: 0.01460353285074234.\n"
          ]
        },
        {
          "name": "stdout",
          "output_type": "stream",
          "text": [
            "  Batch   480  of  3,511.    Elapsed: 0:01:39.    Loss: 0.22760196030139923.\n",
            "  Batch   480  of  3,511.    Elapsed: 0:01:39.    Loss: 0.22760196030139923.\n",
            "  Batch   480  of  3,511.    Elapsed: 0:01:39.    Loss: 0.22760196030139923.\n",
            "  Batch   480  of  3,511.    Elapsed: 0:01:39.    Loss: 0.22760196030139923.\n"
          ]
        },
        {
          "name": "stderr",
          "output_type": "stream",
          "text": [
            "INFO:__main__:  Batch   480  of  3,511.    Elapsed: 0:01:39.    Loss: 0.22760196030139923.\n"
          ]
        },
        {
          "name": "stdout",
          "output_type": "stream",
          "text": [
            "  Batch   490  of  3,511.    Elapsed: 0:01:41.    Loss: 0.017488328740000725.\n",
            "  Batch   490  of  3,511.    Elapsed: 0:01:41.    Loss: 0.017488328740000725.\n",
            "  Batch   490  of  3,511.    Elapsed: 0:01:41.    Loss: 0.017488328740000725.\n",
            "  Batch   490  of  3,511.    Elapsed: 0:01:41.    Loss: 0.017488328740000725.\n"
          ]
        },
        {
          "name": "stderr",
          "output_type": "stream",
          "text": [
            "INFO:__main__:  Batch   490  of  3,511.    Elapsed: 0:01:41.    Loss: 0.017488328740000725.\n"
          ]
        },
        {
          "name": "stdout",
          "output_type": "stream",
          "text": [
            "  Batch   500  of  3,511.    Elapsed: 0:01:44.    Loss: 0.174134761095047.\n",
            "  Batch   500  of  3,511.    Elapsed: 0:01:44.    Loss: 0.174134761095047.\n",
            "  Batch   500  of  3,511.    Elapsed: 0:01:44.    Loss: 0.174134761095047.\n",
            "  Batch   500  of  3,511.    Elapsed: 0:01:44.    Loss: 0.174134761095047.\n"
          ]
        },
        {
          "name": "stderr",
          "output_type": "stream",
          "text": [
            "INFO:__main__:  Batch   500  of  3,511.    Elapsed: 0:01:44.    Loss: 0.174134761095047.\n"
          ]
        },
        {
          "name": "stdout",
          "output_type": "stream",
          "text": [
            "  Batch   510  of  3,511.    Elapsed: 0:01:46.    Loss: 0.019764721393585205.\n",
            "  Batch   510  of  3,511.    Elapsed: 0:01:46.    Loss: 0.019764721393585205.\n",
            "  Batch   510  of  3,511.    Elapsed: 0:01:46.    Loss: 0.019764721393585205.\n",
            "  Batch   510  of  3,511.    Elapsed: 0:01:46.    Loss: 0.019764721393585205.\n"
          ]
        },
        {
          "name": "stderr",
          "output_type": "stream",
          "text": [
            "INFO:__main__:  Batch   510  of  3,511.    Elapsed: 0:01:46.    Loss: 0.019764721393585205.\n"
          ]
        },
        {
          "name": "stdout",
          "output_type": "stream",
          "text": [
            "  Batch   520  of  3,511.    Elapsed: 0:01:48.    Loss: 0.026421761140227318.\n",
            "  Batch   520  of  3,511.    Elapsed: 0:01:48.    Loss: 0.026421761140227318.\n",
            "  Batch   520  of  3,511.    Elapsed: 0:01:48.    Loss: 0.026421761140227318.\n",
            "  Batch   520  of  3,511.    Elapsed: 0:01:48.    Loss: 0.026421761140227318.\n"
          ]
        },
        {
          "name": "stderr",
          "output_type": "stream",
          "text": [
            "INFO:__main__:  Batch   520  of  3,511.    Elapsed: 0:01:48.    Loss: 0.026421761140227318.\n"
          ]
        },
        {
          "name": "stdout",
          "output_type": "stream",
          "text": [
            "  Batch   530  of  3,511.    Elapsed: 0:01:50.    Loss: 0.06956851482391357.\n",
            "  Batch   530  of  3,511.    Elapsed: 0:01:50.    Loss: 0.06956851482391357.\n",
            "  Batch   530  of  3,511.    Elapsed: 0:01:50.    Loss: 0.06956851482391357.\n",
            "  Batch   530  of  3,511.    Elapsed: 0:01:50.    Loss: 0.06956851482391357.\n"
          ]
        },
        {
          "name": "stderr",
          "output_type": "stream",
          "text": [
            "INFO:__main__:  Batch   530  of  3,511.    Elapsed: 0:01:50.    Loss: 0.06956851482391357.\n"
          ]
        },
        {
          "name": "stdout",
          "output_type": "stream",
          "text": [
            "  Batch   540  of  3,511.    Elapsed: 0:01:52.    Loss: 0.01074819453060627.\n",
            "  Batch   540  of  3,511.    Elapsed: 0:01:52.    Loss: 0.01074819453060627.\n",
            "  Batch   540  of  3,511.    Elapsed: 0:01:52.    Loss: 0.01074819453060627.\n",
            "  Batch   540  of  3,511.    Elapsed: 0:01:52.    Loss: 0.01074819453060627.\n"
          ]
        },
        {
          "name": "stderr",
          "output_type": "stream",
          "text": [
            "INFO:__main__:  Batch   540  of  3,511.    Elapsed: 0:01:52.    Loss: 0.01074819453060627.\n"
          ]
        },
        {
          "name": "stdout",
          "output_type": "stream",
          "text": [
            "  Batch   550  of  3,511.    Elapsed: 0:01:54.    Loss: 0.037560347467660904.\n",
            "  Batch   550  of  3,511.    Elapsed: 0:01:54.    Loss: 0.037560347467660904.\n",
            "  Batch   550  of  3,511.    Elapsed: 0:01:54.    Loss: 0.037560347467660904.\n",
            "  Batch   550  of  3,511.    Elapsed: 0:01:54.    Loss: 0.037560347467660904.\n"
          ]
        },
        {
          "name": "stderr",
          "output_type": "stream",
          "text": [
            "INFO:__main__:  Batch   550  of  3,511.    Elapsed: 0:01:54.    Loss: 0.037560347467660904.\n"
          ]
        },
        {
          "name": "stdout",
          "output_type": "stream",
          "text": [
            "  Batch   560  of  3,511.    Elapsed: 0:01:56.    Loss: 0.0050928546115756035.\n",
            "  Batch   560  of  3,511.    Elapsed: 0:01:56.    Loss: 0.0050928546115756035.\n",
            "  Batch   560  of  3,511.    Elapsed: 0:01:56.    Loss: 0.0050928546115756035.\n",
            "  Batch   560  of  3,511.    Elapsed: 0:01:56.    Loss: 0.0050928546115756035.\n"
          ]
        },
        {
          "name": "stderr",
          "output_type": "stream",
          "text": [
            "INFO:__main__:  Batch   560  of  3,511.    Elapsed: 0:01:56.    Loss: 0.0050928546115756035.\n"
          ]
        },
        {
          "name": "stdout",
          "output_type": "stream",
          "text": [
            "  Batch   570  of  3,511.    Elapsed: 0:01:58.    Loss: 0.09056445956230164.\n",
            "  Batch   570  of  3,511.    Elapsed: 0:01:58.    Loss: 0.09056445956230164.\n",
            "  Batch   570  of  3,511.    Elapsed: 0:01:58.    Loss: 0.09056445956230164.\n",
            "  Batch   570  of  3,511.    Elapsed: 0:01:58.    Loss: 0.09056445956230164.\n"
          ]
        },
        {
          "name": "stderr",
          "output_type": "stream",
          "text": [
            "INFO:__main__:  Batch   570  of  3,511.    Elapsed: 0:01:58.    Loss: 0.09056445956230164.\n"
          ]
        },
        {
          "name": "stdout",
          "output_type": "stream",
          "text": [
            "  Batch   580  of  3,511.    Elapsed: 0:02:00.    Loss: 0.008407460525631905.\n",
            "  Batch   580  of  3,511.    Elapsed: 0:02:00.    Loss: 0.008407460525631905.\n",
            "  Batch   580  of  3,511.    Elapsed: 0:02:00.    Loss: 0.008407460525631905.\n",
            "  Batch   580  of  3,511.    Elapsed: 0:02:00.    Loss: 0.008407460525631905.\n"
          ]
        },
        {
          "name": "stderr",
          "output_type": "stream",
          "text": [
            "INFO:__main__:  Batch   580  of  3,511.    Elapsed: 0:02:00.    Loss: 0.008407460525631905.\n"
          ]
        },
        {
          "name": "stdout",
          "output_type": "stream",
          "text": [
            "  Batch   590  of  3,511.    Elapsed: 0:02:02.    Loss: 0.027194105088710785.\n",
            "  Batch   590  of  3,511.    Elapsed: 0:02:02.    Loss: 0.027194105088710785.\n",
            "  Batch   590  of  3,511.    Elapsed: 0:02:02.    Loss: 0.027194105088710785.\n",
            "  Batch   590  of  3,511.    Elapsed: 0:02:02.    Loss: 0.027194105088710785.\n"
          ]
        },
        {
          "name": "stderr",
          "output_type": "stream",
          "text": [
            "INFO:__main__:  Batch   590  of  3,511.    Elapsed: 0:02:02.    Loss: 0.027194105088710785.\n"
          ]
        },
        {
          "name": "stdout",
          "output_type": "stream",
          "text": [
            "  Batch   600  of  3,511.    Elapsed: 0:02:04.    Loss: 0.029162410646677017.\n",
            "  Batch   600  of  3,511.    Elapsed: 0:02:04.    Loss: 0.029162410646677017.\n",
            "  Batch   600  of  3,511.    Elapsed: 0:02:04.    Loss: 0.029162410646677017.\n",
            "  Batch   600  of  3,511.    Elapsed: 0:02:04.    Loss: 0.029162410646677017.\n"
          ]
        },
        {
          "name": "stderr",
          "output_type": "stream",
          "text": [
            "INFO:__main__:  Batch   600  of  3,511.    Elapsed: 0:02:04.    Loss: 0.029162410646677017.\n"
          ]
        },
        {
          "name": "stdout",
          "output_type": "stream",
          "text": [
            "  Batch   610  of  3,511.    Elapsed: 0:02:06.    Loss: 0.018450357019901276.\n",
            "  Batch   610  of  3,511.    Elapsed: 0:02:06.    Loss: 0.018450357019901276.\n",
            "  Batch   610  of  3,511.    Elapsed: 0:02:06.    Loss: 0.018450357019901276.\n",
            "  Batch   610  of  3,511.    Elapsed: 0:02:06.    Loss: 0.018450357019901276.\n"
          ]
        },
        {
          "name": "stderr",
          "output_type": "stream",
          "text": [
            "INFO:__main__:  Batch   610  of  3,511.    Elapsed: 0:02:06.    Loss: 0.018450357019901276.\n"
          ]
        },
        {
          "name": "stdout",
          "output_type": "stream",
          "text": [
            "  Batch   620  of  3,511.    Elapsed: 0:02:08.    Loss: 0.034862831234931946.\n",
            "  Batch   620  of  3,511.    Elapsed: 0:02:08.    Loss: 0.034862831234931946.\n",
            "  Batch   620  of  3,511.    Elapsed: 0:02:08.    Loss: 0.034862831234931946.\n",
            "  Batch   620  of  3,511.    Elapsed: 0:02:08.    Loss: 0.034862831234931946.\n"
          ]
        },
        {
          "name": "stderr",
          "output_type": "stream",
          "text": [
            "INFO:__main__:  Batch   620  of  3,511.    Elapsed: 0:02:08.    Loss: 0.034862831234931946.\n"
          ]
        },
        {
          "name": "stdout",
          "output_type": "stream",
          "text": [
            "  Batch   630  of  3,511.    Elapsed: 0:02:10.    Loss: 0.004204375669360161.\n",
            "  Batch   630  of  3,511.    Elapsed: 0:02:10.    Loss: 0.004204375669360161.\n",
            "  Batch   630  of  3,511.    Elapsed: 0:02:10.    Loss: 0.004204375669360161.\n",
            "  Batch   630  of  3,511.    Elapsed: 0:02:10.    Loss: 0.004204375669360161.\n"
          ]
        },
        {
          "name": "stderr",
          "output_type": "stream",
          "text": [
            "INFO:__main__:  Batch   630  of  3,511.    Elapsed: 0:02:10.    Loss: 0.004204375669360161.\n"
          ]
        },
        {
          "name": "stdout",
          "output_type": "stream",
          "text": [
            "  Batch   640  of  3,511.    Elapsed: 0:02:12.    Loss: 0.0574093721807003.\n",
            "  Batch   640  of  3,511.    Elapsed: 0:02:12.    Loss: 0.0574093721807003.\n",
            "  Batch   640  of  3,511.    Elapsed: 0:02:12.    Loss: 0.0574093721807003.\n",
            "  Batch   640  of  3,511.    Elapsed: 0:02:12.    Loss: 0.0574093721807003.\n"
          ]
        },
        {
          "name": "stderr",
          "output_type": "stream",
          "text": [
            "INFO:__main__:  Batch   640  of  3,511.    Elapsed: 0:02:12.    Loss: 0.0574093721807003.\n"
          ]
        },
        {
          "name": "stdout",
          "output_type": "stream",
          "text": [
            "  Batch   650  of  3,511.    Elapsed: 0:02:14.    Loss: 0.19543328881263733.\n",
            "  Batch   650  of  3,511.    Elapsed: 0:02:14.    Loss: 0.19543328881263733.\n",
            "  Batch   650  of  3,511.    Elapsed: 0:02:14.    Loss: 0.19543328881263733.\n",
            "  Batch   650  of  3,511.    Elapsed: 0:02:14.    Loss: 0.19543328881263733.\n"
          ]
        },
        {
          "name": "stderr",
          "output_type": "stream",
          "text": [
            "INFO:__main__:  Batch   650  of  3,511.    Elapsed: 0:02:14.    Loss: 0.19543328881263733.\n"
          ]
        },
        {
          "name": "stdout",
          "output_type": "stream",
          "text": [
            "  Batch   660  of  3,511.    Elapsed: 0:02:17.    Loss: 0.09454391896724701.\n",
            "  Batch   660  of  3,511.    Elapsed: 0:02:17.    Loss: 0.09454391896724701.\n",
            "  Batch   660  of  3,511.    Elapsed: 0:02:17.    Loss: 0.09454391896724701.\n",
            "  Batch   660  of  3,511.    Elapsed: 0:02:17.    Loss: 0.09454391896724701.\n"
          ]
        },
        {
          "name": "stderr",
          "output_type": "stream",
          "text": [
            "INFO:__main__:  Batch   660  of  3,511.    Elapsed: 0:02:17.    Loss: 0.09454391896724701.\n"
          ]
        },
        {
          "name": "stdout",
          "output_type": "stream",
          "text": [
            "  Batch   670  of  3,511.    Elapsed: 0:02:19.    Loss: 0.02143709547817707.\n",
            "  Batch   670  of  3,511.    Elapsed: 0:02:19.    Loss: 0.02143709547817707.\n",
            "  Batch   670  of  3,511.    Elapsed: 0:02:19.    Loss: 0.02143709547817707.\n",
            "  Batch   670  of  3,511.    Elapsed: 0:02:19.    Loss: 0.02143709547817707.\n"
          ]
        },
        {
          "name": "stderr",
          "output_type": "stream",
          "text": [
            "INFO:__main__:  Batch   670  of  3,511.    Elapsed: 0:02:19.    Loss: 0.02143709547817707.\n"
          ]
        },
        {
          "name": "stdout",
          "output_type": "stream",
          "text": [
            "  Batch   680  of  3,511.    Elapsed: 0:02:21.    Loss: 0.06057581305503845.\n",
            "  Batch   680  of  3,511.    Elapsed: 0:02:21.    Loss: 0.06057581305503845.\n",
            "  Batch   680  of  3,511.    Elapsed: 0:02:21.    Loss: 0.06057581305503845.\n",
            "  Batch   680  of  3,511.    Elapsed: 0:02:21.    Loss: 0.06057581305503845.\n"
          ]
        },
        {
          "name": "stderr",
          "output_type": "stream",
          "text": [
            "INFO:__main__:  Batch   680  of  3,511.    Elapsed: 0:02:21.    Loss: 0.06057581305503845.\n"
          ]
        },
        {
          "name": "stdout",
          "output_type": "stream",
          "text": [
            "  Batch   690  of  3,511.    Elapsed: 0:02:23.    Loss: 0.017137255519628525.\n",
            "  Batch   690  of  3,511.    Elapsed: 0:02:23.    Loss: 0.017137255519628525.\n",
            "  Batch   690  of  3,511.    Elapsed: 0:02:23.    Loss: 0.017137255519628525.\n",
            "  Batch   690  of  3,511.    Elapsed: 0:02:23.    Loss: 0.017137255519628525.\n"
          ]
        },
        {
          "name": "stderr",
          "output_type": "stream",
          "text": [
            "INFO:__main__:  Batch   690  of  3,511.    Elapsed: 0:02:23.    Loss: 0.017137255519628525.\n"
          ]
        },
        {
          "name": "stdout",
          "output_type": "stream",
          "text": [
            "  Batch   700  of  3,511.    Elapsed: 0:02:25.    Loss: 0.004516666755080223.\n",
            "  Batch   700  of  3,511.    Elapsed: 0:02:25.    Loss: 0.004516666755080223.\n",
            "  Batch   700  of  3,511.    Elapsed: 0:02:25.    Loss: 0.004516666755080223.\n",
            "  Batch   700  of  3,511.    Elapsed: 0:02:25.    Loss: 0.004516666755080223.\n"
          ]
        },
        {
          "name": "stderr",
          "output_type": "stream",
          "text": [
            "INFO:__main__:  Batch   700  of  3,511.    Elapsed: 0:02:25.    Loss: 0.004516666755080223.\n"
          ]
        },
        {
          "name": "stdout",
          "output_type": "stream",
          "text": [
            "  Batch   710  of  3,511.    Elapsed: 0:02:27.    Loss: 0.03879706189036369.\n",
            "  Batch   710  of  3,511.    Elapsed: 0:02:27.    Loss: 0.03879706189036369.\n",
            "  Batch   710  of  3,511.    Elapsed: 0:02:27.    Loss: 0.03879706189036369.\n",
            "  Batch   710  of  3,511.    Elapsed: 0:02:27.    Loss: 0.03879706189036369.\n"
          ]
        },
        {
          "name": "stderr",
          "output_type": "stream",
          "text": [
            "INFO:__main__:  Batch   710  of  3,511.    Elapsed: 0:02:27.    Loss: 0.03879706189036369.\n"
          ]
        },
        {
          "name": "stdout",
          "output_type": "stream",
          "text": [
            "  Batch   720  of  3,511.    Elapsed: 0:02:29.    Loss: 0.024501748383045197.\n",
            "  Batch   720  of  3,511.    Elapsed: 0:02:29.    Loss: 0.024501748383045197.\n",
            "  Batch   720  of  3,511.    Elapsed: 0:02:29.    Loss: 0.024501748383045197.\n",
            "  Batch   720  of  3,511.    Elapsed: 0:02:29.    Loss: 0.024501748383045197.\n"
          ]
        },
        {
          "name": "stderr",
          "output_type": "stream",
          "text": [
            "INFO:__main__:  Batch   720  of  3,511.    Elapsed: 0:02:29.    Loss: 0.024501748383045197.\n"
          ]
        },
        {
          "name": "stdout",
          "output_type": "stream",
          "text": [
            "  Batch   730  of  3,511.    Elapsed: 0:02:31.    Loss: 0.029347676783800125.\n",
            "  Batch   730  of  3,511.    Elapsed: 0:02:31.    Loss: 0.029347676783800125.\n",
            "  Batch   730  of  3,511.    Elapsed: 0:02:31.    Loss: 0.029347676783800125.\n",
            "  Batch   730  of  3,511.    Elapsed: 0:02:31.    Loss: 0.029347676783800125.\n"
          ]
        },
        {
          "name": "stderr",
          "output_type": "stream",
          "text": [
            "INFO:__main__:  Batch   730  of  3,511.    Elapsed: 0:02:31.    Loss: 0.029347676783800125.\n"
          ]
        },
        {
          "name": "stdout",
          "output_type": "stream",
          "text": [
            "  Batch   740  of  3,511.    Elapsed: 0:02:33.    Loss: 0.05046159029006958.\n",
            "  Batch   740  of  3,511.    Elapsed: 0:02:33.    Loss: 0.05046159029006958.\n",
            "  Batch   740  of  3,511.    Elapsed: 0:02:33.    Loss: 0.05046159029006958.\n",
            "  Batch   740  of  3,511.    Elapsed: 0:02:33.    Loss: 0.05046159029006958.\n"
          ]
        },
        {
          "name": "stderr",
          "output_type": "stream",
          "text": [
            "INFO:__main__:  Batch   740  of  3,511.    Elapsed: 0:02:33.    Loss: 0.05046159029006958.\n"
          ]
        },
        {
          "name": "stdout",
          "output_type": "stream",
          "text": [
            "  Batch   750  of  3,511.    Elapsed: 0:02:35.    Loss: 0.0018635839223861694.\n",
            "  Batch   750  of  3,511.    Elapsed: 0:02:35.    Loss: 0.0018635839223861694.\n",
            "  Batch   750  of  3,511.    Elapsed: 0:02:35.    Loss: 0.0018635839223861694.\n",
            "  Batch   750  of  3,511.    Elapsed: 0:02:35.    Loss: 0.0018635839223861694.\n"
          ]
        },
        {
          "name": "stderr",
          "output_type": "stream",
          "text": [
            "INFO:__main__:  Batch   750  of  3,511.    Elapsed: 0:02:35.    Loss: 0.0018635839223861694.\n"
          ]
        },
        {
          "name": "stdout",
          "output_type": "stream",
          "text": [
            "  Batch   760  of  3,511.    Elapsed: 0:02:37.    Loss: 0.05261796712875366.\n",
            "  Batch   760  of  3,511.    Elapsed: 0:02:37.    Loss: 0.05261796712875366.\n",
            "  Batch   760  of  3,511.    Elapsed: 0:02:37.    Loss: 0.05261796712875366.\n",
            "  Batch   760  of  3,511.    Elapsed: 0:02:37.    Loss: 0.05261796712875366.\n"
          ]
        },
        {
          "name": "stderr",
          "output_type": "stream",
          "text": [
            "INFO:__main__:  Batch   760  of  3,511.    Elapsed: 0:02:37.    Loss: 0.05261796712875366.\n"
          ]
        },
        {
          "name": "stdout",
          "output_type": "stream",
          "text": [
            "  Batch   770  of  3,511.    Elapsed: 0:02:39.    Loss: 0.005448749288916588.\n",
            "  Batch   770  of  3,511.    Elapsed: 0:02:39.    Loss: 0.005448749288916588.\n",
            "  Batch   770  of  3,511.    Elapsed: 0:02:39.    Loss: 0.005448749288916588.\n",
            "  Batch   770  of  3,511.    Elapsed: 0:02:39.    Loss: 0.005448749288916588.\n"
          ]
        },
        {
          "name": "stderr",
          "output_type": "stream",
          "text": [
            "INFO:__main__:  Batch   770  of  3,511.    Elapsed: 0:02:39.    Loss: 0.005448749288916588.\n"
          ]
        },
        {
          "name": "stdout",
          "output_type": "stream",
          "text": [
            "  Batch   780  of  3,511.    Elapsed: 0:02:41.    Loss: 0.07048948109149933.\n",
            "  Batch   780  of  3,511.    Elapsed: 0:02:41.    Loss: 0.07048948109149933.\n",
            "  Batch   780  of  3,511.    Elapsed: 0:02:41.    Loss: 0.07048948109149933.\n",
            "  Batch   780  of  3,511.    Elapsed: 0:02:41.    Loss: 0.07048948109149933.\n"
          ]
        },
        {
          "name": "stderr",
          "output_type": "stream",
          "text": [
            "INFO:__main__:  Batch   780  of  3,511.    Elapsed: 0:02:41.    Loss: 0.07048948109149933.\n"
          ]
        },
        {
          "name": "stdout",
          "output_type": "stream",
          "text": [
            "  Batch   790  of  3,511.    Elapsed: 0:02:43.    Loss: 0.011505180969834328.\n",
            "  Batch   790  of  3,511.    Elapsed: 0:02:43.    Loss: 0.011505180969834328.\n",
            "  Batch   790  of  3,511.    Elapsed: 0:02:43.    Loss: 0.011505180969834328.\n",
            "  Batch   790  of  3,511.    Elapsed: 0:02:43.    Loss: 0.011505180969834328.\n"
          ]
        },
        {
          "name": "stderr",
          "output_type": "stream",
          "text": [
            "INFO:__main__:  Batch   790  of  3,511.    Elapsed: 0:02:43.    Loss: 0.011505180969834328.\n"
          ]
        },
        {
          "name": "stdout",
          "output_type": "stream",
          "text": [
            "  Batch   800  of  3,511.    Elapsed: 0:02:45.    Loss: 0.01402499619871378.\n",
            "  Batch   800  of  3,511.    Elapsed: 0:02:45.    Loss: 0.01402499619871378.\n",
            "  Batch   800  of  3,511.    Elapsed: 0:02:45.    Loss: 0.01402499619871378.\n",
            "  Batch   800  of  3,511.    Elapsed: 0:02:45.    Loss: 0.01402499619871378.\n"
          ]
        },
        {
          "name": "stderr",
          "output_type": "stream",
          "text": [
            "INFO:__main__:  Batch   800  of  3,511.    Elapsed: 0:02:45.    Loss: 0.01402499619871378.\n"
          ]
        },
        {
          "name": "stdout",
          "output_type": "stream",
          "text": [
            "  Batch   810  of  3,511.    Elapsed: 0:02:47.    Loss: 0.0020725494250655174.\n",
            "  Batch   810  of  3,511.    Elapsed: 0:02:47.    Loss: 0.0020725494250655174.\n",
            "  Batch   810  of  3,511.    Elapsed: 0:02:47.    Loss: 0.0020725494250655174.\n",
            "  Batch   810  of  3,511.    Elapsed: 0:02:47.    Loss: 0.0020725494250655174.\n"
          ]
        },
        {
          "name": "stderr",
          "output_type": "stream",
          "text": [
            "INFO:__main__:  Batch   810  of  3,511.    Elapsed: 0:02:47.    Loss: 0.0020725494250655174.\n"
          ]
        },
        {
          "name": "stdout",
          "output_type": "stream",
          "text": [
            "  Batch   820  of  3,511.    Elapsed: 0:02:49.    Loss: 0.003228564979508519.\n",
            "  Batch   820  of  3,511.    Elapsed: 0:02:49.    Loss: 0.003228564979508519.\n",
            "  Batch   820  of  3,511.    Elapsed: 0:02:49.    Loss: 0.003228564979508519.\n",
            "  Batch   820  of  3,511.    Elapsed: 0:02:49.    Loss: 0.003228564979508519.\n"
          ]
        },
        {
          "name": "stderr",
          "output_type": "stream",
          "text": [
            "INFO:__main__:  Batch   820  of  3,511.    Elapsed: 0:02:49.    Loss: 0.003228564979508519.\n"
          ]
        },
        {
          "name": "stdout",
          "output_type": "stream",
          "text": [
            "  Batch   830  of  3,511.    Elapsed: 0:02:51.    Loss: 0.02582581155002117.\n",
            "  Batch   830  of  3,511.    Elapsed: 0:02:51.    Loss: 0.02582581155002117.\n",
            "  Batch   830  of  3,511.    Elapsed: 0:02:51.    Loss: 0.02582581155002117.\n",
            "  Batch   830  of  3,511.    Elapsed: 0:02:51.    Loss: 0.02582581155002117.\n"
          ]
        },
        {
          "name": "stderr",
          "output_type": "stream",
          "text": [
            "INFO:__main__:  Batch   830  of  3,511.    Elapsed: 0:02:51.    Loss: 0.02582581155002117.\n"
          ]
        },
        {
          "name": "stdout",
          "output_type": "stream",
          "text": [
            "  Batch   840  of  3,511.    Elapsed: 0:02:53.    Loss: 0.006419044453650713.\n",
            "  Batch   840  of  3,511.    Elapsed: 0:02:53.    Loss: 0.006419044453650713.\n",
            "  Batch   840  of  3,511.    Elapsed: 0:02:53.    Loss: 0.006419044453650713.\n",
            "  Batch   840  of  3,511.    Elapsed: 0:02:53.    Loss: 0.006419044453650713.\n"
          ]
        },
        {
          "name": "stderr",
          "output_type": "stream",
          "text": [
            "INFO:__main__:  Batch   840  of  3,511.    Elapsed: 0:02:53.    Loss: 0.006419044453650713.\n"
          ]
        },
        {
          "name": "stdout",
          "output_type": "stream",
          "text": [
            "  Batch   850  of  3,511.    Elapsed: 0:02:56.    Loss: 0.1005885899066925.\n",
            "  Batch   850  of  3,511.    Elapsed: 0:02:56.    Loss: 0.1005885899066925.\n",
            "  Batch   850  of  3,511.    Elapsed: 0:02:56.    Loss: 0.1005885899066925.\n",
            "  Batch   850  of  3,511.    Elapsed: 0:02:56.    Loss: 0.1005885899066925.\n"
          ]
        },
        {
          "name": "stderr",
          "output_type": "stream",
          "text": [
            "INFO:__main__:  Batch   850  of  3,511.    Elapsed: 0:02:56.    Loss: 0.1005885899066925.\n"
          ]
        },
        {
          "name": "stdout",
          "output_type": "stream",
          "text": [
            "  Batch   860  of  3,511.    Elapsed: 0:02:58.    Loss: 0.0035040865186601877.\n",
            "  Batch   860  of  3,511.    Elapsed: 0:02:58.    Loss: 0.0035040865186601877.\n",
            "  Batch   860  of  3,511.    Elapsed: 0:02:58.    Loss: 0.0035040865186601877.\n",
            "  Batch   860  of  3,511.    Elapsed: 0:02:58.    Loss: 0.0035040865186601877.\n"
          ]
        },
        {
          "name": "stderr",
          "output_type": "stream",
          "text": [
            "INFO:__main__:  Batch   860  of  3,511.    Elapsed: 0:02:58.    Loss: 0.0035040865186601877.\n"
          ]
        },
        {
          "name": "stdout",
          "output_type": "stream",
          "text": [
            "  Batch   870  of  3,511.    Elapsed: 0:03:00.    Loss: 0.05676328018307686.\n",
            "  Batch   870  of  3,511.    Elapsed: 0:03:00.    Loss: 0.05676328018307686.\n",
            "  Batch   870  of  3,511.    Elapsed: 0:03:00.    Loss: 0.05676328018307686.\n",
            "  Batch   870  of  3,511.    Elapsed: 0:03:00.    Loss: 0.05676328018307686.\n"
          ]
        },
        {
          "name": "stderr",
          "output_type": "stream",
          "text": [
            "INFO:__main__:  Batch   870  of  3,511.    Elapsed: 0:03:00.    Loss: 0.05676328018307686.\n"
          ]
        },
        {
          "name": "stdout",
          "output_type": "stream",
          "text": [
            "  Batch   880  of  3,511.    Elapsed: 0:03:02.    Loss: 0.011110770516097546.\n",
            "  Batch   880  of  3,511.    Elapsed: 0:03:02.    Loss: 0.011110770516097546.\n",
            "  Batch   880  of  3,511.    Elapsed: 0:03:02.    Loss: 0.011110770516097546.\n",
            "  Batch   880  of  3,511.    Elapsed: 0:03:02.    Loss: 0.011110770516097546.\n"
          ]
        },
        {
          "name": "stderr",
          "output_type": "stream",
          "text": [
            "INFO:__main__:  Batch   880  of  3,511.    Elapsed: 0:03:02.    Loss: 0.011110770516097546.\n"
          ]
        },
        {
          "name": "stdout",
          "output_type": "stream",
          "text": [
            "  Batch   890  of  3,511.    Elapsed: 0:03:04.    Loss: 0.023605041205883026.\n",
            "  Batch   890  of  3,511.    Elapsed: 0:03:04.    Loss: 0.023605041205883026.\n",
            "  Batch   890  of  3,511.    Elapsed: 0:03:04.    Loss: 0.023605041205883026.\n",
            "  Batch   890  of  3,511.    Elapsed: 0:03:04.    Loss: 0.023605041205883026.\n"
          ]
        },
        {
          "name": "stderr",
          "output_type": "stream",
          "text": [
            "INFO:__main__:  Batch   890  of  3,511.    Elapsed: 0:03:04.    Loss: 0.023605041205883026.\n"
          ]
        },
        {
          "name": "stdout",
          "output_type": "stream",
          "text": [
            "  Batch   900  of  3,511.    Elapsed: 0:03:06.    Loss: 0.38953617215156555.\n",
            "  Batch   900  of  3,511.    Elapsed: 0:03:06.    Loss: 0.38953617215156555.\n",
            "  Batch   900  of  3,511.    Elapsed: 0:03:06.    Loss: 0.38953617215156555.\n",
            "  Batch   900  of  3,511.    Elapsed: 0:03:06.    Loss: 0.38953617215156555.\n"
          ]
        },
        {
          "name": "stderr",
          "output_type": "stream",
          "text": [
            "INFO:__main__:  Batch   900  of  3,511.    Elapsed: 0:03:06.    Loss: 0.38953617215156555.\n"
          ]
        },
        {
          "name": "stdout",
          "output_type": "stream",
          "text": [
            "  Batch   910  of  3,511.    Elapsed: 0:03:08.    Loss: 0.162223219871521.\n",
            "  Batch   910  of  3,511.    Elapsed: 0:03:08.    Loss: 0.162223219871521.\n",
            "  Batch   910  of  3,511.    Elapsed: 0:03:08.    Loss: 0.162223219871521.\n",
            "  Batch   910  of  3,511.    Elapsed: 0:03:08.    Loss: 0.162223219871521.\n"
          ]
        },
        {
          "name": "stderr",
          "output_type": "stream",
          "text": [
            "INFO:__main__:  Batch   910  of  3,511.    Elapsed: 0:03:08.    Loss: 0.162223219871521.\n"
          ]
        },
        {
          "name": "stdout",
          "output_type": "stream",
          "text": [
            "  Batch   920  of  3,511.    Elapsed: 0:03:10.    Loss: 0.36382949352264404.\n",
            "  Batch   920  of  3,511.    Elapsed: 0:03:10.    Loss: 0.36382949352264404.\n",
            "  Batch   920  of  3,511.    Elapsed: 0:03:10.    Loss: 0.36382949352264404.\n",
            "  Batch   920  of  3,511.    Elapsed: 0:03:10.    Loss: 0.36382949352264404.\n"
          ]
        },
        {
          "name": "stderr",
          "output_type": "stream",
          "text": [
            "INFO:__main__:  Batch   920  of  3,511.    Elapsed: 0:03:10.    Loss: 0.36382949352264404.\n"
          ]
        },
        {
          "name": "stdout",
          "output_type": "stream",
          "text": [
            "  Batch   930  of  3,511.    Elapsed: 0:03:12.    Loss: 0.005613065790385008.\n",
            "  Batch   930  of  3,511.    Elapsed: 0:03:12.    Loss: 0.005613065790385008.\n",
            "  Batch   930  of  3,511.    Elapsed: 0:03:12.    Loss: 0.005613065790385008.\n",
            "  Batch   930  of  3,511.    Elapsed: 0:03:12.    Loss: 0.005613065790385008.\n"
          ]
        },
        {
          "name": "stderr",
          "output_type": "stream",
          "text": [
            "INFO:__main__:  Batch   930  of  3,511.    Elapsed: 0:03:12.    Loss: 0.005613065790385008.\n"
          ]
        },
        {
          "name": "stdout",
          "output_type": "stream",
          "text": [
            "  Batch   940  of  3,511.    Elapsed: 0:03:14.    Loss: 0.08037586510181427.\n",
            "  Batch   940  of  3,511.    Elapsed: 0:03:14.    Loss: 0.08037586510181427.\n",
            "  Batch   940  of  3,511.    Elapsed: 0:03:14.    Loss: 0.08037586510181427.\n",
            "  Batch   940  of  3,511.    Elapsed: 0:03:14.    Loss: 0.08037586510181427.\n"
          ]
        },
        {
          "name": "stderr",
          "output_type": "stream",
          "text": [
            "INFO:__main__:  Batch   940  of  3,511.    Elapsed: 0:03:14.    Loss: 0.08037586510181427.\n"
          ]
        },
        {
          "name": "stdout",
          "output_type": "stream",
          "text": [
            "  Batch   950  of  3,511.    Elapsed: 0:03:16.    Loss: 0.008954748511314392.\n",
            "  Batch   950  of  3,511.    Elapsed: 0:03:16.    Loss: 0.008954748511314392.\n",
            "  Batch   950  of  3,511.    Elapsed: 0:03:16.    Loss: 0.008954748511314392.\n",
            "  Batch   950  of  3,511.    Elapsed: 0:03:16.    Loss: 0.008954748511314392.\n"
          ]
        },
        {
          "name": "stderr",
          "output_type": "stream",
          "text": [
            "INFO:__main__:  Batch   950  of  3,511.    Elapsed: 0:03:16.    Loss: 0.008954748511314392.\n"
          ]
        },
        {
          "name": "stdout",
          "output_type": "stream",
          "text": [
            "  Batch   960  of  3,511.    Elapsed: 0:03:18.    Loss: 0.23285305500030518.\n",
            "  Batch   960  of  3,511.    Elapsed: 0:03:18.    Loss: 0.23285305500030518.\n",
            "  Batch   960  of  3,511.    Elapsed: 0:03:18.    Loss: 0.23285305500030518.\n",
            "  Batch   960  of  3,511.    Elapsed: 0:03:18.    Loss: 0.23285305500030518.\n"
          ]
        },
        {
          "name": "stderr",
          "output_type": "stream",
          "text": [
            "INFO:__main__:  Batch   960  of  3,511.    Elapsed: 0:03:18.    Loss: 0.23285305500030518.\n"
          ]
        },
        {
          "name": "stdout",
          "output_type": "stream",
          "text": [
            "  Batch   970  of  3,511.    Elapsed: 0:03:20.    Loss: 0.007737790234386921.\n",
            "  Batch   970  of  3,511.    Elapsed: 0:03:20.    Loss: 0.007737790234386921.\n",
            "  Batch   970  of  3,511.    Elapsed: 0:03:20.    Loss: 0.007737790234386921.\n",
            "  Batch   970  of  3,511.    Elapsed: 0:03:20.    Loss: 0.007737790234386921.\n"
          ]
        },
        {
          "name": "stderr",
          "output_type": "stream",
          "text": [
            "INFO:__main__:  Batch   970  of  3,511.    Elapsed: 0:03:20.    Loss: 0.007737790234386921.\n"
          ]
        },
        {
          "name": "stdout",
          "output_type": "stream",
          "text": [
            "  Batch   980  of  3,511.    Elapsed: 0:03:22.    Loss: 0.4048520624637604.\n",
            "  Batch   980  of  3,511.    Elapsed: 0:03:22.    Loss: 0.4048520624637604.\n",
            "  Batch   980  of  3,511.    Elapsed: 0:03:22.    Loss: 0.4048520624637604.\n",
            "  Batch   980  of  3,511.    Elapsed: 0:03:22.    Loss: 0.4048520624637604.\n"
          ]
        },
        {
          "name": "stderr",
          "output_type": "stream",
          "text": [
            "INFO:__main__:  Batch   980  of  3,511.    Elapsed: 0:03:22.    Loss: 0.4048520624637604.\n"
          ]
        },
        {
          "name": "stdout",
          "output_type": "stream",
          "text": [
            "  Batch   990  of  3,511.    Elapsed: 0:03:24.    Loss: 0.1426420360803604.\n",
            "  Batch   990  of  3,511.    Elapsed: 0:03:24.    Loss: 0.1426420360803604.\n",
            "  Batch   990  of  3,511.    Elapsed: 0:03:24.    Loss: 0.1426420360803604.\n",
            "  Batch   990  of  3,511.    Elapsed: 0:03:24.    Loss: 0.1426420360803604.\n"
          ]
        },
        {
          "name": "stderr",
          "output_type": "stream",
          "text": [
            "INFO:__main__:  Batch   990  of  3,511.    Elapsed: 0:03:24.    Loss: 0.1426420360803604.\n"
          ]
        },
        {
          "name": "stdout",
          "output_type": "stream",
          "text": [
            "  Batch 1,000  of  3,511.    Elapsed: 0:03:26.    Loss: 0.0036626565270125866.\n",
            "  Batch 1,000  of  3,511.    Elapsed: 0:03:26.    Loss: 0.0036626565270125866.\n",
            "  Batch 1,000  of  3,511.    Elapsed: 0:03:26.    Loss: 0.0036626565270125866.\n",
            "  Batch 1,000  of  3,511.    Elapsed: 0:03:26.    Loss: 0.0036626565270125866.\n"
          ]
        },
        {
          "name": "stderr",
          "output_type": "stream",
          "text": [
            "INFO:__main__:  Batch 1,000  of  3,511.    Elapsed: 0:03:26.    Loss: 0.0036626565270125866.\n"
          ]
        },
        {
          "name": "stdout",
          "output_type": "stream",
          "text": [
            "  Batch 1,010  of  3,511.    Elapsed: 0:03:28.    Loss: 0.06676875799894333.\n",
            "  Batch 1,010  of  3,511.    Elapsed: 0:03:28.    Loss: 0.06676875799894333.\n",
            "  Batch 1,010  of  3,511.    Elapsed: 0:03:28.    Loss: 0.06676875799894333.\n",
            "  Batch 1,010  of  3,511.    Elapsed: 0:03:28.    Loss: 0.06676875799894333.\n"
          ]
        },
        {
          "name": "stderr",
          "output_type": "stream",
          "text": [
            "INFO:__main__:  Batch 1,010  of  3,511.    Elapsed: 0:03:28.    Loss: 0.06676875799894333.\n"
          ]
        },
        {
          "name": "stdout",
          "output_type": "stream",
          "text": [
            "  Batch 1,020  of  3,511.    Elapsed: 0:03:30.    Loss: 0.1407952904701233.\n",
            "  Batch 1,020  of  3,511.    Elapsed: 0:03:30.    Loss: 0.1407952904701233.\n",
            "  Batch 1,020  of  3,511.    Elapsed: 0:03:30.    Loss: 0.1407952904701233.\n",
            "  Batch 1,020  of  3,511.    Elapsed: 0:03:30.    Loss: 0.1407952904701233.\n"
          ]
        },
        {
          "name": "stderr",
          "output_type": "stream",
          "text": [
            "INFO:__main__:  Batch 1,020  of  3,511.    Elapsed: 0:03:30.    Loss: 0.1407952904701233.\n"
          ]
        },
        {
          "name": "stdout",
          "output_type": "stream",
          "text": [
            "  Batch 1,030  of  3,511.    Elapsed: 0:03:32.    Loss: 0.15947207808494568.\n",
            "  Batch 1,030  of  3,511.    Elapsed: 0:03:32.    Loss: 0.15947207808494568.\n",
            "  Batch 1,030  of  3,511.    Elapsed: 0:03:32.    Loss: 0.15947207808494568.\n",
            "  Batch 1,030  of  3,511.    Elapsed: 0:03:32.    Loss: 0.15947207808494568.\n"
          ]
        },
        {
          "name": "stderr",
          "output_type": "stream",
          "text": [
            "INFO:__main__:  Batch 1,030  of  3,511.    Elapsed: 0:03:32.    Loss: 0.15947207808494568.\n"
          ]
        },
        {
          "name": "stdout",
          "output_type": "stream",
          "text": [
            "  Batch 1,040  of  3,511.    Elapsed: 0:03:35.    Loss: 0.060453273355960846.\n",
            "  Batch 1,040  of  3,511.    Elapsed: 0:03:35.    Loss: 0.060453273355960846.\n",
            "  Batch 1,040  of  3,511.    Elapsed: 0:03:35.    Loss: 0.060453273355960846.\n",
            "  Batch 1,040  of  3,511.    Elapsed: 0:03:35.    Loss: 0.060453273355960846.\n"
          ]
        },
        {
          "name": "stderr",
          "output_type": "stream",
          "text": [
            "INFO:__main__:  Batch 1,040  of  3,511.    Elapsed: 0:03:35.    Loss: 0.060453273355960846.\n"
          ]
        },
        {
          "name": "stdout",
          "output_type": "stream",
          "text": [
            "  Batch 1,050  of  3,511.    Elapsed: 0:03:37.    Loss: 0.009764449670910835.\n",
            "  Batch 1,050  of  3,511.    Elapsed: 0:03:37.    Loss: 0.009764449670910835.\n",
            "  Batch 1,050  of  3,511.    Elapsed: 0:03:37.    Loss: 0.009764449670910835.\n",
            "  Batch 1,050  of  3,511.    Elapsed: 0:03:37.    Loss: 0.009764449670910835.\n"
          ]
        },
        {
          "name": "stderr",
          "output_type": "stream",
          "text": [
            "INFO:__main__:  Batch 1,050  of  3,511.    Elapsed: 0:03:37.    Loss: 0.009764449670910835.\n"
          ]
        },
        {
          "name": "stdout",
          "output_type": "stream",
          "text": [
            "  Batch 1,060  of  3,511.    Elapsed: 0:03:39.    Loss: 0.17115719616413116.\n",
            "  Batch 1,060  of  3,511.    Elapsed: 0:03:39.    Loss: 0.17115719616413116.\n",
            "  Batch 1,060  of  3,511.    Elapsed: 0:03:39.    Loss: 0.17115719616413116.\n",
            "  Batch 1,060  of  3,511.    Elapsed: 0:03:39.    Loss: 0.17115719616413116.\n"
          ]
        },
        {
          "name": "stderr",
          "output_type": "stream",
          "text": [
            "INFO:__main__:  Batch 1,060  of  3,511.    Elapsed: 0:03:39.    Loss: 0.17115719616413116.\n"
          ]
        },
        {
          "name": "stdout",
          "output_type": "stream",
          "text": [
            "  Batch 1,070  of  3,511.    Elapsed: 0:03:41.    Loss: 0.005514279007911682.\n",
            "  Batch 1,070  of  3,511.    Elapsed: 0:03:41.    Loss: 0.005514279007911682.\n",
            "  Batch 1,070  of  3,511.    Elapsed: 0:03:41.    Loss: 0.005514279007911682.\n",
            "  Batch 1,070  of  3,511.    Elapsed: 0:03:41.    Loss: 0.005514279007911682.\n"
          ]
        },
        {
          "name": "stderr",
          "output_type": "stream",
          "text": [
            "INFO:__main__:  Batch 1,070  of  3,511.    Elapsed: 0:03:41.    Loss: 0.005514279007911682.\n"
          ]
        },
        {
          "name": "stdout",
          "output_type": "stream",
          "text": [
            "  Batch 1,080  of  3,511.    Elapsed: 0:03:43.    Loss: 0.003422901500016451.\n",
            "  Batch 1,080  of  3,511.    Elapsed: 0:03:43.    Loss: 0.003422901500016451.\n",
            "  Batch 1,080  of  3,511.    Elapsed: 0:03:43.    Loss: 0.003422901500016451.\n",
            "  Batch 1,080  of  3,511.    Elapsed: 0:03:43.    Loss: 0.003422901500016451.\n"
          ]
        },
        {
          "name": "stderr",
          "output_type": "stream",
          "text": [
            "INFO:__main__:  Batch 1,080  of  3,511.    Elapsed: 0:03:43.    Loss: 0.003422901500016451.\n"
          ]
        },
        {
          "name": "stdout",
          "output_type": "stream",
          "text": [
            "  Batch 1,090  of  3,511.    Elapsed: 0:03:45.    Loss: 0.020052354782819748.\n",
            "  Batch 1,090  of  3,511.    Elapsed: 0:03:45.    Loss: 0.020052354782819748.\n",
            "  Batch 1,090  of  3,511.    Elapsed: 0:03:45.    Loss: 0.020052354782819748.\n",
            "  Batch 1,090  of  3,511.    Elapsed: 0:03:45.    Loss: 0.020052354782819748.\n"
          ]
        },
        {
          "name": "stderr",
          "output_type": "stream",
          "text": [
            "INFO:__main__:  Batch 1,090  of  3,511.    Elapsed: 0:03:45.    Loss: 0.020052354782819748.\n"
          ]
        },
        {
          "name": "stdout",
          "output_type": "stream",
          "text": [
            "  Batch 1,100  of  3,511.    Elapsed: 0:03:47.    Loss: 0.008411294780671597.\n",
            "  Batch 1,100  of  3,511.    Elapsed: 0:03:47.    Loss: 0.008411294780671597.\n",
            "  Batch 1,100  of  3,511.    Elapsed: 0:03:47.    Loss: 0.008411294780671597.\n",
            "  Batch 1,100  of  3,511.    Elapsed: 0:03:47.    Loss: 0.008411294780671597.\n"
          ]
        },
        {
          "name": "stderr",
          "output_type": "stream",
          "text": [
            "INFO:__main__:  Batch 1,100  of  3,511.    Elapsed: 0:03:47.    Loss: 0.008411294780671597.\n"
          ]
        },
        {
          "name": "stdout",
          "output_type": "stream",
          "text": [
            "  Batch 1,110  of  3,511.    Elapsed: 0:03:49.    Loss: 0.002305454807356.\n",
            "  Batch 1,110  of  3,511.    Elapsed: 0:03:49.    Loss: 0.002305454807356.\n",
            "  Batch 1,110  of  3,511.    Elapsed: 0:03:49.    Loss: 0.002305454807356.\n",
            "  Batch 1,110  of  3,511.    Elapsed: 0:03:49.    Loss: 0.002305454807356.\n"
          ]
        },
        {
          "name": "stderr",
          "output_type": "stream",
          "text": [
            "INFO:__main__:  Batch 1,110  of  3,511.    Elapsed: 0:03:49.    Loss: 0.002305454807356.\n"
          ]
        },
        {
          "name": "stdout",
          "output_type": "stream",
          "text": [
            "  Batch 1,120  of  3,511.    Elapsed: 0:03:51.    Loss: 0.0745462104678154.\n",
            "  Batch 1,120  of  3,511.    Elapsed: 0:03:51.    Loss: 0.0745462104678154.\n",
            "  Batch 1,120  of  3,511.    Elapsed: 0:03:51.    Loss: 0.0745462104678154.\n",
            "  Batch 1,120  of  3,511.    Elapsed: 0:03:51.    Loss: 0.0745462104678154.\n"
          ]
        },
        {
          "name": "stderr",
          "output_type": "stream",
          "text": [
            "INFO:__main__:  Batch 1,120  of  3,511.    Elapsed: 0:03:51.    Loss: 0.0745462104678154.\n"
          ]
        },
        {
          "name": "stdout",
          "output_type": "stream",
          "text": [
            "  Batch 1,130  of  3,511.    Elapsed: 0:03:53.    Loss: 0.00670242914929986.\n",
            "  Batch 1,130  of  3,511.    Elapsed: 0:03:53.    Loss: 0.00670242914929986.\n",
            "  Batch 1,130  of  3,511.    Elapsed: 0:03:53.    Loss: 0.00670242914929986.\n",
            "  Batch 1,130  of  3,511.    Elapsed: 0:03:53.    Loss: 0.00670242914929986.\n"
          ]
        },
        {
          "name": "stderr",
          "output_type": "stream",
          "text": [
            "INFO:__main__:  Batch 1,130  of  3,511.    Elapsed: 0:03:53.    Loss: 0.00670242914929986.\n"
          ]
        },
        {
          "name": "stdout",
          "output_type": "stream",
          "text": [
            "  Batch 1,140  of  3,511.    Elapsed: 0:03:55.    Loss: 0.1218651607632637.\n",
            "  Batch 1,140  of  3,511.    Elapsed: 0:03:55.    Loss: 0.1218651607632637.\n",
            "  Batch 1,140  of  3,511.    Elapsed: 0:03:55.    Loss: 0.1218651607632637.\n",
            "  Batch 1,140  of  3,511.    Elapsed: 0:03:55.    Loss: 0.1218651607632637.\n"
          ]
        },
        {
          "name": "stderr",
          "output_type": "stream",
          "text": [
            "INFO:__main__:  Batch 1,140  of  3,511.    Elapsed: 0:03:55.    Loss: 0.1218651607632637.\n"
          ]
        },
        {
          "name": "stdout",
          "output_type": "stream",
          "text": [
            "  Batch 1,150  of  3,511.    Elapsed: 0:03:57.    Loss: 0.0075169457122683525.\n",
            "  Batch 1,150  of  3,511.    Elapsed: 0:03:57.    Loss: 0.0075169457122683525.\n",
            "  Batch 1,150  of  3,511.    Elapsed: 0:03:57.    Loss: 0.0075169457122683525.\n",
            "  Batch 1,150  of  3,511.    Elapsed: 0:03:57.    Loss: 0.0075169457122683525.\n"
          ]
        },
        {
          "name": "stderr",
          "output_type": "stream",
          "text": [
            "INFO:__main__:  Batch 1,150  of  3,511.    Elapsed: 0:03:57.    Loss: 0.0075169457122683525.\n"
          ]
        },
        {
          "name": "stdout",
          "output_type": "stream",
          "text": [
            "  Batch 1,160  of  3,511.    Elapsed: 0:03:59.    Loss: 0.0033024775329977274.\n",
            "  Batch 1,160  of  3,511.    Elapsed: 0:03:59.    Loss: 0.0033024775329977274.\n",
            "  Batch 1,160  of  3,511.    Elapsed: 0:03:59.    Loss: 0.0033024775329977274.\n",
            "  Batch 1,160  of  3,511.    Elapsed: 0:03:59.    Loss: 0.0033024775329977274.\n"
          ]
        },
        {
          "name": "stderr",
          "output_type": "stream",
          "text": [
            "INFO:__main__:  Batch 1,160  of  3,511.    Elapsed: 0:03:59.    Loss: 0.0033024775329977274.\n"
          ]
        },
        {
          "name": "stdout",
          "output_type": "stream",
          "text": [
            "  Batch 1,170  of  3,511.    Elapsed: 0:04:01.    Loss: 0.14227646589279175.\n",
            "  Batch 1,170  of  3,511.    Elapsed: 0:04:01.    Loss: 0.14227646589279175.\n",
            "  Batch 1,170  of  3,511.    Elapsed: 0:04:01.    Loss: 0.14227646589279175.\n",
            "  Batch 1,170  of  3,511.    Elapsed: 0:04:01.    Loss: 0.14227646589279175.\n"
          ]
        },
        {
          "name": "stderr",
          "output_type": "stream",
          "text": [
            "INFO:__main__:  Batch 1,170  of  3,511.    Elapsed: 0:04:01.    Loss: 0.14227646589279175.\n"
          ]
        },
        {
          "name": "stdout",
          "output_type": "stream",
          "text": [
            "  Batch 1,180  of  3,511.    Elapsed: 0:04:03.    Loss: 0.4274655878543854.\n",
            "  Batch 1,180  of  3,511.    Elapsed: 0:04:03.    Loss: 0.4274655878543854.\n",
            "  Batch 1,180  of  3,511.    Elapsed: 0:04:03.    Loss: 0.4274655878543854.\n",
            "  Batch 1,180  of  3,511.    Elapsed: 0:04:03.    Loss: 0.4274655878543854.\n"
          ]
        },
        {
          "name": "stderr",
          "output_type": "stream",
          "text": [
            "INFO:__main__:  Batch 1,180  of  3,511.    Elapsed: 0:04:03.    Loss: 0.4274655878543854.\n"
          ]
        },
        {
          "name": "stdout",
          "output_type": "stream",
          "text": [
            "  Batch 1,190  of  3,511.    Elapsed: 0:04:05.    Loss: 0.10496386885643005.\n",
            "  Batch 1,190  of  3,511.    Elapsed: 0:04:05.    Loss: 0.10496386885643005.\n",
            "  Batch 1,190  of  3,511.    Elapsed: 0:04:05.    Loss: 0.10496386885643005.\n",
            "  Batch 1,190  of  3,511.    Elapsed: 0:04:05.    Loss: 0.10496386885643005.\n"
          ]
        },
        {
          "name": "stderr",
          "output_type": "stream",
          "text": [
            "INFO:__main__:  Batch 1,190  of  3,511.    Elapsed: 0:04:05.    Loss: 0.10496386885643005.\n"
          ]
        },
        {
          "name": "stdout",
          "output_type": "stream",
          "text": [
            "  Batch 1,200  of  3,511.    Elapsed: 0:04:07.    Loss: 0.2043755203485489.\n",
            "  Batch 1,200  of  3,511.    Elapsed: 0:04:07.    Loss: 0.2043755203485489.\n",
            "  Batch 1,200  of  3,511.    Elapsed: 0:04:07.    Loss: 0.2043755203485489.\n",
            "  Batch 1,200  of  3,511.    Elapsed: 0:04:07.    Loss: 0.2043755203485489.\n"
          ]
        },
        {
          "name": "stderr",
          "output_type": "stream",
          "text": [
            "INFO:__main__:  Batch 1,200  of  3,511.    Elapsed: 0:04:07.    Loss: 0.2043755203485489.\n"
          ]
        },
        {
          "name": "stdout",
          "output_type": "stream",
          "text": [
            "  Batch 1,210  of  3,511.    Elapsed: 0:04:09.    Loss: 0.09054719656705856.\n",
            "  Batch 1,210  of  3,511.    Elapsed: 0:04:09.    Loss: 0.09054719656705856.\n",
            "  Batch 1,210  of  3,511.    Elapsed: 0:04:09.    Loss: 0.09054719656705856.\n",
            "  Batch 1,210  of  3,511.    Elapsed: 0:04:09.    Loss: 0.09054719656705856.\n"
          ]
        },
        {
          "name": "stderr",
          "output_type": "stream",
          "text": [
            "INFO:__main__:  Batch 1,210  of  3,511.    Elapsed: 0:04:09.    Loss: 0.09054719656705856.\n"
          ]
        },
        {
          "name": "stdout",
          "output_type": "stream",
          "text": [
            "  Batch 1,220  of  3,511.    Elapsed: 0:04:12.    Loss: 0.0017677246360108256.\n",
            "  Batch 1,220  of  3,511.    Elapsed: 0:04:12.    Loss: 0.0017677246360108256.\n",
            "  Batch 1,220  of  3,511.    Elapsed: 0:04:12.    Loss: 0.0017677246360108256.\n",
            "  Batch 1,220  of  3,511.    Elapsed: 0:04:12.    Loss: 0.0017677246360108256.\n"
          ]
        },
        {
          "name": "stderr",
          "output_type": "stream",
          "text": [
            "INFO:__main__:  Batch 1,220  of  3,511.    Elapsed: 0:04:12.    Loss: 0.0017677246360108256.\n"
          ]
        },
        {
          "name": "stdout",
          "output_type": "stream",
          "text": [
            "  Batch 1,230  of  3,511.    Elapsed: 0:04:14.    Loss: 0.006684960797429085.\n",
            "  Batch 1,230  of  3,511.    Elapsed: 0:04:14.    Loss: 0.006684960797429085.\n",
            "  Batch 1,230  of  3,511.    Elapsed: 0:04:14.    Loss: 0.006684960797429085.\n",
            "  Batch 1,230  of  3,511.    Elapsed: 0:04:14.    Loss: 0.006684960797429085.\n"
          ]
        },
        {
          "name": "stderr",
          "output_type": "stream",
          "text": [
            "INFO:__main__:  Batch 1,230  of  3,511.    Elapsed: 0:04:14.    Loss: 0.006684960797429085.\n"
          ]
        },
        {
          "name": "stdout",
          "output_type": "stream",
          "text": [
            "  Batch 1,240  of  3,511.    Elapsed: 0:04:16.    Loss: 0.14675775170326233.\n",
            "  Batch 1,240  of  3,511.    Elapsed: 0:04:16.    Loss: 0.14675775170326233.\n",
            "  Batch 1,240  of  3,511.    Elapsed: 0:04:16.    Loss: 0.14675775170326233.\n",
            "  Batch 1,240  of  3,511.    Elapsed: 0:04:16.    Loss: 0.14675775170326233.\n"
          ]
        },
        {
          "name": "stderr",
          "output_type": "stream",
          "text": [
            "INFO:__main__:  Batch 1,240  of  3,511.    Elapsed: 0:04:16.    Loss: 0.14675775170326233.\n"
          ]
        },
        {
          "name": "stdout",
          "output_type": "stream",
          "text": [
            "  Batch 1,250  of  3,511.    Elapsed: 0:04:18.    Loss: 0.0007718796841800213.\n",
            "  Batch 1,250  of  3,511.    Elapsed: 0:04:18.    Loss: 0.0007718796841800213.\n",
            "  Batch 1,250  of  3,511.    Elapsed: 0:04:18.    Loss: 0.0007718796841800213.\n",
            "  Batch 1,250  of  3,511.    Elapsed: 0:04:18.    Loss: 0.0007718796841800213.\n"
          ]
        },
        {
          "name": "stderr",
          "output_type": "stream",
          "text": [
            "INFO:__main__:  Batch 1,250  of  3,511.    Elapsed: 0:04:18.    Loss: 0.0007718796841800213.\n"
          ]
        },
        {
          "name": "stdout",
          "output_type": "stream",
          "text": [
            "  Batch 1,260  of  3,511.    Elapsed: 0:04:20.    Loss: 0.009454943239688873.\n",
            "  Batch 1,260  of  3,511.    Elapsed: 0:04:20.    Loss: 0.009454943239688873.\n",
            "  Batch 1,260  of  3,511.    Elapsed: 0:04:20.    Loss: 0.009454943239688873.\n",
            "  Batch 1,260  of  3,511.    Elapsed: 0:04:20.    Loss: 0.009454943239688873.\n"
          ]
        },
        {
          "name": "stderr",
          "output_type": "stream",
          "text": [
            "INFO:__main__:  Batch 1,260  of  3,511.    Elapsed: 0:04:20.    Loss: 0.009454943239688873.\n"
          ]
        },
        {
          "name": "stdout",
          "output_type": "stream",
          "text": [
            "  Batch 1,270  of  3,511.    Elapsed: 0:04:22.    Loss: 0.01960821822285652.\n",
            "  Batch 1,270  of  3,511.    Elapsed: 0:04:22.    Loss: 0.01960821822285652.\n",
            "  Batch 1,270  of  3,511.    Elapsed: 0:04:22.    Loss: 0.01960821822285652.\n",
            "  Batch 1,270  of  3,511.    Elapsed: 0:04:22.    Loss: 0.01960821822285652.\n"
          ]
        },
        {
          "name": "stderr",
          "output_type": "stream",
          "text": [
            "INFO:__main__:  Batch 1,270  of  3,511.    Elapsed: 0:04:22.    Loss: 0.01960821822285652.\n"
          ]
        },
        {
          "name": "stdout",
          "output_type": "stream",
          "text": [
            "  Batch 1,280  of  3,511.    Elapsed: 0:04:24.    Loss: 0.003633605083450675.\n",
            "  Batch 1,280  of  3,511.    Elapsed: 0:04:24.    Loss: 0.003633605083450675.\n",
            "  Batch 1,280  of  3,511.    Elapsed: 0:04:24.    Loss: 0.003633605083450675.\n",
            "  Batch 1,280  of  3,511.    Elapsed: 0:04:24.    Loss: 0.003633605083450675.\n"
          ]
        },
        {
          "name": "stderr",
          "output_type": "stream",
          "text": [
            "INFO:__main__:  Batch 1,280  of  3,511.    Elapsed: 0:04:24.    Loss: 0.003633605083450675.\n"
          ]
        },
        {
          "name": "stdout",
          "output_type": "stream",
          "text": [
            "  Batch 1,290  of  3,511.    Elapsed: 0:04:26.    Loss: 0.001384045695886016.\n",
            "  Batch 1,290  of  3,511.    Elapsed: 0:04:26.    Loss: 0.001384045695886016.\n",
            "  Batch 1,290  of  3,511.    Elapsed: 0:04:26.    Loss: 0.001384045695886016.\n",
            "  Batch 1,290  of  3,511.    Elapsed: 0:04:26.    Loss: 0.001384045695886016.\n"
          ]
        },
        {
          "name": "stderr",
          "output_type": "stream",
          "text": [
            "INFO:__main__:  Batch 1,290  of  3,511.    Elapsed: 0:04:26.    Loss: 0.001384045695886016.\n"
          ]
        },
        {
          "name": "stdout",
          "output_type": "stream",
          "text": [
            "  Batch 1,300  of  3,511.    Elapsed: 0:04:28.    Loss: 0.1484023630619049.\n",
            "  Batch 1,300  of  3,511.    Elapsed: 0:04:28.    Loss: 0.1484023630619049.\n",
            "  Batch 1,300  of  3,511.    Elapsed: 0:04:28.    Loss: 0.1484023630619049.\n",
            "  Batch 1,300  of  3,511.    Elapsed: 0:04:28.    Loss: 0.1484023630619049.\n"
          ]
        },
        {
          "name": "stderr",
          "output_type": "stream",
          "text": [
            "INFO:__main__:  Batch 1,300  of  3,511.    Elapsed: 0:04:28.    Loss: 0.1484023630619049.\n"
          ]
        },
        {
          "name": "stdout",
          "output_type": "stream",
          "text": [
            "  Batch 1,310  of  3,511.    Elapsed: 0:04:30.    Loss: 0.014622580260038376.\n",
            "  Batch 1,310  of  3,511.    Elapsed: 0:04:30.    Loss: 0.014622580260038376.\n",
            "  Batch 1,310  of  3,511.    Elapsed: 0:04:30.    Loss: 0.014622580260038376.\n",
            "  Batch 1,310  of  3,511.    Elapsed: 0:04:30.    Loss: 0.014622580260038376.\n"
          ]
        },
        {
          "name": "stderr",
          "output_type": "stream",
          "text": [
            "INFO:__main__:  Batch 1,310  of  3,511.    Elapsed: 0:04:30.    Loss: 0.014622580260038376.\n"
          ]
        },
        {
          "name": "stdout",
          "output_type": "stream",
          "text": [
            "  Batch 1,320  of  3,511.    Elapsed: 0:04:32.    Loss: 0.2153118997812271.\n",
            "  Batch 1,320  of  3,511.    Elapsed: 0:04:32.    Loss: 0.2153118997812271.\n",
            "  Batch 1,320  of  3,511.    Elapsed: 0:04:32.    Loss: 0.2153118997812271.\n",
            "  Batch 1,320  of  3,511.    Elapsed: 0:04:32.    Loss: 0.2153118997812271.\n"
          ]
        },
        {
          "name": "stderr",
          "output_type": "stream",
          "text": [
            "INFO:__main__:  Batch 1,320  of  3,511.    Elapsed: 0:04:32.    Loss: 0.2153118997812271.\n"
          ]
        },
        {
          "name": "stdout",
          "output_type": "stream",
          "text": [
            "  Batch 1,330  of  3,511.    Elapsed: 0:04:34.    Loss: 0.010424396954476833.\n",
            "  Batch 1,330  of  3,511.    Elapsed: 0:04:34.    Loss: 0.010424396954476833.\n",
            "  Batch 1,330  of  3,511.    Elapsed: 0:04:34.    Loss: 0.010424396954476833.\n",
            "  Batch 1,330  of  3,511.    Elapsed: 0:04:34.    Loss: 0.010424396954476833.\n"
          ]
        },
        {
          "name": "stderr",
          "output_type": "stream",
          "text": [
            "INFO:__main__:  Batch 1,330  of  3,511.    Elapsed: 0:04:34.    Loss: 0.010424396954476833.\n"
          ]
        },
        {
          "name": "stdout",
          "output_type": "stream",
          "text": [
            "  Batch 1,340  of  3,511.    Elapsed: 0:04:36.    Loss: 0.019214965403079987.\n",
            "  Batch 1,340  of  3,511.    Elapsed: 0:04:36.    Loss: 0.019214965403079987.\n",
            "  Batch 1,340  of  3,511.    Elapsed: 0:04:36.    Loss: 0.019214965403079987.\n",
            "  Batch 1,340  of  3,511.    Elapsed: 0:04:36.    Loss: 0.019214965403079987.\n"
          ]
        },
        {
          "name": "stderr",
          "output_type": "stream",
          "text": [
            "INFO:__main__:  Batch 1,340  of  3,511.    Elapsed: 0:04:36.    Loss: 0.019214965403079987.\n"
          ]
        },
        {
          "name": "stdout",
          "output_type": "stream",
          "text": [
            "  Batch 1,350  of  3,511.    Elapsed: 0:04:38.    Loss: 0.04250047355890274.\n",
            "  Batch 1,350  of  3,511.    Elapsed: 0:04:38.    Loss: 0.04250047355890274.\n",
            "  Batch 1,350  of  3,511.    Elapsed: 0:04:38.    Loss: 0.04250047355890274.\n",
            "  Batch 1,350  of  3,511.    Elapsed: 0:04:38.    Loss: 0.04250047355890274.\n"
          ]
        },
        {
          "name": "stderr",
          "output_type": "stream",
          "text": [
            "INFO:__main__:  Batch 1,350  of  3,511.    Elapsed: 0:04:38.    Loss: 0.04250047355890274.\n"
          ]
        },
        {
          "name": "stdout",
          "output_type": "stream",
          "text": [
            "  Batch 1,360  of  3,511.    Elapsed: 0:04:40.    Loss: 0.0009599771001376212.\n",
            "  Batch 1,360  of  3,511.    Elapsed: 0:04:40.    Loss: 0.0009599771001376212.\n",
            "  Batch 1,360  of  3,511.    Elapsed: 0:04:40.    Loss: 0.0009599771001376212.\n",
            "  Batch 1,360  of  3,511.    Elapsed: 0:04:40.    Loss: 0.0009599771001376212.\n"
          ]
        },
        {
          "name": "stderr",
          "output_type": "stream",
          "text": [
            "INFO:__main__:  Batch 1,360  of  3,511.    Elapsed: 0:04:40.    Loss: 0.0009599771001376212.\n"
          ]
        },
        {
          "name": "stdout",
          "output_type": "stream",
          "text": [
            "  Batch 1,370  of  3,511.    Elapsed: 0:04:42.    Loss: 0.15104897320270538.\n",
            "  Batch 1,370  of  3,511.    Elapsed: 0:04:42.    Loss: 0.15104897320270538.\n",
            "  Batch 1,370  of  3,511.    Elapsed: 0:04:42.    Loss: 0.15104897320270538.\n",
            "  Batch 1,370  of  3,511.    Elapsed: 0:04:42.    Loss: 0.15104897320270538.\n"
          ]
        },
        {
          "name": "stderr",
          "output_type": "stream",
          "text": [
            "INFO:__main__:  Batch 1,370  of  3,511.    Elapsed: 0:04:42.    Loss: 0.15104897320270538.\n"
          ]
        },
        {
          "name": "stdout",
          "output_type": "stream",
          "text": [
            "  Batch 1,380  of  3,511.    Elapsed: 0:04:44.    Loss: 0.0029363345820456743.\n",
            "  Batch 1,380  of  3,511.    Elapsed: 0:04:44.    Loss: 0.0029363345820456743.\n",
            "  Batch 1,380  of  3,511.    Elapsed: 0:04:44.    Loss: 0.0029363345820456743.\n",
            "  Batch 1,380  of  3,511.    Elapsed: 0:04:44.    Loss: 0.0029363345820456743.\n"
          ]
        },
        {
          "name": "stderr",
          "output_type": "stream",
          "text": [
            "INFO:__main__:  Batch 1,380  of  3,511.    Elapsed: 0:04:44.    Loss: 0.0029363345820456743.\n"
          ]
        },
        {
          "name": "stdout",
          "output_type": "stream",
          "text": [
            "  Batch 1,390  of  3,511.    Elapsed: 0:04:46.    Loss: 0.07153639942407608.\n",
            "  Batch 1,390  of  3,511.    Elapsed: 0:04:46.    Loss: 0.07153639942407608.\n",
            "  Batch 1,390  of  3,511.    Elapsed: 0:04:46.    Loss: 0.07153639942407608.\n",
            "  Batch 1,390  of  3,511.    Elapsed: 0:04:46.    Loss: 0.07153639942407608.\n"
          ]
        },
        {
          "name": "stderr",
          "output_type": "stream",
          "text": [
            "INFO:__main__:  Batch 1,390  of  3,511.    Elapsed: 0:04:46.    Loss: 0.07153639942407608.\n"
          ]
        },
        {
          "name": "stdout",
          "output_type": "stream",
          "text": [
            "  Batch 1,400  of  3,511.    Elapsed: 0:04:48.    Loss: 0.06847013533115387.\n",
            "  Batch 1,400  of  3,511.    Elapsed: 0:04:48.    Loss: 0.06847013533115387.\n",
            "  Batch 1,400  of  3,511.    Elapsed: 0:04:48.    Loss: 0.06847013533115387.\n",
            "  Batch 1,400  of  3,511.    Elapsed: 0:04:48.    Loss: 0.06847013533115387.\n"
          ]
        },
        {
          "name": "stderr",
          "output_type": "stream",
          "text": [
            "INFO:__main__:  Batch 1,400  of  3,511.    Elapsed: 0:04:48.    Loss: 0.06847013533115387.\n"
          ]
        },
        {
          "name": "stdout",
          "output_type": "stream",
          "text": [
            "  Batch 1,410  of  3,511.    Elapsed: 0:04:50.    Loss: 0.013663689605891705.\n",
            "  Batch 1,410  of  3,511.    Elapsed: 0:04:50.    Loss: 0.013663689605891705.\n",
            "  Batch 1,410  of  3,511.    Elapsed: 0:04:50.    Loss: 0.013663689605891705.\n",
            "  Batch 1,410  of  3,511.    Elapsed: 0:04:50.    Loss: 0.013663689605891705.\n"
          ]
        },
        {
          "name": "stderr",
          "output_type": "stream",
          "text": [
            "INFO:__main__:  Batch 1,410  of  3,511.    Elapsed: 0:04:50.    Loss: 0.013663689605891705.\n"
          ]
        },
        {
          "name": "stdout",
          "output_type": "stream",
          "text": [
            "  Batch 1,420  of  3,511.    Elapsed: 0:04:53.    Loss: 0.006487883627414703.\n",
            "  Batch 1,420  of  3,511.    Elapsed: 0:04:53.    Loss: 0.006487883627414703.\n",
            "  Batch 1,420  of  3,511.    Elapsed: 0:04:53.    Loss: 0.006487883627414703.\n",
            "  Batch 1,420  of  3,511.    Elapsed: 0:04:53.    Loss: 0.006487883627414703.\n"
          ]
        },
        {
          "name": "stderr",
          "output_type": "stream",
          "text": [
            "INFO:__main__:  Batch 1,420  of  3,511.    Elapsed: 0:04:53.    Loss: 0.006487883627414703.\n"
          ]
        },
        {
          "name": "stdout",
          "output_type": "stream",
          "text": [
            "  Batch 1,430  of  3,511.    Elapsed: 0:04:55.    Loss: 0.0035145652946084738.\n",
            "  Batch 1,430  of  3,511.    Elapsed: 0:04:55.    Loss: 0.0035145652946084738.\n",
            "  Batch 1,430  of  3,511.    Elapsed: 0:04:55.    Loss: 0.0035145652946084738.\n",
            "  Batch 1,430  of  3,511.    Elapsed: 0:04:55.    Loss: 0.0035145652946084738.\n"
          ]
        },
        {
          "name": "stderr",
          "output_type": "stream",
          "text": [
            "INFO:__main__:  Batch 1,430  of  3,511.    Elapsed: 0:04:55.    Loss: 0.0035145652946084738.\n"
          ]
        },
        {
          "name": "stdout",
          "output_type": "stream",
          "text": [
            "  Batch 1,440  of  3,511.    Elapsed: 0:04:57.    Loss: 0.0020806370303034782.\n",
            "  Batch 1,440  of  3,511.    Elapsed: 0:04:57.    Loss: 0.0020806370303034782.\n",
            "  Batch 1,440  of  3,511.    Elapsed: 0:04:57.    Loss: 0.0020806370303034782.\n",
            "  Batch 1,440  of  3,511.    Elapsed: 0:04:57.    Loss: 0.0020806370303034782.\n"
          ]
        },
        {
          "name": "stderr",
          "output_type": "stream",
          "text": [
            "INFO:__main__:  Batch 1,440  of  3,511.    Elapsed: 0:04:57.    Loss: 0.0020806370303034782.\n"
          ]
        },
        {
          "name": "stdout",
          "output_type": "stream",
          "text": [
            "  Batch 1,450  of  3,511.    Elapsed: 0:04:59.    Loss: 0.016170937567949295.\n",
            "  Batch 1,450  of  3,511.    Elapsed: 0:04:59.    Loss: 0.016170937567949295.\n",
            "  Batch 1,450  of  3,511.    Elapsed: 0:04:59.    Loss: 0.016170937567949295.\n",
            "  Batch 1,450  of  3,511.    Elapsed: 0:04:59.    Loss: 0.016170937567949295.\n"
          ]
        },
        {
          "name": "stderr",
          "output_type": "stream",
          "text": [
            "INFO:__main__:  Batch 1,450  of  3,511.    Elapsed: 0:04:59.    Loss: 0.016170937567949295.\n"
          ]
        },
        {
          "name": "stdout",
          "output_type": "stream",
          "text": [
            "  Batch 1,460  of  3,511.    Elapsed: 0:05:01.    Loss: 0.24904417991638184.\n",
            "  Batch 1,460  of  3,511.    Elapsed: 0:05:01.    Loss: 0.24904417991638184.\n",
            "  Batch 1,460  of  3,511.    Elapsed: 0:05:01.    Loss: 0.24904417991638184.\n",
            "  Batch 1,460  of  3,511.    Elapsed: 0:05:01.    Loss: 0.24904417991638184.\n"
          ]
        },
        {
          "name": "stderr",
          "output_type": "stream",
          "text": [
            "INFO:__main__:  Batch 1,460  of  3,511.    Elapsed: 0:05:01.    Loss: 0.24904417991638184.\n"
          ]
        },
        {
          "name": "stdout",
          "output_type": "stream",
          "text": [
            "  Batch 1,470  of  3,511.    Elapsed: 0:05:03.    Loss: 0.00990259274840355.\n",
            "  Batch 1,470  of  3,511.    Elapsed: 0:05:03.    Loss: 0.00990259274840355.\n",
            "  Batch 1,470  of  3,511.    Elapsed: 0:05:03.    Loss: 0.00990259274840355.\n",
            "  Batch 1,470  of  3,511.    Elapsed: 0:05:03.    Loss: 0.00990259274840355.\n"
          ]
        },
        {
          "name": "stderr",
          "output_type": "stream",
          "text": [
            "INFO:__main__:  Batch 1,470  of  3,511.    Elapsed: 0:05:03.    Loss: 0.00990259274840355.\n"
          ]
        },
        {
          "name": "stdout",
          "output_type": "stream",
          "text": [
            "  Batch 1,480  of  3,511.    Elapsed: 0:05:05.    Loss: 0.16500365734100342.\n",
            "  Batch 1,480  of  3,511.    Elapsed: 0:05:05.    Loss: 0.16500365734100342.\n",
            "  Batch 1,480  of  3,511.    Elapsed: 0:05:05.    Loss: 0.16500365734100342.\n",
            "  Batch 1,480  of  3,511.    Elapsed: 0:05:05.    Loss: 0.16500365734100342.\n"
          ]
        },
        {
          "name": "stderr",
          "output_type": "stream",
          "text": [
            "INFO:__main__:  Batch 1,480  of  3,511.    Elapsed: 0:05:05.    Loss: 0.16500365734100342.\n"
          ]
        },
        {
          "name": "stdout",
          "output_type": "stream",
          "text": [
            "  Batch 1,490  of  3,511.    Elapsed: 0:05:07.    Loss: 0.01368439756333828.\n",
            "  Batch 1,490  of  3,511.    Elapsed: 0:05:07.    Loss: 0.01368439756333828.\n",
            "  Batch 1,490  of  3,511.    Elapsed: 0:05:07.    Loss: 0.01368439756333828.\n",
            "  Batch 1,490  of  3,511.    Elapsed: 0:05:07.    Loss: 0.01368439756333828.\n"
          ]
        },
        {
          "name": "stderr",
          "output_type": "stream",
          "text": [
            "INFO:__main__:  Batch 1,490  of  3,511.    Elapsed: 0:05:07.    Loss: 0.01368439756333828.\n"
          ]
        },
        {
          "name": "stdout",
          "output_type": "stream",
          "text": [
            "  Batch 1,500  of  3,511.    Elapsed: 0:05:09.    Loss: 0.0020694236736744642.\n",
            "  Batch 1,500  of  3,511.    Elapsed: 0:05:09.    Loss: 0.0020694236736744642.\n",
            "  Batch 1,500  of  3,511.    Elapsed: 0:05:09.    Loss: 0.0020694236736744642.\n",
            "  Batch 1,500  of  3,511.    Elapsed: 0:05:09.    Loss: 0.0020694236736744642.\n"
          ]
        },
        {
          "name": "stderr",
          "output_type": "stream",
          "text": [
            "INFO:__main__:  Batch 1,500  of  3,511.    Elapsed: 0:05:09.    Loss: 0.0020694236736744642.\n"
          ]
        },
        {
          "name": "stdout",
          "output_type": "stream",
          "text": [
            "  Batch 1,510  of  3,511.    Elapsed: 0:05:11.    Loss: 0.07019449025392532.\n",
            "  Batch 1,510  of  3,511.    Elapsed: 0:05:11.    Loss: 0.07019449025392532.\n",
            "  Batch 1,510  of  3,511.    Elapsed: 0:05:11.    Loss: 0.07019449025392532.\n",
            "  Batch 1,510  of  3,511.    Elapsed: 0:05:11.    Loss: 0.07019449025392532.\n"
          ]
        },
        {
          "name": "stderr",
          "output_type": "stream",
          "text": [
            "INFO:__main__:  Batch 1,510  of  3,511.    Elapsed: 0:05:11.    Loss: 0.07019449025392532.\n"
          ]
        },
        {
          "name": "stdout",
          "output_type": "stream",
          "text": [
            "  Batch 1,520  of  3,511.    Elapsed: 0:05:13.    Loss: 0.20286893844604492.\n",
            "  Batch 1,520  of  3,511.    Elapsed: 0:05:13.    Loss: 0.20286893844604492.\n",
            "  Batch 1,520  of  3,511.    Elapsed: 0:05:13.    Loss: 0.20286893844604492.\n",
            "  Batch 1,520  of  3,511.    Elapsed: 0:05:13.    Loss: 0.20286893844604492.\n"
          ]
        },
        {
          "name": "stderr",
          "output_type": "stream",
          "text": [
            "INFO:__main__:  Batch 1,520  of  3,511.    Elapsed: 0:05:13.    Loss: 0.20286893844604492.\n"
          ]
        },
        {
          "name": "stdout",
          "output_type": "stream",
          "text": [
            "  Batch 1,530  of  3,511.    Elapsed: 0:05:15.    Loss: 0.017907818779349327.\n",
            "  Batch 1,530  of  3,511.    Elapsed: 0:05:15.    Loss: 0.017907818779349327.\n",
            "  Batch 1,530  of  3,511.    Elapsed: 0:05:15.    Loss: 0.017907818779349327.\n",
            "  Batch 1,530  of  3,511.    Elapsed: 0:05:15.    Loss: 0.017907818779349327.\n"
          ]
        },
        {
          "name": "stderr",
          "output_type": "stream",
          "text": [
            "INFO:__main__:  Batch 1,530  of  3,511.    Elapsed: 0:05:15.    Loss: 0.017907818779349327.\n"
          ]
        },
        {
          "name": "stdout",
          "output_type": "stream",
          "text": [
            "  Batch 1,540  of  3,511.    Elapsed: 0:05:17.    Loss: 0.17876678705215454.\n",
            "  Batch 1,540  of  3,511.    Elapsed: 0:05:17.    Loss: 0.17876678705215454.\n",
            "  Batch 1,540  of  3,511.    Elapsed: 0:05:17.    Loss: 0.17876678705215454.\n",
            "  Batch 1,540  of  3,511.    Elapsed: 0:05:17.    Loss: 0.17876678705215454.\n"
          ]
        },
        {
          "name": "stderr",
          "output_type": "stream",
          "text": [
            "INFO:__main__:  Batch 1,540  of  3,511.    Elapsed: 0:05:17.    Loss: 0.17876678705215454.\n"
          ]
        },
        {
          "name": "stdout",
          "output_type": "stream",
          "text": [
            "  Batch 1,550  of  3,511.    Elapsed: 0:05:19.    Loss: 0.04322240501642227.\n",
            "  Batch 1,550  of  3,511.    Elapsed: 0:05:19.    Loss: 0.04322240501642227.\n",
            "  Batch 1,550  of  3,511.    Elapsed: 0:05:19.    Loss: 0.04322240501642227.\n",
            "  Batch 1,550  of  3,511.    Elapsed: 0:05:19.    Loss: 0.04322240501642227.\n"
          ]
        },
        {
          "name": "stderr",
          "output_type": "stream",
          "text": [
            "INFO:__main__:  Batch 1,550  of  3,511.    Elapsed: 0:05:19.    Loss: 0.04322240501642227.\n"
          ]
        },
        {
          "name": "stdout",
          "output_type": "stream",
          "text": [
            "  Batch 1,560  of  3,511.    Elapsed: 0:05:21.    Loss: 0.006219141650944948.\n",
            "  Batch 1,560  of  3,511.    Elapsed: 0:05:21.    Loss: 0.006219141650944948.\n",
            "  Batch 1,560  of  3,511.    Elapsed: 0:05:21.    Loss: 0.006219141650944948.\n",
            "  Batch 1,560  of  3,511.    Elapsed: 0:05:21.    Loss: 0.006219141650944948.\n"
          ]
        },
        {
          "name": "stderr",
          "output_type": "stream",
          "text": [
            "INFO:__main__:  Batch 1,560  of  3,511.    Elapsed: 0:05:21.    Loss: 0.006219141650944948.\n"
          ]
        },
        {
          "name": "stdout",
          "output_type": "stream",
          "text": [
            "  Batch 1,570  of  3,511.    Elapsed: 0:05:23.    Loss: 0.09178806096315384.\n",
            "  Batch 1,570  of  3,511.    Elapsed: 0:05:23.    Loss: 0.09178806096315384.\n",
            "  Batch 1,570  of  3,511.    Elapsed: 0:05:23.    Loss: 0.09178806096315384.\n",
            "  Batch 1,570  of  3,511.    Elapsed: 0:05:23.    Loss: 0.09178806096315384.\n"
          ]
        },
        {
          "name": "stderr",
          "output_type": "stream",
          "text": [
            "INFO:__main__:  Batch 1,570  of  3,511.    Elapsed: 0:05:23.    Loss: 0.09178806096315384.\n"
          ]
        },
        {
          "name": "stdout",
          "output_type": "stream",
          "text": [
            "  Batch 1,580  of  3,511.    Elapsed: 0:05:25.    Loss: 0.49405428767204285.\n",
            "  Batch 1,580  of  3,511.    Elapsed: 0:05:25.    Loss: 0.49405428767204285.\n",
            "  Batch 1,580  of  3,511.    Elapsed: 0:05:25.    Loss: 0.49405428767204285.\n",
            "  Batch 1,580  of  3,511.    Elapsed: 0:05:25.    Loss: 0.49405428767204285.\n"
          ]
        },
        {
          "name": "stderr",
          "output_type": "stream",
          "text": [
            "INFO:__main__:  Batch 1,580  of  3,511.    Elapsed: 0:05:25.    Loss: 0.49405428767204285.\n"
          ]
        },
        {
          "name": "stdout",
          "output_type": "stream",
          "text": [
            "  Batch 1,590  of  3,511.    Elapsed: 0:05:27.    Loss: 0.002014400437474251.\n",
            "  Batch 1,590  of  3,511.    Elapsed: 0:05:27.    Loss: 0.002014400437474251.\n",
            "  Batch 1,590  of  3,511.    Elapsed: 0:05:27.    Loss: 0.002014400437474251.\n",
            "  Batch 1,590  of  3,511.    Elapsed: 0:05:27.    Loss: 0.002014400437474251.\n"
          ]
        },
        {
          "name": "stderr",
          "output_type": "stream",
          "text": [
            "INFO:__main__:  Batch 1,590  of  3,511.    Elapsed: 0:05:27.    Loss: 0.002014400437474251.\n"
          ]
        },
        {
          "name": "stdout",
          "output_type": "stream",
          "text": [
            "  Batch 1,600  of  3,511.    Elapsed: 0:05:30.    Loss: 0.11115589737892151.\n",
            "  Batch 1,600  of  3,511.    Elapsed: 0:05:30.    Loss: 0.11115589737892151.\n",
            "  Batch 1,600  of  3,511.    Elapsed: 0:05:30.    Loss: 0.11115589737892151.\n",
            "  Batch 1,600  of  3,511.    Elapsed: 0:05:30.    Loss: 0.11115589737892151.\n"
          ]
        },
        {
          "name": "stderr",
          "output_type": "stream",
          "text": [
            "INFO:__main__:  Batch 1,600  of  3,511.    Elapsed: 0:05:30.    Loss: 0.11115589737892151.\n"
          ]
        },
        {
          "name": "stdout",
          "output_type": "stream",
          "text": [
            "  Batch 1,610  of  3,511.    Elapsed: 0:05:32.    Loss: 0.03119075670838356.\n",
            "  Batch 1,610  of  3,511.    Elapsed: 0:05:32.    Loss: 0.03119075670838356.\n",
            "  Batch 1,610  of  3,511.    Elapsed: 0:05:32.    Loss: 0.03119075670838356.\n",
            "  Batch 1,610  of  3,511.    Elapsed: 0:05:32.    Loss: 0.03119075670838356.\n"
          ]
        },
        {
          "name": "stderr",
          "output_type": "stream",
          "text": [
            "INFO:__main__:  Batch 1,610  of  3,511.    Elapsed: 0:05:32.    Loss: 0.03119075670838356.\n"
          ]
        },
        {
          "name": "stdout",
          "output_type": "stream",
          "text": [
            "  Batch 1,620  of  3,511.    Elapsed: 0:05:34.    Loss: 0.05337638035416603.\n",
            "  Batch 1,620  of  3,511.    Elapsed: 0:05:34.    Loss: 0.05337638035416603.\n",
            "  Batch 1,620  of  3,511.    Elapsed: 0:05:34.    Loss: 0.05337638035416603.\n",
            "  Batch 1,620  of  3,511.    Elapsed: 0:05:34.    Loss: 0.05337638035416603.\n"
          ]
        },
        {
          "name": "stderr",
          "output_type": "stream",
          "text": [
            "INFO:__main__:  Batch 1,620  of  3,511.    Elapsed: 0:05:34.    Loss: 0.05337638035416603.\n"
          ]
        },
        {
          "name": "stdout",
          "output_type": "stream",
          "text": [
            "  Batch 1,630  of  3,511.    Elapsed: 0:05:36.    Loss: 0.23967064917087555.\n",
            "  Batch 1,630  of  3,511.    Elapsed: 0:05:36.    Loss: 0.23967064917087555.\n",
            "  Batch 1,630  of  3,511.    Elapsed: 0:05:36.    Loss: 0.23967064917087555.\n",
            "  Batch 1,630  of  3,511.    Elapsed: 0:05:36.    Loss: 0.23967064917087555.\n"
          ]
        },
        {
          "name": "stderr",
          "output_type": "stream",
          "text": [
            "INFO:__main__:  Batch 1,630  of  3,511.    Elapsed: 0:05:36.    Loss: 0.23967064917087555.\n"
          ]
        },
        {
          "name": "stdout",
          "output_type": "stream",
          "text": [
            "  Batch 1,640  of  3,511.    Elapsed: 0:05:38.    Loss: 0.03159865364432335.\n",
            "  Batch 1,640  of  3,511.    Elapsed: 0:05:38.    Loss: 0.03159865364432335.\n",
            "  Batch 1,640  of  3,511.    Elapsed: 0:05:38.    Loss: 0.03159865364432335.\n",
            "  Batch 1,640  of  3,511.    Elapsed: 0:05:38.    Loss: 0.03159865364432335.\n"
          ]
        },
        {
          "name": "stderr",
          "output_type": "stream",
          "text": [
            "INFO:__main__:  Batch 1,640  of  3,511.    Elapsed: 0:05:38.    Loss: 0.03159865364432335.\n"
          ]
        },
        {
          "name": "stdout",
          "output_type": "stream",
          "text": [
            "  Batch 1,650  of  3,511.    Elapsed: 0:05:40.    Loss: 0.008845320902764797.\n",
            "  Batch 1,650  of  3,511.    Elapsed: 0:05:40.    Loss: 0.008845320902764797.\n",
            "  Batch 1,650  of  3,511.    Elapsed: 0:05:40.    Loss: 0.008845320902764797.\n",
            "  Batch 1,650  of  3,511.    Elapsed: 0:05:40.    Loss: 0.008845320902764797.\n"
          ]
        },
        {
          "name": "stderr",
          "output_type": "stream",
          "text": [
            "INFO:__main__:  Batch 1,650  of  3,511.    Elapsed: 0:05:40.    Loss: 0.008845320902764797.\n"
          ]
        },
        {
          "name": "stdout",
          "output_type": "stream",
          "text": [
            "  Batch 1,660  of  3,511.    Elapsed: 0:05:42.    Loss: 0.16391362249851227.\n",
            "  Batch 1,660  of  3,511.    Elapsed: 0:05:42.    Loss: 0.16391362249851227.\n",
            "  Batch 1,660  of  3,511.    Elapsed: 0:05:42.    Loss: 0.16391362249851227.\n",
            "  Batch 1,660  of  3,511.    Elapsed: 0:05:42.    Loss: 0.16391362249851227.\n"
          ]
        },
        {
          "name": "stderr",
          "output_type": "stream",
          "text": [
            "INFO:__main__:  Batch 1,660  of  3,511.    Elapsed: 0:05:42.    Loss: 0.16391362249851227.\n"
          ]
        },
        {
          "name": "stdout",
          "output_type": "stream",
          "text": [
            "  Batch 1,670  of  3,511.    Elapsed: 0:05:44.    Loss: 0.041581932455301285.\n",
            "  Batch 1,670  of  3,511.    Elapsed: 0:05:44.    Loss: 0.041581932455301285.\n",
            "  Batch 1,670  of  3,511.    Elapsed: 0:05:44.    Loss: 0.041581932455301285.\n",
            "  Batch 1,670  of  3,511.    Elapsed: 0:05:44.    Loss: 0.041581932455301285.\n"
          ]
        },
        {
          "name": "stderr",
          "output_type": "stream",
          "text": [
            "INFO:__main__:  Batch 1,670  of  3,511.    Elapsed: 0:05:44.    Loss: 0.041581932455301285.\n"
          ]
        },
        {
          "name": "stdout",
          "output_type": "stream",
          "text": [
            "  Batch 1,680  of  3,511.    Elapsed: 0:05:46.    Loss: 0.0019377610879018903.\n",
            "  Batch 1,680  of  3,511.    Elapsed: 0:05:46.    Loss: 0.0019377610879018903.\n",
            "  Batch 1,680  of  3,511.    Elapsed: 0:05:46.    Loss: 0.0019377610879018903.\n",
            "  Batch 1,680  of  3,511.    Elapsed: 0:05:46.    Loss: 0.0019377610879018903.\n"
          ]
        },
        {
          "name": "stderr",
          "output_type": "stream",
          "text": [
            "INFO:__main__:  Batch 1,680  of  3,511.    Elapsed: 0:05:46.    Loss: 0.0019377610879018903.\n"
          ]
        },
        {
          "name": "stdout",
          "output_type": "stream",
          "text": [
            "  Batch 1,690  of  3,511.    Elapsed: 0:05:48.    Loss: 0.16001500189304352.\n",
            "  Batch 1,690  of  3,511.    Elapsed: 0:05:48.    Loss: 0.16001500189304352.\n",
            "  Batch 1,690  of  3,511.    Elapsed: 0:05:48.    Loss: 0.16001500189304352.\n",
            "  Batch 1,690  of  3,511.    Elapsed: 0:05:48.    Loss: 0.16001500189304352.\n"
          ]
        },
        {
          "name": "stderr",
          "output_type": "stream",
          "text": [
            "INFO:__main__:  Batch 1,690  of  3,511.    Elapsed: 0:05:48.    Loss: 0.16001500189304352.\n"
          ]
        },
        {
          "name": "stdout",
          "output_type": "stream",
          "text": [
            "  Batch 1,700  of  3,511.    Elapsed: 0:05:50.    Loss: 0.12280895560979843.\n",
            "  Batch 1,700  of  3,511.    Elapsed: 0:05:50.    Loss: 0.12280895560979843.\n",
            "  Batch 1,700  of  3,511.    Elapsed: 0:05:50.    Loss: 0.12280895560979843.\n",
            "  Batch 1,700  of  3,511.    Elapsed: 0:05:50.    Loss: 0.12280895560979843.\n"
          ]
        },
        {
          "name": "stderr",
          "output_type": "stream",
          "text": [
            "INFO:__main__:  Batch 1,700  of  3,511.    Elapsed: 0:05:50.    Loss: 0.12280895560979843.\n"
          ]
        },
        {
          "name": "stdout",
          "output_type": "stream",
          "text": [
            "  Batch 1,710  of  3,511.    Elapsed: 0:05:52.    Loss: 0.16698284447193146.\n",
            "  Batch 1,710  of  3,511.    Elapsed: 0:05:52.    Loss: 0.16698284447193146.\n",
            "  Batch 1,710  of  3,511.    Elapsed: 0:05:52.    Loss: 0.16698284447193146.\n",
            "  Batch 1,710  of  3,511.    Elapsed: 0:05:52.    Loss: 0.16698284447193146.\n"
          ]
        },
        {
          "name": "stderr",
          "output_type": "stream",
          "text": [
            "INFO:__main__:  Batch 1,710  of  3,511.    Elapsed: 0:05:52.    Loss: 0.16698284447193146.\n"
          ]
        },
        {
          "name": "stdout",
          "output_type": "stream",
          "text": [
            "  Batch 1,720  of  3,511.    Elapsed: 0:05:54.    Loss: 0.0006871182122267783.\n",
            "  Batch 1,720  of  3,511.    Elapsed: 0:05:54.    Loss: 0.0006871182122267783.\n",
            "  Batch 1,720  of  3,511.    Elapsed: 0:05:54.    Loss: 0.0006871182122267783.\n",
            "  Batch 1,720  of  3,511.    Elapsed: 0:05:54.    Loss: 0.0006871182122267783.\n"
          ]
        },
        {
          "name": "stderr",
          "output_type": "stream",
          "text": [
            "INFO:__main__:  Batch 1,720  of  3,511.    Elapsed: 0:05:54.    Loss: 0.0006871182122267783.\n"
          ]
        },
        {
          "name": "stdout",
          "output_type": "stream",
          "text": [
            "  Batch 1,730  of  3,511.    Elapsed: 0:05:56.    Loss: 0.02260281704366207.\n",
            "  Batch 1,730  of  3,511.    Elapsed: 0:05:56.    Loss: 0.02260281704366207.\n",
            "  Batch 1,730  of  3,511.    Elapsed: 0:05:56.    Loss: 0.02260281704366207.\n",
            "  Batch 1,730  of  3,511.    Elapsed: 0:05:56.    Loss: 0.02260281704366207.\n"
          ]
        },
        {
          "name": "stderr",
          "output_type": "stream",
          "text": [
            "INFO:__main__:  Batch 1,730  of  3,511.    Elapsed: 0:05:56.    Loss: 0.02260281704366207.\n"
          ]
        },
        {
          "name": "stdout",
          "output_type": "stream",
          "text": [
            "  Batch 1,740  of  3,511.    Elapsed: 0:05:58.    Loss: 0.0304967500269413.\n",
            "  Batch 1,740  of  3,511.    Elapsed: 0:05:58.    Loss: 0.0304967500269413.\n",
            "  Batch 1,740  of  3,511.    Elapsed: 0:05:58.    Loss: 0.0304967500269413.\n",
            "  Batch 1,740  of  3,511.    Elapsed: 0:05:58.    Loss: 0.0304967500269413.\n"
          ]
        },
        {
          "name": "stderr",
          "output_type": "stream",
          "text": [
            "INFO:__main__:  Batch 1,740  of  3,511.    Elapsed: 0:05:58.    Loss: 0.0304967500269413.\n"
          ]
        },
        {
          "name": "stdout",
          "output_type": "stream",
          "text": [
            "  Batch 1,750  of  3,511.    Elapsed: 0:06:00.    Loss: 0.4311744272708893.\n",
            "  Batch 1,750  of  3,511.    Elapsed: 0:06:00.    Loss: 0.4311744272708893.\n",
            "  Batch 1,750  of  3,511.    Elapsed: 0:06:00.    Loss: 0.4311744272708893.\n",
            "  Batch 1,750  of  3,511.    Elapsed: 0:06:00.    Loss: 0.4311744272708893.\n"
          ]
        },
        {
          "name": "stderr",
          "output_type": "stream",
          "text": [
            "INFO:__main__:  Batch 1,750  of  3,511.    Elapsed: 0:06:00.    Loss: 0.4311744272708893.\n"
          ]
        },
        {
          "name": "stdout",
          "output_type": "stream",
          "text": [
            "  Batch 1,760  of  3,511.    Elapsed: 0:06:02.    Loss: 0.015624783001840115.\n",
            "  Batch 1,760  of  3,511.    Elapsed: 0:06:02.    Loss: 0.015624783001840115.\n",
            "  Batch 1,760  of  3,511.    Elapsed: 0:06:02.    Loss: 0.015624783001840115.\n",
            "  Batch 1,760  of  3,511.    Elapsed: 0:06:02.    Loss: 0.015624783001840115.\n"
          ]
        },
        {
          "name": "stderr",
          "output_type": "stream",
          "text": [
            "INFO:__main__:  Batch 1,760  of  3,511.    Elapsed: 0:06:02.    Loss: 0.015624783001840115.\n"
          ]
        },
        {
          "name": "stdout",
          "output_type": "stream",
          "text": [
            "  Batch 1,770  of  3,511.    Elapsed: 0:06:04.    Loss: 0.06425376981496811.\n",
            "  Batch 1,770  of  3,511.    Elapsed: 0:06:04.    Loss: 0.06425376981496811.\n",
            "  Batch 1,770  of  3,511.    Elapsed: 0:06:04.    Loss: 0.06425376981496811.\n",
            "  Batch 1,770  of  3,511.    Elapsed: 0:06:04.    Loss: 0.06425376981496811.\n"
          ]
        },
        {
          "name": "stderr",
          "output_type": "stream",
          "text": [
            "INFO:__main__:  Batch 1,770  of  3,511.    Elapsed: 0:06:04.    Loss: 0.06425376981496811.\n"
          ]
        },
        {
          "name": "stdout",
          "output_type": "stream",
          "text": [
            "  Batch 1,780  of  3,511.    Elapsed: 0:06:07.    Loss: 0.11039326339960098.\n",
            "  Batch 1,780  of  3,511.    Elapsed: 0:06:07.    Loss: 0.11039326339960098.\n",
            "  Batch 1,780  of  3,511.    Elapsed: 0:06:07.    Loss: 0.11039326339960098.\n",
            "  Batch 1,780  of  3,511.    Elapsed: 0:06:07.    Loss: 0.11039326339960098.\n"
          ]
        },
        {
          "name": "stderr",
          "output_type": "stream",
          "text": [
            "INFO:__main__:  Batch 1,780  of  3,511.    Elapsed: 0:06:07.    Loss: 0.11039326339960098.\n"
          ]
        },
        {
          "name": "stdout",
          "output_type": "stream",
          "text": [
            "  Batch 1,790  of  3,511.    Elapsed: 0:06:09.    Loss: 0.052446700632572174.\n",
            "  Batch 1,790  of  3,511.    Elapsed: 0:06:09.    Loss: 0.052446700632572174.\n",
            "  Batch 1,790  of  3,511.    Elapsed: 0:06:09.    Loss: 0.052446700632572174.\n",
            "  Batch 1,790  of  3,511.    Elapsed: 0:06:09.    Loss: 0.052446700632572174.\n"
          ]
        },
        {
          "name": "stderr",
          "output_type": "stream",
          "text": [
            "INFO:__main__:  Batch 1,790  of  3,511.    Elapsed: 0:06:09.    Loss: 0.052446700632572174.\n"
          ]
        },
        {
          "name": "stdout",
          "output_type": "stream",
          "text": [
            "  Batch 1,800  of  3,511.    Elapsed: 0:06:11.    Loss: 0.07156027853488922.\n",
            "  Batch 1,800  of  3,511.    Elapsed: 0:06:11.    Loss: 0.07156027853488922.\n",
            "  Batch 1,800  of  3,511.    Elapsed: 0:06:11.    Loss: 0.07156027853488922.\n",
            "  Batch 1,800  of  3,511.    Elapsed: 0:06:11.    Loss: 0.07156027853488922.\n"
          ]
        },
        {
          "name": "stderr",
          "output_type": "stream",
          "text": [
            "INFO:__main__:  Batch 1,800  of  3,511.    Elapsed: 0:06:11.    Loss: 0.07156027853488922.\n"
          ]
        },
        {
          "name": "stdout",
          "output_type": "stream",
          "text": [
            "  Batch 1,810  of  3,511.    Elapsed: 0:06:13.    Loss: 0.09873978793621063.\n",
            "  Batch 1,810  of  3,511.    Elapsed: 0:06:13.    Loss: 0.09873978793621063.\n",
            "  Batch 1,810  of  3,511.    Elapsed: 0:06:13.    Loss: 0.09873978793621063.\n",
            "  Batch 1,810  of  3,511.    Elapsed: 0:06:13.    Loss: 0.09873978793621063.\n"
          ]
        },
        {
          "name": "stderr",
          "output_type": "stream",
          "text": [
            "INFO:__main__:  Batch 1,810  of  3,511.    Elapsed: 0:06:13.    Loss: 0.09873978793621063.\n"
          ]
        },
        {
          "name": "stdout",
          "output_type": "stream",
          "text": [
            "  Batch 1,820  of  3,511.    Elapsed: 0:06:15.    Loss: 0.002946790773421526.\n",
            "  Batch 1,820  of  3,511.    Elapsed: 0:06:15.    Loss: 0.002946790773421526.\n",
            "  Batch 1,820  of  3,511.    Elapsed: 0:06:15.    Loss: 0.002946790773421526.\n",
            "  Batch 1,820  of  3,511.    Elapsed: 0:06:15.    Loss: 0.002946790773421526.\n"
          ]
        },
        {
          "name": "stderr",
          "output_type": "stream",
          "text": [
            "INFO:__main__:  Batch 1,820  of  3,511.    Elapsed: 0:06:15.    Loss: 0.002946790773421526.\n"
          ]
        },
        {
          "name": "stdout",
          "output_type": "stream",
          "text": [
            "  Batch 1,830  of  3,511.    Elapsed: 0:06:17.    Loss: 0.002788216108456254.\n",
            "  Batch 1,830  of  3,511.    Elapsed: 0:06:17.    Loss: 0.002788216108456254.\n",
            "  Batch 1,830  of  3,511.    Elapsed: 0:06:17.    Loss: 0.002788216108456254.\n",
            "  Batch 1,830  of  3,511.    Elapsed: 0:06:17.    Loss: 0.002788216108456254.\n"
          ]
        },
        {
          "name": "stderr",
          "output_type": "stream",
          "text": [
            "INFO:__main__:  Batch 1,830  of  3,511.    Elapsed: 0:06:17.    Loss: 0.002788216108456254.\n"
          ]
        },
        {
          "name": "stdout",
          "output_type": "stream",
          "text": [
            "  Batch 1,840  of  3,511.    Elapsed: 0:06:19.    Loss: 0.009503772482275963.\n",
            "  Batch 1,840  of  3,511.    Elapsed: 0:06:19.    Loss: 0.009503772482275963.\n",
            "  Batch 1,840  of  3,511.    Elapsed: 0:06:19.    Loss: 0.009503772482275963.\n",
            "  Batch 1,840  of  3,511.    Elapsed: 0:06:19.    Loss: 0.009503772482275963.\n"
          ]
        },
        {
          "name": "stderr",
          "output_type": "stream",
          "text": [
            "INFO:__main__:  Batch 1,840  of  3,511.    Elapsed: 0:06:19.    Loss: 0.009503772482275963.\n"
          ]
        },
        {
          "name": "stdout",
          "output_type": "stream",
          "text": [
            "  Batch 1,850  of  3,511.    Elapsed: 0:06:21.    Loss: 0.11967960745096207.\n",
            "  Batch 1,850  of  3,511.    Elapsed: 0:06:21.    Loss: 0.11967960745096207.\n",
            "  Batch 1,850  of  3,511.    Elapsed: 0:06:21.    Loss: 0.11967960745096207.\n",
            "  Batch 1,850  of  3,511.    Elapsed: 0:06:21.    Loss: 0.11967960745096207.\n"
          ]
        },
        {
          "name": "stderr",
          "output_type": "stream",
          "text": [
            "INFO:__main__:  Batch 1,850  of  3,511.    Elapsed: 0:06:21.    Loss: 0.11967960745096207.\n"
          ]
        },
        {
          "name": "stdout",
          "output_type": "stream",
          "text": [
            "  Batch 1,860  of  3,511.    Elapsed: 0:06:23.    Loss: 0.06447038799524307.\n",
            "  Batch 1,860  of  3,511.    Elapsed: 0:06:23.    Loss: 0.06447038799524307.\n",
            "  Batch 1,860  of  3,511.    Elapsed: 0:06:23.    Loss: 0.06447038799524307.\n",
            "  Batch 1,860  of  3,511.    Elapsed: 0:06:23.    Loss: 0.06447038799524307.\n"
          ]
        },
        {
          "name": "stderr",
          "output_type": "stream",
          "text": [
            "INFO:__main__:  Batch 1,860  of  3,511.    Elapsed: 0:06:23.    Loss: 0.06447038799524307.\n"
          ]
        },
        {
          "name": "stdout",
          "output_type": "stream",
          "text": [
            "  Batch 1,870  of  3,511.    Elapsed: 0:06:25.    Loss: 0.0917675644159317.\n",
            "  Batch 1,870  of  3,511.    Elapsed: 0:06:25.    Loss: 0.0917675644159317.\n",
            "  Batch 1,870  of  3,511.    Elapsed: 0:06:25.    Loss: 0.0917675644159317.\n",
            "  Batch 1,870  of  3,511.    Elapsed: 0:06:25.    Loss: 0.0917675644159317.\n"
          ]
        },
        {
          "name": "stderr",
          "output_type": "stream",
          "text": [
            "INFO:__main__:  Batch 1,870  of  3,511.    Elapsed: 0:06:25.    Loss: 0.0917675644159317.\n"
          ]
        },
        {
          "name": "stdout",
          "output_type": "stream",
          "text": [
            "  Batch 1,880  of  3,511.    Elapsed: 0:06:27.    Loss: 0.018296359106898308.\n",
            "  Batch 1,880  of  3,511.    Elapsed: 0:06:27.    Loss: 0.018296359106898308.\n",
            "  Batch 1,880  of  3,511.    Elapsed: 0:06:27.    Loss: 0.018296359106898308.\n",
            "  Batch 1,880  of  3,511.    Elapsed: 0:06:27.    Loss: 0.018296359106898308.\n"
          ]
        },
        {
          "name": "stderr",
          "output_type": "stream",
          "text": [
            "INFO:__main__:  Batch 1,880  of  3,511.    Elapsed: 0:06:27.    Loss: 0.018296359106898308.\n"
          ]
        },
        {
          "name": "stdout",
          "output_type": "stream",
          "text": [
            "  Batch 1,890  of  3,511.    Elapsed: 0:06:29.    Loss: 0.0011888828594237566.\n",
            "  Batch 1,890  of  3,511.    Elapsed: 0:06:29.    Loss: 0.0011888828594237566.\n",
            "  Batch 1,890  of  3,511.    Elapsed: 0:06:29.    Loss: 0.0011888828594237566.\n",
            "  Batch 1,890  of  3,511.    Elapsed: 0:06:29.    Loss: 0.0011888828594237566.\n"
          ]
        },
        {
          "name": "stderr",
          "output_type": "stream",
          "text": [
            "INFO:__main__:  Batch 1,890  of  3,511.    Elapsed: 0:06:29.    Loss: 0.0011888828594237566.\n"
          ]
        },
        {
          "name": "stdout",
          "output_type": "stream",
          "text": [
            "  Batch 1,900  of  3,511.    Elapsed: 0:06:31.    Loss: 0.002997094765305519.\n",
            "  Batch 1,900  of  3,511.    Elapsed: 0:06:31.    Loss: 0.002997094765305519.\n",
            "  Batch 1,900  of  3,511.    Elapsed: 0:06:31.    Loss: 0.002997094765305519.\n",
            "  Batch 1,900  of  3,511.    Elapsed: 0:06:31.    Loss: 0.002997094765305519.\n"
          ]
        },
        {
          "name": "stderr",
          "output_type": "stream",
          "text": [
            "INFO:__main__:  Batch 1,900  of  3,511.    Elapsed: 0:06:31.    Loss: 0.002997094765305519.\n"
          ]
        },
        {
          "name": "stdout",
          "output_type": "stream",
          "text": [
            "  Batch 1,910  of  3,511.    Elapsed: 0:06:33.    Loss: 0.00126680638641119.\n",
            "  Batch 1,910  of  3,511.    Elapsed: 0:06:33.    Loss: 0.00126680638641119.\n",
            "  Batch 1,910  of  3,511.    Elapsed: 0:06:33.    Loss: 0.00126680638641119.\n",
            "  Batch 1,910  of  3,511.    Elapsed: 0:06:33.    Loss: 0.00126680638641119.\n"
          ]
        },
        {
          "name": "stderr",
          "output_type": "stream",
          "text": [
            "INFO:__main__:  Batch 1,910  of  3,511.    Elapsed: 0:06:33.    Loss: 0.00126680638641119.\n"
          ]
        },
        {
          "name": "stdout",
          "output_type": "stream",
          "text": [
            "  Batch 1,920  of  3,511.    Elapsed: 0:06:35.    Loss: 0.001470837160013616.\n",
            "  Batch 1,920  of  3,511.    Elapsed: 0:06:35.    Loss: 0.001470837160013616.\n",
            "  Batch 1,920  of  3,511.    Elapsed: 0:06:35.    Loss: 0.001470837160013616.\n",
            "  Batch 1,920  of  3,511.    Elapsed: 0:06:35.    Loss: 0.001470837160013616.\n"
          ]
        },
        {
          "name": "stderr",
          "output_type": "stream",
          "text": [
            "INFO:__main__:  Batch 1,920  of  3,511.    Elapsed: 0:06:35.    Loss: 0.001470837160013616.\n"
          ]
        },
        {
          "name": "stdout",
          "output_type": "stream",
          "text": [
            "  Batch 1,930  of  3,511.    Elapsed: 0:06:37.    Loss: 0.0017100642435252666.\n",
            "  Batch 1,930  of  3,511.    Elapsed: 0:06:37.    Loss: 0.0017100642435252666.\n",
            "  Batch 1,930  of  3,511.    Elapsed: 0:06:37.    Loss: 0.0017100642435252666.\n",
            "  Batch 1,930  of  3,511.    Elapsed: 0:06:37.    Loss: 0.0017100642435252666.\n"
          ]
        },
        {
          "name": "stderr",
          "output_type": "stream",
          "text": [
            "INFO:__main__:  Batch 1,930  of  3,511.    Elapsed: 0:06:37.    Loss: 0.0017100642435252666.\n"
          ]
        },
        {
          "name": "stdout",
          "output_type": "stream",
          "text": [
            "  Batch 1,940  of  3,511.    Elapsed: 0:06:39.    Loss: 0.011366937309503555.\n",
            "  Batch 1,940  of  3,511.    Elapsed: 0:06:39.    Loss: 0.011366937309503555.\n",
            "  Batch 1,940  of  3,511.    Elapsed: 0:06:39.    Loss: 0.011366937309503555.\n",
            "  Batch 1,940  of  3,511.    Elapsed: 0:06:39.    Loss: 0.011366937309503555.\n"
          ]
        },
        {
          "name": "stderr",
          "output_type": "stream",
          "text": [
            "INFO:__main__:  Batch 1,940  of  3,511.    Elapsed: 0:06:39.    Loss: 0.011366937309503555.\n"
          ]
        },
        {
          "name": "stdout",
          "output_type": "stream",
          "text": [
            "  Batch 1,950  of  3,511.    Elapsed: 0:06:41.    Loss: 0.04736766219139099.\n",
            "  Batch 1,950  of  3,511.    Elapsed: 0:06:41.    Loss: 0.04736766219139099.\n",
            "  Batch 1,950  of  3,511.    Elapsed: 0:06:41.    Loss: 0.04736766219139099.\n",
            "  Batch 1,950  of  3,511.    Elapsed: 0:06:41.    Loss: 0.04736766219139099.\n"
          ]
        },
        {
          "name": "stderr",
          "output_type": "stream",
          "text": [
            "INFO:__main__:  Batch 1,950  of  3,511.    Elapsed: 0:06:41.    Loss: 0.04736766219139099.\n"
          ]
        },
        {
          "name": "stdout",
          "output_type": "stream",
          "text": [
            "  Batch 1,960  of  3,511.    Elapsed: 0:06:43.    Loss: 0.08116048574447632.\n",
            "  Batch 1,960  of  3,511.    Elapsed: 0:06:43.    Loss: 0.08116048574447632.\n",
            "  Batch 1,960  of  3,511.    Elapsed: 0:06:43.    Loss: 0.08116048574447632.\n",
            "  Batch 1,960  of  3,511.    Elapsed: 0:06:43.    Loss: 0.08116048574447632.\n"
          ]
        },
        {
          "name": "stderr",
          "output_type": "stream",
          "text": [
            "INFO:__main__:  Batch 1,960  of  3,511.    Elapsed: 0:06:43.    Loss: 0.08116048574447632.\n"
          ]
        },
        {
          "name": "stdout",
          "output_type": "stream",
          "text": [
            "  Batch 1,970  of  3,511.    Elapsed: 0:06:45.    Loss: 0.14443138241767883.\n",
            "  Batch 1,970  of  3,511.    Elapsed: 0:06:45.    Loss: 0.14443138241767883.\n",
            "  Batch 1,970  of  3,511.    Elapsed: 0:06:45.    Loss: 0.14443138241767883.\n",
            "  Batch 1,970  of  3,511.    Elapsed: 0:06:45.    Loss: 0.14443138241767883.\n"
          ]
        },
        {
          "name": "stderr",
          "output_type": "stream",
          "text": [
            "INFO:__main__:  Batch 1,970  of  3,511.    Elapsed: 0:06:45.    Loss: 0.14443138241767883.\n"
          ]
        },
        {
          "name": "stdout",
          "output_type": "stream",
          "text": [
            "  Batch 1,980  of  3,511.    Elapsed: 0:06:48.    Loss: 0.01843666099011898.\n",
            "  Batch 1,980  of  3,511.    Elapsed: 0:06:48.    Loss: 0.01843666099011898.\n",
            "  Batch 1,980  of  3,511.    Elapsed: 0:06:48.    Loss: 0.01843666099011898.\n",
            "  Batch 1,980  of  3,511.    Elapsed: 0:06:48.    Loss: 0.01843666099011898.\n"
          ]
        },
        {
          "name": "stderr",
          "output_type": "stream",
          "text": [
            "INFO:__main__:  Batch 1,980  of  3,511.    Elapsed: 0:06:48.    Loss: 0.01843666099011898.\n"
          ]
        },
        {
          "name": "stdout",
          "output_type": "stream",
          "text": [
            "  Batch 1,990  of  3,511.    Elapsed: 0:06:50.    Loss: 0.046019624918699265.\n",
            "  Batch 1,990  of  3,511.    Elapsed: 0:06:50.    Loss: 0.046019624918699265.\n",
            "  Batch 1,990  of  3,511.    Elapsed: 0:06:50.    Loss: 0.046019624918699265.\n",
            "  Batch 1,990  of  3,511.    Elapsed: 0:06:50.    Loss: 0.046019624918699265.\n"
          ]
        },
        {
          "name": "stderr",
          "output_type": "stream",
          "text": [
            "INFO:__main__:  Batch 1,990  of  3,511.    Elapsed: 0:06:50.    Loss: 0.046019624918699265.\n"
          ]
        },
        {
          "name": "stdout",
          "output_type": "stream",
          "text": [
            "  Batch 2,000  of  3,511.    Elapsed: 0:06:52.    Loss: 0.0009895458351820707.\n",
            "  Batch 2,000  of  3,511.    Elapsed: 0:06:52.    Loss: 0.0009895458351820707.\n",
            "  Batch 2,000  of  3,511.    Elapsed: 0:06:52.    Loss: 0.0009895458351820707.\n",
            "  Batch 2,000  of  3,511.    Elapsed: 0:06:52.    Loss: 0.0009895458351820707.\n"
          ]
        },
        {
          "name": "stderr",
          "output_type": "stream",
          "text": [
            "INFO:__main__:  Batch 2,000  of  3,511.    Elapsed: 0:06:52.    Loss: 0.0009895458351820707.\n"
          ]
        },
        {
          "name": "stdout",
          "output_type": "stream",
          "text": [
            "  Batch 2,010  of  3,511.    Elapsed: 0:06:54.    Loss: 0.2711479961872101.\n",
            "  Batch 2,010  of  3,511.    Elapsed: 0:06:54.    Loss: 0.2711479961872101.\n",
            "  Batch 2,010  of  3,511.    Elapsed: 0:06:54.    Loss: 0.2711479961872101.\n",
            "  Batch 2,010  of  3,511.    Elapsed: 0:06:54.    Loss: 0.2711479961872101.\n"
          ]
        },
        {
          "name": "stderr",
          "output_type": "stream",
          "text": [
            "INFO:__main__:  Batch 2,010  of  3,511.    Elapsed: 0:06:54.    Loss: 0.2711479961872101.\n"
          ]
        },
        {
          "name": "stdout",
          "output_type": "stream",
          "text": [
            "  Batch 2,020  of  3,511.    Elapsed: 0:06:56.    Loss: 0.015654658898711205.\n",
            "  Batch 2,020  of  3,511.    Elapsed: 0:06:56.    Loss: 0.015654658898711205.\n",
            "  Batch 2,020  of  3,511.    Elapsed: 0:06:56.    Loss: 0.015654658898711205.\n",
            "  Batch 2,020  of  3,511.    Elapsed: 0:06:56.    Loss: 0.015654658898711205.\n"
          ]
        },
        {
          "name": "stderr",
          "output_type": "stream",
          "text": [
            "INFO:__main__:  Batch 2,020  of  3,511.    Elapsed: 0:06:56.    Loss: 0.015654658898711205.\n"
          ]
        },
        {
          "name": "stdout",
          "output_type": "stream",
          "text": [
            "  Batch 2,030  of  3,511.    Elapsed: 0:06:58.    Loss: 0.3903971314430237.\n",
            "  Batch 2,030  of  3,511.    Elapsed: 0:06:58.    Loss: 0.3903971314430237.\n",
            "  Batch 2,030  of  3,511.    Elapsed: 0:06:58.    Loss: 0.3903971314430237.\n",
            "  Batch 2,030  of  3,511.    Elapsed: 0:06:58.    Loss: 0.3903971314430237.\n"
          ]
        },
        {
          "name": "stderr",
          "output_type": "stream",
          "text": [
            "INFO:__main__:  Batch 2,030  of  3,511.    Elapsed: 0:06:58.    Loss: 0.3903971314430237.\n"
          ]
        },
        {
          "name": "stdout",
          "output_type": "stream",
          "text": [
            "  Batch 2,040  of  3,511.    Elapsed: 0:07:00.    Loss: 0.0028488365933299065.\n",
            "  Batch 2,040  of  3,511.    Elapsed: 0:07:00.    Loss: 0.0028488365933299065.\n",
            "  Batch 2,040  of  3,511.    Elapsed: 0:07:00.    Loss: 0.0028488365933299065.\n",
            "  Batch 2,040  of  3,511.    Elapsed: 0:07:00.    Loss: 0.0028488365933299065.\n"
          ]
        },
        {
          "name": "stderr",
          "output_type": "stream",
          "text": [
            "INFO:__main__:  Batch 2,040  of  3,511.    Elapsed: 0:07:00.    Loss: 0.0028488365933299065.\n"
          ]
        },
        {
          "name": "stdout",
          "output_type": "stream",
          "text": [
            "  Batch 2,050  of  3,511.    Elapsed: 0:07:02.    Loss: 0.29278647899627686.\n",
            "  Batch 2,050  of  3,511.    Elapsed: 0:07:02.    Loss: 0.29278647899627686.\n",
            "  Batch 2,050  of  3,511.    Elapsed: 0:07:02.    Loss: 0.29278647899627686.\n",
            "  Batch 2,050  of  3,511.    Elapsed: 0:07:02.    Loss: 0.29278647899627686.\n"
          ]
        },
        {
          "name": "stderr",
          "output_type": "stream",
          "text": [
            "INFO:__main__:  Batch 2,050  of  3,511.    Elapsed: 0:07:02.    Loss: 0.29278647899627686.\n"
          ]
        },
        {
          "name": "stdout",
          "output_type": "stream",
          "text": [
            "  Batch 2,060  of  3,511.    Elapsed: 0:07:04.    Loss: 0.3058425188064575.\n",
            "  Batch 2,060  of  3,511.    Elapsed: 0:07:04.    Loss: 0.3058425188064575.\n",
            "  Batch 2,060  of  3,511.    Elapsed: 0:07:04.    Loss: 0.3058425188064575.\n",
            "  Batch 2,060  of  3,511.    Elapsed: 0:07:04.    Loss: 0.3058425188064575.\n"
          ]
        },
        {
          "name": "stderr",
          "output_type": "stream",
          "text": [
            "INFO:__main__:  Batch 2,060  of  3,511.    Elapsed: 0:07:04.    Loss: 0.3058425188064575.\n"
          ]
        },
        {
          "name": "stdout",
          "output_type": "stream",
          "text": [
            "  Batch 2,070  of  3,511.    Elapsed: 0:07:06.    Loss: 0.010895016603171825.\n",
            "  Batch 2,070  of  3,511.    Elapsed: 0:07:06.    Loss: 0.010895016603171825.\n",
            "  Batch 2,070  of  3,511.    Elapsed: 0:07:06.    Loss: 0.010895016603171825.\n",
            "  Batch 2,070  of  3,511.    Elapsed: 0:07:06.    Loss: 0.010895016603171825.\n"
          ]
        },
        {
          "name": "stderr",
          "output_type": "stream",
          "text": [
            "INFO:__main__:  Batch 2,070  of  3,511.    Elapsed: 0:07:06.    Loss: 0.010895016603171825.\n"
          ]
        },
        {
          "name": "stdout",
          "output_type": "stream",
          "text": [
            "  Batch 2,080  of  3,511.    Elapsed: 0:07:08.    Loss: 0.0008499835385009646.\n",
            "  Batch 2,080  of  3,511.    Elapsed: 0:07:08.    Loss: 0.0008499835385009646.\n",
            "  Batch 2,080  of  3,511.    Elapsed: 0:07:08.    Loss: 0.0008499835385009646.\n",
            "  Batch 2,080  of  3,511.    Elapsed: 0:07:08.    Loss: 0.0008499835385009646.\n"
          ]
        },
        {
          "name": "stderr",
          "output_type": "stream",
          "text": [
            "INFO:__main__:  Batch 2,080  of  3,511.    Elapsed: 0:07:08.    Loss: 0.0008499835385009646.\n"
          ]
        },
        {
          "name": "stdout",
          "output_type": "stream",
          "text": [
            "  Batch 2,090  of  3,511.    Elapsed: 0:07:10.    Loss: 0.013375634327530861.\n",
            "  Batch 2,090  of  3,511.    Elapsed: 0:07:10.    Loss: 0.013375634327530861.\n",
            "  Batch 2,090  of  3,511.    Elapsed: 0:07:10.    Loss: 0.013375634327530861.\n",
            "  Batch 2,090  of  3,511.    Elapsed: 0:07:10.    Loss: 0.013375634327530861.\n"
          ]
        },
        {
          "name": "stderr",
          "output_type": "stream",
          "text": [
            "INFO:__main__:  Batch 2,090  of  3,511.    Elapsed: 0:07:10.    Loss: 0.013375634327530861.\n"
          ]
        },
        {
          "name": "stdout",
          "output_type": "stream",
          "text": [
            "  Batch 2,100  of  3,511.    Elapsed: 0:07:12.    Loss: 0.007073374465107918.\n",
            "  Batch 2,100  of  3,511.    Elapsed: 0:07:12.    Loss: 0.007073374465107918.\n",
            "  Batch 2,100  of  3,511.    Elapsed: 0:07:12.    Loss: 0.007073374465107918.\n",
            "  Batch 2,100  of  3,511.    Elapsed: 0:07:12.    Loss: 0.007073374465107918.\n"
          ]
        },
        {
          "name": "stderr",
          "output_type": "stream",
          "text": [
            "INFO:__main__:  Batch 2,100  of  3,511.    Elapsed: 0:07:12.    Loss: 0.007073374465107918.\n"
          ]
        },
        {
          "name": "stdout",
          "output_type": "stream",
          "text": [
            "  Batch 2,110  of  3,511.    Elapsed: 0:07:14.    Loss: 0.06513278931379318.\n",
            "  Batch 2,110  of  3,511.    Elapsed: 0:07:14.    Loss: 0.06513278931379318.\n",
            "  Batch 2,110  of  3,511.    Elapsed: 0:07:14.    Loss: 0.06513278931379318.\n",
            "  Batch 2,110  of  3,511.    Elapsed: 0:07:14.    Loss: 0.06513278931379318.\n"
          ]
        },
        {
          "name": "stderr",
          "output_type": "stream",
          "text": [
            "INFO:__main__:  Batch 2,110  of  3,511.    Elapsed: 0:07:14.    Loss: 0.06513278931379318.\n"
          ]
        },
        {
          "name": "stdout",
          "output_type": "stream",
          "text": [
            "  Batch 2,120  of  3,511.    Elapsed: 0:07:16.    Loss: 0.0062570953741669655.\n",
            "  Batch 2,120  of  3,511.    Elapsed: 0:07:16.    Loss: 0.0062570953741669655.\n",
            "  Batch 2,120  of  3,511.    Elapsed: 0:07:16.    Loss: 0.0062570953741669655.\n",
            "  Batch 2,120  of  3,511.    Elapsed: 0:07:16.    Loss: 0.0062570953741669655.\n"
          ]
        },
        {
          "name": "stderr",
          "output_type": "stream",
          "text": [
            "INFO:__main__:  Batch 2,120  of  3,511.    Elapsed: 0:07:16.    Loss: 0.0062570953741669655.\n"
          ]
        },
        {
          "name": "stdout",
          "output_type": "stream",
          "text": [
            "  Batch 2,130  of  3,511.    Elapsed: 0:07:18.    Loss: 0.02112773433327675.\n",
            "  Batch 2,130  of  3,511.    Elapsed: 0:07:18.    Loss: 0.02112773433327675.\n",
            "  Batch 2,130  of  3,511.    Elapsed: 0:07:18.    Loss: 0.02112773433327675.\n",
            "  Batch 2,130  of  3,511.    Elapsed: 0:07:18.    Loss: 0.02112773433327675.\n"
          ]
        },
        {
          "name": "stderr",
          "output_type": "stream",
          "text": [
            "INFO:__main__:  Batch 2,130  of  3,511.    Elapsed: 0:07:18.    Loss: 0.02112773433327675.\n"
          ]
        },
        {
          "name": "stdout",
          "output_type": "stream",
          "text": [
            "  Batch 2,140  of  3,511.    Elapsed: 0:07:20.    Loss: 0.65620356798172.\n",
            "  Batch 2,140  of  3,511.    Elapsed: 0:07:20.    Loss: 0.65620356798172.\n",
            "  Batch 2,140  of  3,511.    Elapsed: 0:07:20.    Loss: 0.65620356798172.\n",
            "  Batch 2,140  of  3,511.    Elapsed: 0:07:20.    Loss: 0.65620356798172.\n"
          ]
        },
        {
          "name": "stderr",
          "output_type": "stream",
          "text": [
            "INFO:__main__:  Batch 2,140  of  3,511.    Elapsed: 0:07:20.    Loss: 0.65620356798172.\n"
          ]
        },
        {
          "name": "stdout",
          "output_type": "stream",
          "text": [
            "  Batch 2,150  of  3,511.    Elapsed: 0:07:22.    Loss: 0.0022873810958117247.\n",
            "  Batch 2,150  of  3,511.    Elapsed: 0:07:22.    Loss: 0.0022873810958117247.\n",
            "  Batch 2,150  of  3,511.    Elapsed: 0:07:22.    Loss: 0.0022873810958117247.\n",
            "  Batch 2,150  of  3,511.    Elapsed: 0:07:22.    Loss: 0.0022873810958117247.\n"
          ]
        },
        {
          "name": "stderr",
          "output_type": "stream",
          "text": [
            "INFO:__main__:  Batch 2,150  of  3,511.    Elapsed: 0:07:22.    Loss: 0.0022873810958117247.\n"
          ]
        },
        {
          "name": "stdout",
          "output_type": "stream",
          "text": [
            "  Batch 2,160  of  3,511.    Elapsed: 0:07:24.    Loss: 0.002543074544519186.\n",
            "  Batch 2,160  of  3,511.    Elapsed: 0:07:24.    Loss: 0.002543074544519186.\n",
            "  Batch 2,160  of  3,511.    Elapsed: 0:07:24.    Loss: 0.002543074544519186.\n",
            "  Batch 2,160  of  3,511.    Elapsed: 0:07:24.    Loss: 0.002543074544519186.\n"
          ]
        },
        {
          "name": "stderr",
          "output_type": "stream",
          "text": [
            "INFO:__main__:  Batch 2,160  of  3,511.    Elapsed: 0:07:24.    Loss: 0.002543074544519186.\n"
          ]
        },
        {
          "name": "stdout",
          "output_type": "stream",
          "text": [
            "  Batch 2,170  of  3,511.    Elapsed: 0:07:26.    Loss: 0.1506359577178955.\n",
            "  Batch 2,170  of  3,511.    Elapsed: 0:07:26.    Loss: 0.1506359577178955.\n",
            "  Batch 2,170  of  3,511.    Elapsed: 0:07:26.    Loss: 0.1506359577178955.\n",
            "  Batch 2,170  of  3,511.    Elapsed: 0:07:26.    Loss: 0.1506359577178955.\n"
          ]
        },
        {
          "name": "stderr",
          "output_type": "stream",
          "text": [
            "INFO:__main__:  Batch 2,170  of  3,511.    Elapsed: 0:07:26.    Loss: 0.1506359577178955.\n"
          ]
        },
        {
          "name": "stdout",
          "output_type": "stream",
          "text": [
            "  Batch 2,180  of  3,511.    Elapsed: 0:07:29.    Loss: 0.08230693638324738.\n",
            "  Batch 2,180  of  3,511.    Elapsed: 0:07:29.    Loss: 0.08230693638324738.\n",
            "  Batch 2,180  of  3,511.    Elapsed: 0:07:29.    Loss: 0.08230693638324738.\n",
            "  Batch 2,180  of  3,511.    Elapsed: 0:07:29.    Loss: 0.08230693638324738.\n"
          ]
        },
        {
          "name": "stderr",
          "output_type": "stream",
          "text": [
            "INFO:__main__:  Batch 2,180  of  3,511.    Elapsed: 0:07:29.    Loss: 0.08230693638324738.\n"
          ]
        },
        {
          "name": "stdout",
          "output_type": "stream",
          "text": [
            "  Batch 2,190  of  3,511.    Elapsed: 0:07:31.    Loss: 0.010869587771594524.\n",
            "  Batch 2,190  of  3,511.    Elapsed: 0:07:31.    Loss: 0.010869587771594524.\n",
            "  Batch 2,190  of  3,511.    Elapsed: 0:07:31.    Loss: 0.010869587771594524.\n",
            "  Batch 2,190  of  3,511.    Elapsed: 0:07:31.    Loss: 0.010869587771594524.\n"
          ]
        },
        {
          "name": "stderr",
          "output_type": "stream",
          "text": [
            "INFO:__main__:  Batch 2,190  of  3,511.    Elapsed: 0:07:31.    Loss: 0.010869587771594524.\n"
          ]
        },
        {
          "name": "stdout",
          "output_type": "stream",
          "text": [
            "  Batch 2,200  of  3,511.    Elapsed: 0:07:33.    Loss: 0.0012931203236803412.\n",
            "  Batch 2,200  of  3,511.    Elapsed: 0:07:33.    Loss: 0.0012931203236803412.\n",
            "  Batch 2,200  of  3,511.    Elapsed: 0:07:33.    Loss: 0.0012931203236803412.\n",
            "  Batch 2,200  of  3,511.    Elapsed: 0:07:33.    Loss: 0.0012931203236803412.\n"
          ]
        },
        {
          "name": "stderr",
          "output_type": "stream",
          "text": [
            "INFO:__main__:  Batch 2,200  of  3,511.    Elapsed: 0:07:33.    Loss: 0.0012931203236803412.\n"
          ]
        },
        {
          "name": "stdout",
          "output_type": "stream",
          "text": [
            "  Batch 2,210  of  3,511.    Elapsed: 0:07:35.    Loss: 0.0029067115392535925.\n",
            "  Batch 2,210  of  3,511.    Elapsed: 0:07:35.    Loss: 0.0029067115392535925.\n",
            "  Batch 2,210  of  3,511.    Elapsed: 0:07:35.    Loss: 0.0029067115392535925.\n",
            "  Batch 2,210  of  3,511.    Elapsed: 0:07:35.    Loss: 0.0029067115392535925.\n"
          ]
        },
        {
          "name": "stderr",
          "output_type": "stream",
          "text": [
            "INFO:__main__:  Batch 2,210  of  3,511.    Elapsed: 0:07:35.    Loss: 0.0029067115392535925.\n"
          ]
        },
        {
          "name": "stdout",
          "output_type": "stream",
          "text": [
            "  Batch 2,220  of  3,511.    Elapsed: 0:07:37.    Loss: 0.0026358666364103556.\n",
            "  Batch 2,220  of  3,511.    Elapsed: 0:07:37.    Loss: 0.0026358666364103556.\n",
            "  Batch 2,220  of  3,511.    Elapsed: 0:07:37.    Loss: 0.0026358666364103556.\n",
            "  Batch 2,220  of  3,511.    Elapsed: 0:07:37.    Loss: 0.0026358666364103556.\n"
          ]
        },
        {
          "name": "stderr",
          "output_type": "stream",
          "text": [
            "INFO:__main__:  Batch 2,220  of  3,511.    Elapsed: 0:07:37.    Loss: 0.0026358666364103556.\n"
          ]
        },
        {
          "name": "stdout",
          "output_type": "stream",
          "text": [
            "  Batch 2,230  of  3,511.    Elapsed: 0:07:39.    Loss: 0.1166590079665184.\n",
            "  Batch 2,230  of  3,511.    Elapsed: 0:07:39.    Loss: 0.1166590079665184.\n",
            "  Batch 2,230  of  3,511.    Elapsed: 0:07:39.    Loss: 0.1166590079665184.\n",
            "  Batch 2,230  of  3,511.    Elapsed: 0:07:39.    Loss: 0.1166590079665184.\n"
          ]
        },
        {
          "name": "stderr",
          "output_type": "stream",
          "text": [
            "INFO:__main__:  Batch 2,230  of  3,511.    Elapsed: 0:07:39.    Loss: 0.1166590079665184.\n"
          ]
        },
        {
          "name": "stdout",
          "output_type": "stream",
          "text": [
            "  Batch 2,240  of  3,511.    Elapsed: 0:07:41.    Loss: 0.007111766841262579.\n",
            "  Batch 2,240  of  3,511.    Elapsed: 0:07:41.    Loss: 0.007111766841262579.\n",
            "  Batch 2,240  of  3,511.    Elapsed: 0:07:41.    Loss: 0.007111766841262579.\n",
            "  Batch 2,240  of  3,511.    Elapsed: 0:07:41.    Loss: 0.007111766841262579.\n"
          ]
        },
        {
          "name": "stderr",
          "output_type": "stream",
          "text": [
            "INFO:__main__:  Batch 2,240  of  3,511.    Elapsed: 0:07:41.    Loss: 0.007111766841262579.\n"
          ]
        },
        {
          "name": "stdout",
          "output_type": "stream",
          "text": [
            "  Batch 2,250  of  3,511.    Elapsed: 0:07:43.    Loss: 0.01067402120679617.\n",
            "  Batch 2,250  of  3,511.    Elapsed: 0:07:43.    Loss: 0.01067402120679617.\n",
            "  Batch 2,250  of  3,511.    Elapsed: 0:07:43.    Loss: 0.01067402120679617.\n",
            "  Batch 2,250  of  3,511.    Elapsed: 0:07:43.    Loss: 0.01067402120679617.\n"
          ]
        },
        {
          "name": "stderr",
          "output_type": "stream",
          "text": [
            "INFO:__main__:  Batch 2,250  of  3,511.    Elapsed: 0:07:43.    Loss: 0.01067402120679617.\n"
          ]
        },
        {
          "name": "stdout",
          "output_type": "stream",
          "text": [
            "  Batch 2,260  of  3,511.    Elapsed: 0:07:45.    Loss: 0.006140320096164942.\n",
            "  Batch 2,260  of  3,511.    Elapsed: 0:07:45.    Loss: 0.006140320096164942.\n",
            "  Batch 2,260  of  3,511.    Elapsed: 0:07:45.    Loss: 0.006140320096164942.\n",
            "  Batch 2,260  of  3,511.    Elapsed: 0:07:45.    Loss: 0.006140320096164942.\n"
          ]
        },
        {
          "name": "stderr",
          "output_type": "stream",
          "text": [
            "INFO:__main__:  Batch 2,260  of  3,511.    Elapsed: 0:07:45.    Loss: 0.006140320096164942.\n"
          ]
        },
        {
          "name": "stdout",
          "output_type": "stream",
          "text": [
            "  Batch 2,270  of  3,511.    Elapsed: 0:07:47.    Loss: 0.07245441526174545.\n",
            "  Batch 2,270  of  3,511.    Elapsed: 0:07:47.    Loss: 0.07245441526174545.\n",
            "  Batch 2,270  of  3,511.    Elapsed: 0:07:47.    Loss: 0.07245441526174545.\n",
            "  Batch 2,270  of  3,511.    Elapsed: 0:07:47.    Loss: 0.07245441526174545.\n"
          ]
        },
        {
          "name": "stderr",
          "output_type": "stream",
          "text": [
            "INFO:__main__:  Batch 2,270  of  3,511.    Elapsed: 0:07:47.    Loss: 0.07245441526174545.\n"
          ]
        },
        {
          "name": "stdout",
          "output_type": "stream",
          "text": [
            "  Batch 2,280  of  3,511.    Elapsed: 0:07:49.    Loss: 0.0007633147179149091.\n",
            "  Batch 2,280  of  3,511.    Elapsed: 0:07:49.    Loss: 0.0007633147179149091.\n",
            "  Batch 2,280  of  3,511.    Elapsed: 0:07:49.    Loss: 0.0007633147179149091.\n",
            "  Batch 2,280  of  3,511.    Elapsed: 0:07:49.    Loss: 0.0007633147179149091.\n"
          ]
        },
        {
          "name": "stderr",
          "output_type": "stream",
          "text": [
            "INFO:__main__:  Batch 2,280  of  3,511.    Elapsed: 0:07:49.    Loss: 0.0007633147179149091.\n"
          ]
        },
        {
          "name": "stdout",
          "output_type": "stream",
          "text": [
            "  Batch 2,290  of  3,511.    Elapsed: 0:07:51.    Loss: 0.002630910836160183.\n",
            "  Batch 2,290  of  3,511.    Elapsed: 0:07:51.    Loss: 0.002630910836160183.\n",
            "  Batch 2,290  of  3,511.    Elapsed: 0:07:51.    Loss: 0.002630910836160183.\n",
            "  Batch 2,290  of  3,511.    Elapsed: 0:07:51.    Loss: 0.002630910836160183.\n"
          ]
        },
        {
          "name": "stderr",
          "output_type": "stream",
          "text": [
            "INFO:__main__:  Batch 2,290  of  3,511.    Elapsed: 0:07:51.    Loss: 0.002630910836160183.\n"
          ]
        },
        {
          "name": "stdout",
          "output_type": "stream",
          "text": [
            "  Batch 2,300  of  3,511.    Elapsed: 0:07:53.    Loss: 0.08339059352874756.\n",
            "  Batch 2,300  of  3,511.    Elapsed: 0:07:53.    Loss: 0.08339059352874756.\n",
            "  Batch 2,300  of  3,511.    Elapsed: 0:07:53.    Loss: 0.08339059352874756.\n",
            "  Batch 2,300  of  3,511.    Elapsed: 0:07:53.    Loss: 0.08339059352874756.\n"
          ]
        },
        {
          "name": "stderr",
          "output_type": "stream",
          "text": [
            "INFO:__main__:  Batch 2,300  of  3,511.    Elapsed: 0:07:53.    Loss: 0.08339059352874756.\n"
          ]
        },
        {
          "name": "stdout",
          "output_type": "stream",
          "text": [
            "  Batch 2,310  of  3,511.    Elapsed: 0:07:55.    Loss: 0.009614714421331882.\n",
            "  Batch 2,310  of  3,511.    Elapsed: 0:07:55.    Loss: 0.009614714421331882.\n",
            "  Batch 2,310  of  3,511.    Elapsed: 0:07:55.    Loss: 0.009614714421331882.\n",
            "  Batch 2,310  of  3,511.    Elapsed: 0:07:55.    Loss: 0.009614714421331882.\n"
          ]
        },
        {
          "name": "stderr",
          "output_type": "stream",
          "text": [
            "INFO:__main__:  Batch 2,310  of  3,511.    Elapsed: 0:07:55.    Loss: 0.009614714421331882.\n"
          ]
        },
        {
          "name": "stdout",
          "output_type": "stream",
          "text": [
            "  Batch 2,320  of  3,511.    Elapsed: 0:07:57.    Loss: 0.0026821247301995754.\n",
            "  Batch 2,320  of  3,511.    Elapsed: 0:07:57.    Loss: 0.0026821247301995754.\n",
            "  Batch 2,320  of  3,511.    Elapsed: 0:07:57.    Loss: 0.0026821247301995754.\n",
            "  Batch 2,320  of  3,511.    Elapsed: 0:07:57.    Loss: 0.0026821247301995754.\n"
          ]
        },
        {
          "name": "stderr",
          "output_type": "stream",
          "text": [
            "INFO:__main__:  Batch 2,320  of  3,511.    Elapsed: 0:07:57.    Loss: 0.0026821247301995754.\n"
          ]
        },
        {
          "name": "stdout",
          "output_type": "stream",
          "text": [
            "  Batch 2,330  of  3,511.    Elapsed: 0:07:59.    Loss: 0.000922642822843045.\n",
            "  Batch 2,330  of  3,511.    Elapsed: 0:07:59.    Loss: 0.000922642822843045.\n",
            "  Batch 2,330  of  3,511.    Elapsed: 0:07:59.    Loss: 0.000922642822843045.\n",
            "  Batch 2,330  of  3,511.    Elapsed: 0:07:59.    Loss: 0.000922642822843045.\n"
          ]
        },
        {
          "name": "stderr",
          "output_type": "stream",
          "text": [
            "INFO:__main__:  Batch 2,330  of  3,511.    Elapsed: 0:07:59.    Loss: 0.000922642822843045.\n"
          ]
        },
        {
          "name": "stdout",
          "output_type": "stream",
          "text": [
            "  Batch 2,340  of  3,511.    Elapsed: 0:08:01.    Loss: 0.42751967906951904.\n",
            "  Batch 2,340  of  3,511.    Elapsed: 0:08:01.    Loss: 0.42751967906951904.\n",
            "  Batch 2,340  of  3,511.    Elapsed: 0:08:01.    Loss: 0.42751967906951904.\n",
            "  Batch 2,340  of  3,511.    Elapsed: 0:08:01.    Loss: 0.42751967906951904.\n"
          ]
        },
        {
          "name": "stderr",
          "output_type": "stream",
          "text": [
            "INFO:__main__:  Batch 2,340  of  3,511.    Elapsed: 0:08:01.    Loss: 0.42751967906951904.\n"
          ]
        },
        {
          "name": "stdout",
          "output_type": "stream",
          "text": [
            "  Batch 2,350  of  3,511.    Elapsed: 0:08:03.    Loss: 0.0019152802415192127.\n",
            "  Batch 2,350  of  3,511.    Elapsed: 0:08:03.    Loss: 0.0019152802415192127.\n",
            "  Batch 2,350  of  3,511.    Elapsed: 0:08:03.    Loss: 0.0019152802415192127.\n",
            "  Batch 2,350  of  3,511.    Elapsed: 0:08:03.    Loss: 0.0019152802415192127.\n"
          ]
        },
        {
          "name": "stderr",
          "output_type": "stream",
          "text": [
            "INFO:__main__:  Batch 2,350  of  3,511.    Elapsed: 0:08:03.    Loss: 0.0019152802415192127.\n"
          ]
        },
        {
          "name": "stdout",
          "output_type": "stream",
          "text": [
            "  Batch 2,360  of  3,511.    Elapsed: 0:08:06.    Loss: 0.0010276727844029665.\n",
            "  Batch 2,360  of  3,511.    Elapsed: 0:08:06.    Loss: 0.0010276727844029665.\n",
            "  Batch 2,360  of  3,511.    Elapsed: 0:08:06.    Loss: 0.0010276727844029665.\n",
            "  Batch 2,360  of  3,511.    Elapsed: 0:08:06.    Loss: 0.0010276727844029665.\n"
          ]
        },
        {
          "name": "stderr",
          "output_type": "stream",
          "text": [
            "INFO:__main__:  Batch 2,360  of  3,511.    Elapsed: 0:08:06.    Loss: 0.0010276727844029665.\n"
          ]
        },
        {
          "name": "stdout",
          "output_type": "stream",
          "text": [
            "  Batch 2,370  of  3,511.    Elapsed: 0:08:08.    Loss: 0.03579854220151901.\n",
            "  Batch 2,370  of  3,511.    Elapsed: 0:08:08.    Loss: 0.03579854220151901.\n",
            "  Batch 2,370  of  3,511.    Elapsed: 0:08:08.    Loss: 0.03579854220151901.\n",
            "  Batch 2,370  of  3,511.    Elapsed: 0:08:08.    Loss: 0.03579854220151901.\n"
          ]
        },
        {
          "name": "stderr",
          "output_type": "stream",
          "text": [
            "INFO:__main__:  Batch 2,370  of  3,511.    Elapsed: 0:08:08.    Loss: 0.03579854220151901.\n"
          ]
        },
        {
          "name": "stdout",
          "output_type": "stream",
          "text": [
            "  Batch 2,380  of  3,511.    Elapsed: 0:08:10.    Loss: 0.000891086005140096.\n",
            "  Batch 2,380  of  3,511.    Elapsed: 0:08:10.    Loss: 0.000891086005140096.\n",
            "  Batch 2,380  of  3,511.    Elapsed: 0:08:10.    Loss: 0.000891086005140096.\n",
            "  Batch 2,380  of  3,511.    Elapsed: 0:08:10.    Loss: 0.000891086005140096.\n"
          ]
        },
        {
          "name": "stderr",
          "output_type": "stream",
          "text": [
            "INFO:__main__:  Batch 2,380  of  3,511.    Elapsed: 0:08:10.    Loss: 0.000891086005140096.\n"
          ]
        },
        {
          "name": "stdout",
          "output_type": "stream",
          "text": [
            "  Batch 2,390  of  3,511.    Elapsed: 0:08:12.    Loss: 0.21459807455539703.\n",
            "  Batch 2,390  of  3,511.    Elapsed: 0:08:12.    Loss: 0.21459807455539703.\n",
            "  Batch 2,390  of  3,511.    Elapsed: 0:08:12.    Loss: 0.21459807455539703.\n",
            "  Batch 2,390  of  3,511.    Elapsed: 0:08:12.    Loss: 0.21459807455539703.\n"
          ]
        },
        {
          "name": "stderr",
          "output_type": "stream",
          "text": [
            "INFO:__main__:  Batch 2,390  of  3,511.    Elapsed: 0:08:12.    Loss: 0.21459807455539703.\n"
          ]
        },
        {
          "name": "stdout",
          "output_type": "stream",
          "text": [
            "  Batch 2,400  of  3,511.    Elapsed: 0:08:14.    Loss: 0.10570412129163742.\n",
            "  Batch 2,400  of  3,511.    Elapsed: 0:08:14.    Loss: 0.10570412129163742.\n",
            "  Batch 2,400  of  3,511.    Elapsed: 0:08:14.    Loss: 0.10570412129163742.\n",
            "  Batch 2,400  of  3,511.    Elapsed: 0:08:14.    Loss: 0.10570412129163742.\n"
          ]
        },
        {
          "name": "stderr",
          "output_type": "stream",
          "text": [
            "INFO:__main__:  Batch 2,400  of  3,511.    Elapsed: 0:08:14.    Loss: 0.10570412129163742.\n"
          ]
        },
        {
          "name": "stdout",
          "output_type": "stream",
          "text": [
            "  Batch 2,410  of  3,511.    Elapsed: 0:08:16.    Loss: 0.01064054761081934.\n",
            "  Batch 2,410  of  3,511.    Elapsed: 0:08:16.    Loss: 0.01064054761081934.\n",
            "  Batch 2,410  of  3,511.    Elapsed: 0:08:16.    Loss: 0.01064054761081934.\n",
            "  Batch 2,410  of  3,511.    Elapsed: 0:08:16.    Loss: 0.01064054761081934.\n"
          ]
        },
        {
          "name": "stderr",
          "output_type": "stream",
          "text": [
            "INFO:__main__:  Batch 2,410  of  3,511.    Elapsed: 0:08:16.    Loss: 0.01064054761081934.\n"
          ]
        },
        {
          "name": "stdout",
          "output_type": "stream",
          "text": [
            "  Batch 2,420  of  3,511.    Elapsed: 0:08:18.    Loss: 0.002133796224370599.\n",
            "  Batch 2,420  of  3,511.    Elapsed: 0:08:18.    Loss: 0.002133796224370599.\n",
            "  Batch 2,420  of  3,511.    Elapsed: 0:08:18.    Loss: 0.002133796224370599.\n",
            "  Batch 2,420  of  3,511.    Elapsed: 0:08:18.    Loss: 0.002133796224370599.\n"
          ]
        },
        {
          "name": "stderr",
          "output_type": "stream",
          "text": [
            "INFO:__main__:  Batch 2,420  of  3,511.    Elapsed: 0:08:18.    Loss: 0.002133796224370599.\n"
          ]
        },
        {
          "name": "stdout",
          "output_type": "stream",
          "text": [
            "  Batch 2,430  of  3,511.    Elapsed: 0:08:20.    Loss: 0.004071757197380066.\n",
            "  Batch 2,430  of  3,511.    Elapsed: 0:08:20.    Loss: 0.004071757197380066.\n",
            "  Batch 2,430  of  3,511.    Elapsed: 0:08:20.    Loss: 0.004071757197380066.\n",
            "  Batch 2,430  of  3,511.    Elapsed: 0:08:20.    Loss: 0.004071757197380066.\n"
          ]
        },
        {
          "name": "stderr",
          "output_type": "stream",
          "text": [
            "INFO:__main__:  Batch 2,430  of  3,511.    Elapsed: 0:08:20.    Loss: 0.004071757197380066.\n"
          ]
        },
        {
          "name": "stdout",
          "output_type": "stream",
          "text": [
            "  Batch 2,440  of  3,511.    Elapsed: 0:08:22.    Loss: 0.008140264078974724.\n",
            "  Batch 2,440  of  3,511.    Elapsed: 0:08:22.    Loss: 0.008140264078974724.\n",
            "  Batch 2,440  of  3,511.    Elapsed: 0:08:22.    Loss: 0.008140264078974724.\n",
            "  Batch 2,440  of  3,511.    Elapsed: 0:08:22.    Loss: 0.008140264078974724.\n"
          ]
        },
        {
          "name": "stderr",
          "output_type": "stream",
          "text": [
            "INFO:__main__:  Batch 2,440  of  3,511.    Elapsed: 0:08:22.    Loss: 0.008140264078974724.\n"
          ]
        },
        {
          "name": "stdout",
          "output_type": "stream",
          "text": [
            "  Batch 2,450  of  3,511.    Elapsed: 0:08:24.    Loss: 0.0009828737238422036.\n",
            "  Batch 2,450  of  3,511.    Elapsed: 0:08:24.    Loss: 0.0009828737238422036.\n",
            "  Batch 2,450  of  3,511.    Elapsed: 0:08:24.    Loss: 0.0009828737238422036.\n",
            "  Batch 2,450  of  3,511.    Elapsed: 0:08:24.    Loss: 0.0009828737238422036.\n"
          ]
        },
        {
          "name": "stderr",
          "output_type": "stream",
          "text": [
            "INFO:__main__:  Batch 2,450  of  3,511.    Elapsed: 0:08:24.    Loss: 0.0009828737238422036.\n"
          ]
        },
        {
          "name": "stdout",
          "output_type": "stream",
          "text": [
            "  Batch 2,460  of  3,511.    Elapsed: 0:08:26.    Loss: 0.07706992328166962.\n",
            "  Batch 2,460  of  3,511.    Elapsed: 0:08:26.    Loss: 0.07706992328166962.\n",
            "  Batch 2,460  of  3,511.    Elapsed: 0:08:26.    Loss: 0.07706992328166962.\n",
            "  Batch 2,460  of  3,511.    Elapsed: 0:08:26.    Loss: 0.07706992328166962.\n"
          ]
        },
        {
          "name": "stderr",
          "output_type": "stream",
          "text": [
            "INFO:__main__:  Batch 2,460  of  3,511.    Elapsed: 0:08:26.    Loss: 0.07706992328166962.\n"
          ]
        },
        {
          "name": "stdout",
          "output_type": "stream",
          "text": [
            "  Batch 2,470  of  3,511.    Elapsed: 0:08:28.    Loss: 0.0011311196722090244.\n",
            "  Batch 2,470  of  3,511.    Elapsed: 0:08:28.    Loss: 0.0011311196722090244.\n",
            "  Batch 2,470  of  3,511.    Elapsed: 0:08:28.    Loss: 0.0011311196722090244.\n",
            "  Batch 2,470  of  3,511.    Elapsed: 0:08:28.    Loss: 0.0011311196722090244.\n"
          ]
        },
        {
          "name": "stderr",
          "output_type": "stream",
          "text": [
            "INFO:__main__:  Batch 2,470  of  3,511.    Elapsed: 0:08:28.    Loss: 0.0011311196722090244.\n"
          ]
        },
        {
          "name": "stdout",
          "output_type": "stream",
          "text": [
            "  Batch 2,480  of  3,511.    Elapsed: 0:08:30.    Loss: 0.31192082166671753.\n",
            "  Batch 2,480  of  3,511.    Elapsed: 0:08:30.    Loss: 0.31192082166671753.\n",
            "  Batch 2,480  of  3,511.    Elapsed: 0:08:30.    Loss: 0.31192082166671753.\n",
            "  Batch 2,480  of  3,511.    Elapsed: 0:08:30.    Loss: 0.31192082166671753.\n"
          ]
        },
        {
          "name": "stderr",
          "output_type": "stream",
          "text": [
            "INFO:__main__:  Batch 2,480  of  3,511.    Elapsed: 0:08:30.    Loss: 0.31192082166671753.\n"
          ]
        },
        {
          "name": "stdout",
          "output_type": "stream",
          "text": [
            "  Batch 2,490  of  3,511.    Elapsed: 0:08:32.    Loss: 0.0007920891512185335.\n",
            "  Batch 2,490  of  3,511.    Elapsed: 0:08:32.    Loss: 0.0007920891512185335.\n",
            "  Batch 2,490  of  3,511.    Elapsed: 0:08:32.    Loss: 0.0007920891512185335.\n",
            "  Batch 2,490  of  3,511.    Elapsed: 0:08:32.    Loss: 0.0007920891512185335.\n"
          ]
        },
        {
          "name": "stderr",
          "output_type": "stream",
          "text": [
            "INFO:__main__:  Batch 2,490  of  3,511.    Elapsed: 0:08:32.    Loss: 0.0007920891512185335.\n"
          ]
        },
        {
          "name": "stdout",
          "output_type": "stream",
          "text": [
            "  Batch 2,500  of  3,511.    Elapsed: 0:08:34.    Loss: 0.003418609732761979.\n",
            "  Batch 2,500  of  3,511.    Elapsed: 0:08:34.    Loss: 0.003418609732761979.\n",
            "  Batch 2,500  of  3,511.    Elapsed: 0:08:34.    Loss: 0.003418609732761979.\n",
            "  Batch 2,500  of  3,511.    Elapsed: 0:08:34.    Loss: 0.003418609732761979.\n"
          ]
        },
        {
          "name": "stderr",
          "output_type": "stream",
          "text": [
            "INFO:__main__:  Batch 2,500  of  3,511.    Elapsed: 0:08:34.    Loss: 0.003418609732761979.\n"
          ]
        },
        {
          "name": "stdout",
          "output_type": "stream",
          "text": [
            "  Batch 2,510  of  3,511.    Elapsed: 0:08:36.    Loss: 0.028880812227725983.\n",
            "  Batch 2,510  of  3,511.    Elapsed: 0:08:36.    Loss: 0.028880812227725983.\n",
            "  Batch 2,510  of  3,511.    Elapsed: 0:08:36.    Loss: 0.028880812227725983.\n",
            "  Batch 2,510  of  3,511.    Elapsed: 0:08:36.    Loss: 0.028880812227725983.\n"
          ]
        },
        {
          "name": "stderr",
          "output_type": "stream",
          "text": [
            "INFO:__main__:  Batch 2,510  of  3,511.    Elapsed: 0:08:36.    Loss: 0.028880812227725983.\n"
          ]
        },
        {
          "name": "stdout",
          "output_type": "stream",
          "text": [
            "  Batch 2,520  of  3,511.    Elapsed: 0:08:38.    Loss: 0.010470114648342133.\n",
            "  Batch 2,520  of  3,511.    Elapsed: 0:08:38.    Loss: 0.010470114648342133.\n",
            "  Batch 2,520  of  3,511.    Elapsed: 0:08:38.    Loss: 0.010470114648342133.\n",
            "  Batch 2,520  of  3,511.    Elapsed: 0:08:38.    Loss: 0.010470114648342133.\n"
          ]
        },
        {
          "name": "stderr",
          "output_type": "stream",
          "text": [
            "INFO:__main__:  Batch 2,520  of  3,511.    Elapsed: 0:08:38.    Loss: 0.010470114648342133.\n"
          ]
        },
        {
          "name": "stdout",
          "output_type": "stream",
          "text": [
            "  Batch 2,530  of  3,511.    Elapsed: 0:08:40.    Loss: 0.0053149256855249405.\n",
            "  Batch 2,530  of  3,511.    Elapsed: 0:08:40.    Loss: 0.0053149256855249405.\n",
            "  Batch 2,530  of  3,511.    Elapsed: 0:08:40.    Loss: 0.0053149256855249405.\n",
            "  Batch 2,530  of  3,511.    Elapsed: 0:08:40.    Loss: 0.0053149256855249405.\n"
          ]
        },
        {
          "name": "stderr",
          "output_type": "stream",
          "text": [
            "INFO:__main__:  Batch 2,530  of  3,511.    Elapsed: 0:08:40.    Loss: 0.0053149256855249405.\n"
          ]
        },
        {
          "name": "stdout",
          "output_type": "stream",
          "text": [
            "  Batch 2,540  of  3,511.    Elapsed: 0:08:42.    Loss: 0.0008125829044729471.\n",
            "  Batch 2,540  of  3,511.    Elapsed: 0:08:42.    Loss: 0.0008125829044729471.\n",
            "  Batch 2,540  of  3,511.    Elapsed: 0:08:42.    Loss: 0.0008125829044729471.\n",
            "  Batch 2,540  of  3,511.    Elapsed: 0:08:42.    Loss: 0.0008125829044729471.\n"
          ]
        },
        {
          "name": "stderr",
          "output_type": "stream",
          "text": [
            "INFO:__main__:  Batch 2,540  of  3,511.    Elapsed: 0:08:42.    Loss: 0.0008125829044729471.\n"
          ]
        },
        {
          "name": "stdout",
          "output_type": "stream",
          "text": [
            "  Batch 2,550  of  3,511.    Elapsed: 0:08:45.    Loss: 0.1060604527592659.\n",
            "  Batch 2,550  of  3,511.    Elapsed: 0:08:45.    Loss: 0.1060604527592659.\n",
            "  Batch 2,550  of  3,511.    Elapsed: 0:08:45.    Loss: 0.1060604527592659.\n",
            "  Batch 2,550  of  3,511.    Elapsed: 0:08:45.    Loss: 0.1060604527592659.\n"
          ]
        },
        {
          "name": "stderr",
          "output_type": "stream",
          "text": [
            "INFO:__main__:  Batch 2,550  of  3,511.    Elapsed: 0:08:45.    Loss: 0.1060604527592659.\n"
          ]
        },
        {
          "name": "stdout",
          "output_type": "stream",
          "text": [
            "  Batch 2,560  of  3,511.    Elapsed: 0:08:47.    Loss: 0.007421157322824001.\n",
            "  Batch 2,560  of  3,511.    Elapsed: 0:08:47.    Loss: 0.007421157322824001.\n",
            "  Batch 2,560  of  3,511.    Elapsed: 0:08:47.    Loss: 0.007421157322824001.\n",
            "  Batch 2,560  of  3,511.    Elapsed: 0:08:47.    Loss: 0.007421157322824001.\n"
          ]
        },
        {
          "name": "stderr",
          "output_type": "stream",
          "text": [
            "INFO:__main__:  Batch 2,560  of  3,511.    Elapsed: 0:08:47.    Loss: 0.007421157322824001.\n"
          ]
        },
        {
          "name": "stdout",
          "output_type": "stream",
          "text": [
            "  Batch 2,570  of  3,511.    Elapsed: 0:08:49.    Loss: 0.003899193136021495.\n",
            "  Batch 2,570  of  3,511.    Elapsed: 0:08:49.    Loss: 0.003899193136021495.\n",
            "  Batch 2,570  of  3,511.    Elapsed: 0:08:49.    Loss: 0.003899193136021495.\n",
            "  Batch 2,570  of  3,511.    Elapsed: 0:08:49.    Loss: 0.003899193136021495.\n"
          ]
        },
        {
          "name": "stderr",
          "output_type": "stream",
          "text": [
            "INFO:__main__:  Batch 2,570  of  3,511.    Elapsed: 0:08:49.    Loss: 0.003899193136021495.\n"
          ]
        },
        {
          "name": "stdout",
          "output_type": "stream",
          "text": [
            "  Batch 2,580  of  3,511.    Elapsed: 0:08:51.    Loss: 0.03458888828754425.\n",
            "  Batch 2,580  of  3,511.    Elapsed: 0:08:51.    Loss: 0.03458888828754425.\n",
            "  Batch 2,580  of  3,511.    Elapsed: 0:08:51.    Loss: 0.03458888828754425.\n",
            "  Batch 2,580  of  3,511.    Elapsed: 0:08:51.    Loss: 0.03458888828754425.\n"
          ]
        },
        {
          "name": "stderr",
          "output_type": "stream",
          "text": [
            "INFO:__main__:  Batch 2,580  of  3,511.    Elapsed: 0:08:51.    Loss: 0.03458888828754425.\n"
          ]
        },
        {
          "name": "stdout",
          "output_type": "stream",
          "text": [
            "  Batch 2,590  of  3,511.    Elapsed: 0:08:53.    Loss: 0.10569116473197937.\n",
            "  Batch 2,590  of  3,511.    Elapsed: 0:08:53.    Loss: 0.10569116473197937.\n",
            "  Batch 2,590  of  3,511.    Elapsed: 0:08:53.    Loss: 0.10569116473197937.\n",
            "  Batch 2,590  of  3,511.    Elapsed: 0:08:53.    Loss: 0.10569116473197937.\n"
          ]
        },
        {
          "name": "stderr",
          "output_type": "stream",
          "text": [
            "INFO:__main__:  Batch 2,590  of  3,511.    Elapsed: 0:08:53.    Loss: 0.10569116473197937.\n"
          ]
        },
        {
          "name": "stdout",
          "output_type": "stream",
          "text": [
            "  Batch 2,600  of  3,511.    Elapsed: 0:08:55.    Loss: 0.6393467783927917.\n",
            "  Batch 2,600  of  3,511.    Elapsed: 0:08:55.    Loss: 0.6393467783927917.\n",
            "  Batch 2,600  of  3,511.    Elapsed: 0:08:55.    Loss: 0.6393467783927917.\n",
            "  Batch 2,600  of  3,511.    Elapsed: 0:08:55.    Loss: 0.6393467783927917.\n"
          ]
        },
        {
          "name": "stderr",
          "output_type": "stream",
          "text": [
            "INFO:__main__:  Batch 2,600  of  3,511.    Elapsed: 0:08:55.    Loss: 0.6393467783927917.\n"
          ]
        },
        {
          "name": "stdout",
          "output_type": "stream",
          "text": [
            "  Batch 2,610  of  3,511.    Elapsed: 0:08:57.    Loss: 0.13657917082309723.\n",
            "  Batch 2,610  of  3,511.    Elapsed: 0:08:57.    Loss: 0.13657917082309723.\n",
            "  Batch 2,610  of  3,511.    Elapsed: 0:08:57.    Loss: 0.13657917082309723.\n",
            "  Batch 2,610  of  3,511.    Elapsed: 0:08:57.    Loss: 0.13657917082309723.\n"
          ]
        },
        {
          "name": "stderr",
          "output_type": "stream",
          "text": [
            "INFO:__main__:  Batch 2,610  of  3,511.    Elapsed: 0:08:57.    Loss: 0.13657917082309723.\n"
          ]
        },
        {
          "name": "stdout",
          "output_type": "stream",
          "text": [
            "  Batch 2,620  of  3,511.    Elapsed: 0:08:59.    Loss: 0.0340149812400341.\n",
            "  Batch 2,620  of  3,511.    Elapsed: 0:08:59.    Loss: 0.0340149812400341.\n",
            "  Batch 2,620  of  3,511.    Elapsed: 0:08:59.    Loss: 0.0340149812400341.\n",
            "  Batch 2,620  of  3,511.    Elapsed: 0:08:59.    Loss: 0.0340149812400341.\n"
          ]
        },
        {
          "name": "stderr",
          "output_type": "stream",
          "text": [
            "INFO:__main__:  Batch 2,620  of  3,511.    Elapsed: 0:08:59.    Loss: 0.0340149812400341.\n"
          ]
        },
        {
          "name": "stdout",
          "output_type": "stream",
          "text": [
            "  Batch 2,630  of  3,511.    Elapsed: 0:09:01.    Loss: 0.014191250316798687.\n",
            "  Batch 2,630  of  3,511.    Elapsed: 0:09:01.    Loss: 0.014191250316798687.\n",
            "  Batch 2,630  of  3,511.    Elapsed: 0:09:01.    Loss: 0.014191250316798687.\n",
            "  Batch 2,630  of  3,511.    Elapsed: 0:09:01.    Loss: 0.014191250316798687.\n"
          ]
        },
        {
          "name": "stderr",
          "output_type": "stream",
          "text": [
            "INFO:__main__:  Batch 2,630  of  3,511.    Elapsed: 0:09:01.    Loss: 0.014191250316798687.\n"
          ]
        },
        {
          "name": "stdout",
          "output_type": "stream",
          "text": [
            "  Batch 2,640  of  3,511.    Elapsed: 0:09:03.    Loss: 0.0040389541536569595.\n",
            "  Batch 2,640  of  3,511.    Elapsed: 0:09:03.    Loss: 0.0040389541536569595.\n",
            "  Batch 2,640  of  3,511.    Elapsed: 0:09:03.    Loss: 0.0040389541536569595.\n",
            "  Batch 2,640  of  3,511.    Elapsed: 0:09:03.    Loss: 0.0040389541536569595.\n"
          ]
        },
        {
          "name": "stderr",
          "output_type": "stream",
          "text": [
            "INFO:__main__:  Batch 2,640  of  3,511.    Elapsed: 0:09:03.    Loss: 0.0040389541536569595.\n"
          ]
        },
        {
          "name": "stdout",
          "output_type": "stream",
          "text": [
            "  Batch 2,650  of  3,511.    Elapsed: 0:09:05.    Loss: 0.25964081287384033.\n",
            "  Batch 2,650  of  3,511.    Elapsed: 0:09:05.    Loss: 0.25964081287384033.\n",
            "  Batch 2,650  of  3,511.    Elapsed: 0:09:05.    Loss: 0.25964081287384033.\n",
            "  Batch 2,650  of  3,511.    Elapsed: 0:09:05.    Loss: 0.25964081287384033.\n"
          ]
        },
        {
          "name": "stderr",
          "output_type": "stream",
          "text": [
            "INFO:__main__:  Batch 2,650  of  3,511.    Elapsed: 0:09:05.    Loss: 0.25964081287384033.\n"
          ]
        },
        {
          "name": "stdout",
          "output_type": "stream",
          "text": [
            "  Batch 2,660  of  3,511.    Elapsed: 0:09:07.    Loss: 0.011901771649718285.\n",
            "  Batch 2,660  of  3,511.    Elapsed: 0:09:07.    Loss: 0.011901771649718285.\n",
            "  Batch 2,660  of  3,511.    Elapsed: 0:09:07.    Loss: 0.011901771649718285.\n",
            "  Batch 2,660  of  3,511.    Elapsed: 0:09:07.    Loss: 0.011901771649718285.\n"
          ]
        },
        {
          "name": "stderr",
          "output_type": "stream",
          "text": [
            "INFO:__main__:  Batch 2,660  of  3,511.    Elapsed: 0:09:07.    Loss: 0.011901771649718285.\n"
          ]
        },
        {
          "name": "stdout",
          "output_type": "stream",
          "text": [
            "  Batch 2,670  of  3,511.    Elapsed: 0:09:09.    Loss: 0.25410789251327515.\n",
            "  Batch 2,670  of  3,511.    Elapsed: 0:09:09.    Loss: 0.25410789251327515.\n",
            "  Batch 2,670  of  3,511.    Elapsed: 0:09:09.    Loss: 0.25410789251327515.\n",
            "  Batch 2,670  of  3,511.    Elapsed: 0:09:09.    Loss: 0.25410789251327515.\n"
          ]
        },
        {
          "name": "stderr",
          "output_type": "stream",
          "text": [
            "INFO:__main__:  Batch 2,670  of  3,511.    Elapsed: 0:09:09.    Loss: 0.25410789251327515.\n"
          ]
        },
        {
          "name": "stdout",
          "output_type": "stream",
          "text": [
            "  Batch 2,680  of  3,511.    Elapsed: 0:09:11.    Loss: 0.10710716247558594.\n",
            "  Batch 2,680  of  3,511.    Elapsed: 0:09:11.    Loss: 0.10710716247558594.\n",
            "  Batch 2,680  of  3,511.    Elapsed: 0:09:11.    Loss: 0.10710716247558594.\n",
            "  Batch 2,680  of  3,511.    Elapsed: 0:09:11.    Loss: 0.10710716247558594.\n"
          ]
        },
        {
          "name": "stderr",
          "output_type": "stream",
          "text": [
            "INFO:__main__:  Batch 2,680  of  3,511.    Elapsed: 0:09:11.    Loss: 0.10710716247558594.\n"
          ]
        },
        {
          "name": "stdout",
          "output_type": "stream",
          "text": [
            "  Batch 2,690  of  3,511.    Elapsed: 0:09:13.    Loss: 0.10762135684490204.\n",
            "  Batch 2,690  of  3,511.    Elapsed: 0:09:13.    Loss: 0.10762135684490204.\n",
            "  Batch 2,690  of  3,511.    Elapsed: 0:09:13.    Loss: 0.10762135684490204.\n",
            "  Batch 2,690  of  3,511.    Elapsed: 0:09:13.    Loss: 0.10762135684490204.\n"
          ]
        },
        {
          "name": "stderr",
          "output_type": "stream",
          "text": [
            "INFO:__main__:  Batch 2,690  of  3,511.    Elapsed: 0:09:13.    Loss: 0.10762135684490204.\n"
          ]
        },
        {
          "name": "stdout",
          "output_type": "stream",
          "text": [
            "  Batch 2,700  of  3,511.    Elapsed: 0:09:15.    Loss: 0.005032761953771114.\n",
            "  Batch 2,700  of  3,511.    Elapsed: 0:09:15.    Loss: 0.005032761953771114.\n",
            "  Batch 2,700  of  3,511.    Elapsed: 0:09:15.    Loss: 0.005032761953771114.\n",
            "  Batch 2,700  of  3,511.    Elapsed: 0:09:15.    Loss: 0.005032761953771114.\n"
          ]
        },
        {
          "name": "stderr",
          "output_type": "stream",
          "text": [
            "INFO:__main__:  Batch 2,700  of  3,511.    Elapsed: 0:09:15.    Loss: 0.005032761953771114.\n"
          ]
        },
        {
          "name": "stdout",
          "output_type": "stream",
          "text": [
            "  Batch 2,710  of  3,511.    Elapsed: 0:09:17.    Loss: 0.015292435884475708.\n",
            "  Batch 2,710  of  3,511.    Elapsed: 0:09:17.    Loss: 0.015292435884475708.\n",
            "  Batch 2,710  of  3,511.    Elapsed: 0:09:17.    Loss: 0.015292435884475708.\n",
            "  Batch 2,710  of  3,511.    Elapsed: 0:09:17.    Loss: 0.015292435884475708.\n"
          ]
        },
        {
          "name": "stderr",
          "output_type": "stream",
          "text": [
            "INFO:__main__:  Batch 2,710  of  3,511.    Elapsed: 0:09:17.    Loss: 0.015292435884475708.\n"
          ]
        },
        {
          "name": "stdout",
          "output_type": "stream",
          "text": [
            "  Batch 2,720  of  3,511.    Elapsed: 0:09:19.    Loss: 0.040391065180301666.\n",
            "  Batch 2,720  of  3,511.    Elapsed: 0:09:19.    Loss: 0.040391065180301666.\n",
            "  Batch 2,720  of  3,511.    Elapsed: 0:09:19.    Loss: 0.040391065180301666.\n",
            "  Batch 2,720  of  3,511.    Elapsed: 0:09:19.    Loss: 0.040391065180301666.\n"
          ]
        },
        {
          "name": "stderr",
          "output_type": "stream",
          "text": [
            "INFO:__main__:  Batch 2,720  of  3,511.    Elapsed: 0:09:19.    Loss: 0.040391065180301666.\n"
          ]
        },
        {
          "name": "stdout",
          "output_type": "stream",
          "text": [
            "  Batch 2,730  of  3,511.    Elapsed: 0:09:22.    Loss: 0.14964208006858826.\n",
            "  Batch 2,730  of  3,511.    Elapsed: 0:09:22.    Loss: 0.14964208006858826.\n",
            "  Batch 2,730  of  3,511.    Elapsed: 0:09:22.    Loss: 0.14964208006858826.\n",
            "  Batch 2,730  of  3,511.    Elapsed: 0:09:22.    Loss: 0.14964208006858826.\n"
          ]
        },
        {
          "name": "stderr",
          "output_type": "stream",
          "text": [
            "INFO:__main__:  Batch 2,730  of  3,511.    Elapsed: 0:09:22.    Loss: 0.14964208006858826.\n"
          ]
        },
        {
          "name": "stdout",
          "output_type": "stream",
          "text": [
            "  Batch 2,740  of  3,511.    Elapsed: 0:09:24.    Loss: 0.0012219093041494489.\n",
            "  Batch 2,740  of  3,511.    Elapsed: 0:09:24.    Loss: 0.0012219093041494489.\n",
            "  Batch 2,740  of  3,511.    Elapsed: 0:09:24.    Loss: 0.0012219093041494489.\n",
            "  Batch 2,740  of  3,511.    Elapsed: 0:09:24.    Loss: 0.0012219093041494489.\n"
          ]
        },
        {
          "name": "stderr",
          "output_type": "stream",
          "text": [
            "INFO:__main__:  Batch 2,740  of  3,511.    Elapsed: 0:09:24.    Loss: 0.0012219093041494489.\n"
          ]
        },
        {
          "name": "stdout",
          "output_type": "stream",
          "text": [
            "  Batch 2,750  of  3,511.    Elapsed: 0:09:26.    Loss: 0.0011091686319559813.\n",
            "  Batch 2,750  of  3,511.    Elapsed: 0:09:26.    Loss: 0.0011091686319559813.\n",
            "  Batch 2,750  of  3,511.    Elapsed: 0:09:26.    Loss: 0.0011091686319559813.\n",
            "  Batch 2,750  of  3,511.    Elapsed: 0:09:26.    Loss: 0.0011091686319559813.\n"
          ]
        },
        {
          "name": "stderr",
          "output_type": "stream",
          "text": [
            "INFO:__main__:  Batch 2,750  of  3,511.    Elapsed: 0:09:26.    Loss: 0.0011091686319559813.\n"
          ]
        },
        {
          "name": "stdout",
          "output_type": "stream",
          "text": [
            "  Batch 2,760  of  3,511.    Elapsed: 0:09:28.    Loss: 0.0024373438209295273.\n",
            "  Batch 2,760  of  3,511.    Elapsed: 0:09:28.    Loss: 0.0024373438209295273.\n",
            "  Batch 2,760  of  3,511.    Elapsed: 0:09:28.    Loss: 0.0024373438209295273.\n",
            "  Batch 2,760  of  3,511.    Elapsed: 0:09:28.    Loss: 0.0024373438209295273.\n"
          ]
        },
        {
          "name": "stderr",
          "output_type": "stream",
          "text": [
            "INFO:__main__:  Batch 2,760  of  3,511.    Elapsed: 0:09:28.    Loss: 0.0024373438209295273.\n"
          ]
        },
        {
          "name": "stdout",
          "output_type": "stream",
          "text": [
            "  Batch 2,770  of  3,511.    Elapsed: 0:09:30.    Loss: 0.596392035484314.\n",
            "  Batch 2,770  of  3,511.    Elapsed: 0:09:30.    Loss: 0.596392035484314.\n",
            "  Batch 2,770  of  3,511.    Elapsed: 0:09:30.    Loss: 0.596392035484314.\n",
            "  Batch 2,770  of  3,511.    Elapsed: 0:09:30.    Loss: 0.596392035484314.\n"
          ]
        },
        {
          "name": "stderr",
          "output_type": "stream",
          "text": [
            "INFO:__main__:  Batch 2,770  of  3,511.    Elapsed: 0:09:30.    Loss: 0.596392035484314.\n"
          ]
        },
        {
          "name": "stdout",
          "output_type": "stream",
          "text": [
            "  Batch 2,780  of  3,511.    Elapsed: 0:09:32.    Loss: 0.008075003512203693.\n",
            "  Batch 2,780  of  3,511.    Elapsed: 0:09:32.    Loss: 0.008075003512203693.\n",
            "  Batch 2,780  of  3,511.    Elapsed: 0:09:32.    Loss: 0.008075003512203693.\n",
            "  Batch 2,780  of  3,511.    Elapsed: 0:09:32.    Loss: 0.008075003512203693.\n"
          ]
        },
        {
          "name": "stderr",
          "output_type": "stream",
          "text": [
            "INFO:__main__:  Batch 2,780  of  3,511.    Elapsed: 0:09:32.    Loss: 0.008075003512203693.\n"
          ]
        },
        {
          "name": "stdout",
          "output_type": "stream",
          "text": [
            "  Batch 2,790  of  3,511.    Elapsed: 0:09:34.    Loss: 0.05626533180475235.\n",
            "  Batch 2,790  of  3,511.    Elapsed: 0:09:34.    Loss: 0.05626533180475235.\n",
            "  Batch 2,790  of  3,511.    Elapsed: 0:09:34.    Loss: 0.05626533180475235.\n",
            "  Batch 2,790  of  3,511.    Elapsed: 0:09:34.    Loss: 0.05626533180475235.\n"
          ]
        },
        {
          "name": "stderr",
          "output_type": "stream",
          "text": [
            "INFO:__main__:  Batch 2,790  of  3,511.    Elapsed: 0:09:34.    Loss: 0.05626533180475235.\n"
          ]
        },
        {
          "name": "stdout",
          "output_type": "stream",
          "text": [
            "  Batch 2,800  of  3,511.    Elapsed: 0:09:36.    Loss: 0.02031298726797104.\n",
            "  Batch 2,800  of  3,511.    Elapsed: 0:09:36.    Loss: 0.02031298726797104.\n",
            "  Batch 2,800  of  3,511.    Elapsed: 0:09:36.    Loss: 0.02031298726797104.\n",
            "  Batch 2,800  of  3,511.    Elapsed: 0:09:36.    Loss: 0.02031298726797104.\n"
          ]
        },
        {
          "name": "stderr",
          "output_type": "stream",
          "text": [
            "INFO:__main__:  Batch 2,800  of  3,511.    Elapsed: 0:09:36.    Loss: 0.02031298726797104.\n"
          ]
        },
        {
          "name": "stdout",
          "output_type": "stream",
          "text": [
            "  Batch 2,810  of  3,511.    Elapsed: 0:09:38.    Loss: 0.043681927025318146.\n",
            "  Batch 2,810  of  3,511.    Elapsed: 0:09:38.    Loss: 0.043681927025318146.\n",
            "  Batch 2,810  of  3,511.    Elapsed: 0:09:38.    Loss: 0.043681927025318146.\n",
            "  Batch 2,810  of  3,511.    Elapsed: 0:09:38.    Loss: 0.043681927025318146.\n"
          ]
        },
        {
          "name": "stderr",
          "output_type": "stream",
          "text": [
            "INFO:__main__:  Batch 2,810  of  3,511.    Elapsed: 0:09:38.    Loss: 0.043681927025318146.\n"
          ]
        },
        {
          "name": "stdout",
          "output_type": "stream",
          "text": [
            "  Batch 2,820  of  3,511.    Elapsed: 0:09:40.    Loss: 0.7768053412437439.\n",
            "  Batch 2,820  of  3,511.    Elapsed: 0:09:40.    Loss: 0.7768053412437439.\n",
            "  Batch 2,820  of  3,511.    Elapsed: 0:09:40.    Loss: 0.7768053412437439.\n",
            "  Batch 2,820  of  3,511.    Elapsed: 0:09:40.    Loss: 0.7768053412437439.\n"
          ]
        },
        {
          "name": "stderr",
          "output_type": "stream",
          "text": [
            "INFO:__main__:  Batch 2,820  of  3,511.    Elapsed: 0:09:40.    Loss: 0.7768053412437439.\n"
          ]
        },
        {
          "name": "stdout",
          "output_type": "stream",
          "text": [
            "  Batch 2,830  of  3,511.    Elapsed: 0:09:42.    Loss: 0.002421396318823099.\n",
            "  Batch 2,830  of  3,511.    Elapsed: 0:09:42.    Loss: 0.002421396318823099.\n",
            "  Batch 2,830  of  3,511.    Elapsed: 0:09:42.    Loss: 0.002421396318823099.\n",
            "  Batch 2,830  of  3,511.    Elapsed: 0:09:42.    Loss: 0.002421396318823099.\n"
          ]
        },
        {
          "name": "stderr",
          "output_type": "stream",
          "text": [
            "INFO:__main__:  Batch 2,830  of  3,511.    Elapsed: 0:09:42.    Loss: 0.002421396318823099.\n"
          ]
        },
        {
          "name": "stdout",
          "output_type": "stream",
          "text": [
            "  Batch 2,840  of  3,511.    Elapsed: 0:09:44.    Loss: 0.26396557688713074.\n",
            "  Batch 2,840  of  3,511.    Elapsed: 0:09:44.    Loss: 0.26396557688713074.\n",
            "  Batch 2,840  of  3,511.    Elapsed: 0:09:44.    Loss: 0.26396557688713074.\n",
            "  Batch 2,840  of  3,511.    Elapsed: 0:09:44.    Loss: 0.26396557688713074.\n"
          ]
        },
        {
          "name": "stderr",
          "output_type": "stream",
          "text": [
            "INFO:__main__:  Batch 2,840  of  3,511.    Elapsed: 0:09:44.    Loss: 0.26396557688713074.\n"
          ]
        },
        {
          "name": "stdout",
          "output_type": "stream",
          "text": [
            "  Batch 2,850  of  3,511.    Elapsed: 0:09:46.    Loss: 0.204570010304451.\n",
            "  Batch 2,850  of  3,511.    Elapsed: 0:09:46.    Loss: 0.204570010304451.\n",
            "  Batch 2,850  of  3,511.    Elapsed: 0:09:46.    Loss: 0.204570010304451.\n",
            "  Batch 2,850  of  3,511.    Elapsed: 0:09:46.    Loss: 0.204570010304451.\n"
          ]
        },
        {
          "name": "stderr",
          "output_type": "stream",
          "text": [
            "INFO:__main__:  Batch 2,850  of  3,511.    Elapsed: 0:09:46.    Loss: 0.204570010304451.\n"
          ]
        },
        {
          "name": "stdout",
          "output_type": "stream",
          "text": [
            "  Batch 2,860  of  3,511.    Elapsed: 0:09:48.    Loss: 0.11809167265892029.\n",
            "  Batch 2,860  of  3,511.    Elapsed: 0:09:48.    Loss: 0.11809167265892029.\n",
            "  Batch 2,860  of  3,511.    Elapsed: 0:09:48.    Loss: 0.11809167265892029.\n",
            "  Batch 2,860  of  3,511.    Elapsed: 0:09:48.    Loss: 0.11809167265892029.\n"
          ]
        },
        {
          "name": "stderr",
          "output_type": "stream",
          "text": [
            "INFO:__main__:  Batch 2,860  of  3,511.    Elapsed: 0:09:48.    Loss: 0.11809167265892029.\n"
          ]
        },
        {
          "name": "stdout",
          "output_type": "stream",
          "text": [
            "  Batch 2,870  of  3,511.    Elapsed: 0:09:50.    Loss: 0.014562364667654037.\n",
            "  Batch 2,870  of  3,511.    Elapsed: 0:09:50.    Loss: 0.014562364667654037.\n",
            "  Batch 2,870  of  3,511.    Elapsed: 0:09:50.    Loss: 0.014562364667654037.\n",
            "  Batch 2,870  of  3,511.    Elapsed: 0:09:50.    Loss: 0.014562364667654037.\n"
          ]
        },
        {
          "name": "stderr",
          "output_type": "stream",
          "text": [
            "INFO:__main__:  Batch 2,870  of  3,511.    Elapsed: 0:09:50.    Loss: 0.014562364667654037.\n"
          ]
        },
        {
          "name": "stdout",
          "output_type": "stream",
          "text": [
            "  Batch 2,880  of  3,511.    Elapsed: 0:09:52.    Loss: 0.29696425795555115.\n",
            "  Batch 2,880  of  3,511.    Elapsed: 0:09:52.    Loss: 0.29696425795555115.\n",
            "  Batch 2,880  of  3,511.    Elapsed: 0:09:52.    Loss: 0.29696425795555115.\n",
            "  Batch 2,880  of  3,511.    Elapsed: 0:09:52.    Loss: 0.29696425795555115.\n"
          ]
        },
        {
          "name": "stderr",
          "output_type": "stream",
          "text": [
            "INFO:__main__:  Batch 2,880  of  3,511.    Elapsed: 0:09:52.    Loss: 0.29696425795555115.\n"
          ]
        },
        {
          "name": "stdout",
          "output_type": "stream",
          "text": [
            "  Batch 2,890  of  3,511.    Elapsed: 0:09:54.    Loss: 0.039950717240571976.\n",
            "  Batch 2,890  of  3,511.    Elapsed: 0:09:54.    Loss: 0.039950717240571976.\n",
            "  Batch 2,890  of  3,511.    Elapsed: 0:09:54.    Loss: 0.039950717240571976.\n",
            "  Batch 2,890  of  3,511.    Elapsed: 0:09:54.    Loss: 0.039950717240571976.\n"
          ]
        },
        {
          "name": "stderr",
          "output_type": "stream",
          "text": [
            "INFO:__main__:  Batch 2,890  of  3,511.    Elapsed: 0:09:54.    Loss: 0.039950717240571976.\n"
          ]
        },
        {
          "name": "stdout",
          "output_type": "stream",
          "text": [
            "  Batch 2,900  of  3,511.    Elapsed: 0:09:56.    Loss: 0.01910148374736309.\n",
            "  Batch 2,900  of  3,511.    Elapsed: 0:09:56.    Loss: 0.01910148374736309.\n",
            "  Batch 2,900  of  3,511.    Elapsed: 0:09:56.    Loss: 0.01910148374736309.\n",
            "  Batch 2,900  of  3,511.    Elapsed: 0:09:56.    Loss: 0.01910148374736309.\n"
          ]
        },
        {
          "name": "stderr",
          "output_type": "stream",
          "text": [
            "INFO:__main__:  Batch 2,900  of  3,511.    Elapsed: 0:09:56.    Loss: 0.01910148374736309.\n"
          ]
        },
        {
          "name": "stdout",
          "output_type": "stream",
          "text": [
            "  Batch 2,910  of  3,511.    Elapsed: 0:09:58.    Loss: 0.007643087767064571.\n",
            "  Batch 2,910  of  3,511.    Elapsed: 0:09:58.    Loss: 0.007643087767064571.\n",
            "  Batch 2,910  of  3,511.    Elapsed: 0:09:58.    Loss: 0.007643087767064571.\n",
            "  Batch 2,910  of  3,511.    Elapsed: 0:09:58.    Loss: 0.007643087767064571.\n"
          ]
        },
        {
          "name": "stderr",
          "output_type": "stream",
          "text": [
            "INFO:__main__:  Batch 2,910  of  3,511.    Elapsed: 0:09:58.    Loss: 0.007643087767064571.\n"
          ]
        },
        {
          "name": "stdout",
          "output_type": "stream",
          "text": [
            "  Batch 2,920  of  3,511.    Elapsed: 0:10:01.    Loss: 0.009611207991838455.\n",
            "  Batch 2,920  of  3,511.    Elapsed: 0:10:01.    Loss: 0.009611207991838455.\n",
            "  Batch 2,920  of  3,511.    Elapsed: 0:10:01.    Loss: 0.009611207991838455.\n",
            "  Batch 2,920  of  3,511.    Elapsed: 0:10:01.    Loss: 0.009611207991838455.\n"
          ]
        },
        {
          "name": "stderr",
          "output_type": "stream",
          "text": [
            "INFO:__main__:  Batch 2,920  of  3,511.    Elapsed: 0:10:01.    Loss: 0.009611207991838455.\n"
          ]
        },
        {
          "name": "stdout",
          "output_type": "stream",
          "text": [
            "  Batch 2,930  of  3,511.    Elapsed: 0:10:03.    Loss: 0.009881311096251011.\n",
            "  Batch 2,930  of  3,511.    Elapsed: 0:10:03.    Loss: 0.009881311096251011.\n",
            "  Batch 2,930  of  3,511.    Elapsed: 0:10:03.    Loss: 0.009881311096251011.\n",
            "  Batch 2,930  of  3,511.    Elapsed: 0:10:03.    Loss: 0.009881311096251011.\n"
          ]
        },
        {
          "name": "stderr",
          "output_type": "stream",
          "text": [
            "INFO:__main__:  Batch 2,930  of  3,511.    Elapsed: 0:10:03.    Loss: 0.009881311096251011.\n"
          ]
        },
        {
          "name": "stdout",
          "output_type": "stream",
          "text": [
            "  Batch 2,940  of  3,511.    Elapsed: 0:10:05.    Loss: 0.10330847650766373.\n",
            "  Batch 2,940  of  3,511.    Elapsed: 0:10:05.    Loss: 0.10330847650766373.\n",
            "  Batch 2,940  of  3,511.    Elapsed: 0:10:05.    Loss: 0.10330847650766373.\n",
            "  Batch 2,940  of  3,511.    Elapsed: 0:10:05.    Loss: 0.10330847650766373.\n"
          ]
        },
        {
          "name": "stderr",
          "output_type": "stream",
          "text": [
            "INFO:__main__:  Batch 2,940  of  3,511.    Elapsed: 0:10:05.    Loss: 0.10330847650766373.\n"
          ]
        },
        {
          "name": "stdout",
          "output_type": "stream",
          "text": [
            "  Batch 2,950  of  3,511.    Elapsed: 0:10:07.    Loss: 0.012107963673770428.\n",
            "  Batch 2,950  of  3,511.    Elapsed: 0:10:07.    Loss: 0.012107963673770428.\n",
            "  Batch 2,950  of  3,511.    Elapsed: 0:10:07.    Loss: 0.012107963673770428.\n",
            "  Batch 2,950  of  3,511.    Elapsed: 0:10:07.    Loss: 0.012107963673770428.\n"
          ]
        },
        {
          "name": "stderr",
          "output_type": "stream",
          "text": [
            "INFO:__main__:  Batch 2,950  of  3,511.    Elapsed: 0:10:07.    Loss: 0.012107963673770428.\n"
          ]
        },
        {
          "name": "stdout",
          "output_type": "stream",
          "text": [
            "  Batch 2,960  of  3,511.    Elapsed: 0:10:09.    Loss: 0.07409972697496414.\n",
            "  Batch 2,960  of  3,511.    Elapsed: 0:10:09.    Loss: 0.07409972697496414.\n",
            "  Batch 2,960  of  3,511.    Elapsed: 0:10:09.    Loss: 0.07409972697496414.\n",
            "  Batch 2,960  of  3,511.    Elapsed: 0:10:09.    Loss: 0.07409972697496414.\n"
          ]
        },
        {
          "name": "stderr",
          "output_type": "stream",
          "text": [
            "INFO:__main__:  Batch 2,960  of  3,511.    Elapsed: 0:10:09.    Loss: 0.07409972697496414.\n"
          ]
        },
        {
          "name": "stdout",
          "output_type": "stream",
          "text": [
            "  Batch 2,970  of  3,511.    Elapsed: 0:10:11.    Loss: 0.0034280726686120033.\n",
            "  Batch 2,970  of  3,511.    Elapsed: 0:10:11.    Loss: 0.0034280726686120033.\n",
            "  Batch 2,970  of  3,511.    Elapsed: 0:10:11.    Loss: 0.0034280726686120033.\n",
            "  Batch 2,970  of  3,511.    Elapsed: 0:10:11.    Loss: 0.0034280726686120033.\n"
          ]
        },
        {
          "name": "stderr",
          "output_type": "stream",
          "text": [
            "INFO:__main__:  Batch 2,970  of  3,511.    Elapsed: 0:10:11.    Loss: 0.0034280726686120033.\n"
          ]
        },
        {
          "name": "stdout",
          "output_type": "stream",
          "text": [
            "  Batch 2,980  of  3,511.    Elapsed: 0:10:13.    Loss: 0.07574869692325592.\n",
            "  Batch 2,980  of  3,511.    Elapsed: 0:10:13.    Loss: 0.07574869692325592.\n",
            "  Batch 2,980  of  3,511.    Elapsed: 0:10:13.    Loss: 0.07574869692325592.\n",
            "  Batch 2,980  of  3,511.    Elapsed: 0:10:13.    Loss: 0.07574869692325592.\n"
          ]
        },
        {
          "name": "stderr",
          "output_type": "stream",
          "text": [
            "INFO:__main__:  Batch 2,980  of  3,511.    Elapsed: 0:10:13.    Loss: 0.07574869692325592.\n"
          ]
        },
        {
          "name": "stdout",
          "output_type": "stream",
          "text": [
            "  Batch 2,990  of  3,511.    Elapsed: 0:10:15.    Loss: 0.0019790276419371367.\n",
            "  Batch 2,990  of  3,511.    Elapsed: 0:10:15.    Loss: 0.0019790276419371367.\n",
            "  Batch 2,990  of  3,511.    Elapsed: 0:10:15.    Loss: 0.0019790276419371367.\n",
            "  Batch 2,990  of  3,511.    Elapsed: 0:10:15.    Loss: 0.0019790276419371367.\n"
          ]
        },
        {
          "name": "stderr",
          "output_type": "stream",
          "text": [
            "INFO:__main__:  Batch 2,990  of  3,511.    Elapsed: 0:10:15.    Loss: 0.0019790276419371367.\n"
          ]
        },
        {
          "name": "stdout",
          "output_type": "stream",
          "text": [
            "  Batch 3,000  of  3,511.    Elapsed: 0:10:17.    Loss: 0.001935844891704619.\n",
            "  Batch 3,000  of  3,511.    Elapsed: 0:10:17.    Loss: 0.001935844891704619.\n",
            "  Batch 3,000  of  3,511.    Elapsed: 0:10:17.    Loss: 0.001935844891704619.\n",
            "  Batch 3,000  of  3,511.    Elapsed: 0:10:17.    Loss: 0.001935844891704619.\n"
          ]
        },
        {
          "name": "stderr",
          "output_type": "stream",
          "text": [
            "INFO:__main__:  Batch 3,000  of  3,511.    Elapsed: 0:10:17.    Loss: 0.001935844891704619.\n"
          ]
        },
        {
          "name": "stdout",
          "output_type": "stream",
          "text": [
            "  Batch 3,010  of  3,511.    Elapsed: 0:10:19.    Loss: 0.002657803473994136.\n",
            "  Batch 3,010  of  3,511.    Elapsed: 0:10:19.    Loss: 0.002657803473994136.\n",
            "  Batch 3,010  of  3,511.    Elapsed: 0:10:19.    Loss: 0.002657803473994136.\n",
            "  Batch 3,010  of  3,511.    Elapsed: 0:10:19.    Loss: 0.002657803473994136.\n"
          ]
        },
        {
          "name": "stderr",
          "output_type": "stream",
          "text": [
            "INFO:__main__:  Batch 3,010  of  3,511.    Elapsed: 0:10:19.    Loss: 0.002657803473994136.\n"
          ]
        },
        {
          "name": "stdout",
          "output_type": "stream",
          "text": [
            "  Batch 3,020  of  3,511.    Elapsed: 0:10:21.    Loss: 0.0022155095357447863.\n",
            "  Batch 3,020  of  3,511.    Elapsed: 0:10:21.    Loss: 0.0022155095357447863.\n",
            "  Batch 3,020  of  3,511.    Elapsed: 0:10:21.    Loss: 0.0022155095357447863.\n",
            "  Batch 3,020  of  3,511.    Elapsed: 0:10:21.    Loss: 0.0022155095357447863.\n"
          ]
        },
        {
          "name": "stderr",
          "output_type": "stream",
          "text": [
            "INFO:__main__:  Batch 3,020  of  3,511.    Elapsed: 0:10:21.    Loss: 0.0022155095357447863.\n"
          ]
        },
        {
          "name": "stdout",
          "output_type": "stream",
          "text": [
            "  Batch 3,030  of  3,511.    Elapsed: 0:10:23.    Loss: 0.027403488755226135.\n",
            "  Batch 3,030  of  3,511.    Elapsed: 0:10:23.    Loss: 0.027403488755226135.\n",
            "  Batch 3,030  of  3,511.    Elapsed: 0:10:23.    Loss: 0.027403488755226135.\n",
            "  Batch 3,030  of  3,511.    Elapsed: 0:10:23.    Loss: 0.027403488755226135.\n"
          ]
        },
        {
          "name": "stderr",
          "output_type": "stream",
          "text": [
            "INFO:__main__:  Batch 3,030  of  3,511.    Elapsed: 0:10:23.    Loss: 0.027403488755226135.\n"
          ]
        },
        {
          "name": "stdout",
          "output_type": "stream",
          "text": [
            "  Batch 3,040  of  3,511.    Elapsed: 0:10:25.    Loss: 0.004426510073244572.\n",
            "  Batch 3,040  of  3,511.    Elapsed: 0:10:25.    Loss: 0.004426510073244572.\n",
            "  Batch 3,040  of  3,511.    Elapsed: 0:10:25.    Loss: 0.004426510073244572.\n",
            "  Batch 3,040  of  3,511.    Elapsed: 0:10:25.    Loss: 0.004426510073244572.\n"
          ]
        },
        {
          "name": "stderr",
          "output_type": "stream",
          "text": [
            "INFO:__main__:  Batch 3,040  of  3,511.    Elapsed: 0:10:25.    Loss: 0.004426510073244572.\n"
          ]
        },
        {
          "name": "stdout",
          "output_type": "stream",
          "text": [
            "  Batch 3,050  of  3,511.    Elapsed: 0:10:27.    Loss: 0.0005750430282205343.\n",
            "  Batch 3,050  of  3,511.    Elapsed: 0:10:27.    Loss: 0.0005750430282205343.\n",
            "  Batch 3,050  of  3,511.    Elapsed: 0:10:27.    Loss: 0.0005750430282205343.\n",
            "  Batch 3,050  of  3,511.    Elapsed: 0:10:27.    Loss: 0.0005750430282205343.\n"
          ]
        },
        {
          "name": "stderr",
          "output_type": "stream",
          "text": [
            "INFO:__main__:  Batch 3,050  of  3,511.    Elapsed: 0:10:27.    Loss: 0.0005750430282205343.\n"
          ]
        },
        {
          "name": "stdout",
          "output_type": "stream",
          "text": [
            "  Batch 3,060  of  3,511.    Elapsed: 0:10:29.    Loss: 0.12510935962200165.\n",
            "  Batch 3,060  of  3,511.    Elapsed: 0:10:29.    Loss: 0.12510935962200165.\n",
            "  Batch 3,060  of  3,511.    Elapsed: 0:10:29.    Loss: 0.12510935962200165.\n",
            "  Batch 3,060  of  3,511.    Elapsed: 0:10:29.    Loss: 0.12510935962200165.\n"
          ]
        },
        {
          "name": "stderr",
          "output_type": "stream",
          "text": [
            "INFO:__main__:  Batch 3,060  of  3,511.    Elapsed: 0:10:29.    Loss: 0.12510935962200165.\n"
          ]
        },
        {
          "name": "stdout",
          "output_type": "stream",
          "text": [
            "  Batch 3,070  of  3,511.    Elapsed: 0:10:31.    Loss: 0.07746100425720215.\n",
            "  Batch 3,070  of  3,511.    Elapsed: 0:10:31.    Loss: 0.07746100425720215.\n",
            "  Batch 3,070  of  3,511.    Elapsed: 0:10:31.    Loss: 0.07746100425720215.\n",
            "  Batch 3,070  of  3,511.    Elapsed: 0:10:31.    Loss: 0.07746100425720215.\n"
          ]
        },
        {
          "name": "stderr",
          "output_type": "stream",
          "text": [
            "INFO:__main__:  Batch 3,070  of  3,511.    Elapsed: 0:10:31.    Loss: 0.07746100425720215.\n"
          ]
        },
        {
          "name": "stdout",
          "output_type": "stream",
          "text": [
            "  Batch 3,080  of  3,511.    Elapsed: 0:10:33.    Loss: 0.918493926525116.\n",
            "  Batch 3,080  of  3,511.    Elapsed: 0:10:33.    Loss: 0.918493926525116.\n",
            "  Batch 3,080  of  3,511.    Elapsed: 0:10:33.    Loss: 0.918493926525116.\n",
            "  Batch 3,080  of  3,511.    Elapsed: 0:10:33.    Loss: 0.918493926525116.\n"
          ]
        },
        {
          "name": "stderr",
          "output_type": "stream",
          "text": [
            "INFO:__main__:  Batch 3,080  of  3,511.    Elapsed: 0:10:33.    Loss: 0.918493926525116.\n"
          ]
        },
        {
          "name": "stdout",
          "output_type": "stream",
          "text": [
            "  Batch 3,090  of  3,511.    Elapsed: 0:10:35.    Loss: 0.0017087433952838182.\n",
            "  Batch 3,090  of  3,511.    Elapsed: 0:10:35.    Loss: 0.0017087433952838182.\n",
            "  Batch 3,090  of  3,511.    Elapsed: 0:10:35.    Loss: 0.0017087433952838182.\n",
            "  Batch 3,090  of  3,511.    Elapsed: 0:10:35.    Loss: 0.0017087433952838182.\n"
          ]
        },
        {
          "name": "stderr",
          "output_type": "stream",
          "text": [
            "INFO:__main__:  Batch 3,090  of  3,511.    Elapsed: 0:10:35.    Loss: 0.0017087433952838182.\n"
          ]
        },
        {
          "name": "stdout",
          "output_type": "stream",
          "text": [
            "  Batch 3,100  of  3,511.    Elapsed: 0:10:37.    Loss: 0.07781770825386047.\n",
            "  Batch 3,100  of  3,511.    Elapsed: 0:10:37.    Loss: 0.07781770825386047.\n",
            "  Batch 3,100  of  3,511.    Elapsed: 0:10:37.    Loss: 0.07781770825386047.\n",
            "  Batch 3,100  of  3,511.    Elapsed: 0:10:37.    Loss: 0.07781770825386047.\n"
          ]
        },
        {
          "name": "stderr",
          "output_type": "stream",
          "text": [
            "INFO:__main__:  Batch 3,100  of  3,511.    Elapsed: 0:10:37.    Loss: 0.07781770825386047.\n"
          ]
        },
        {
          "name": "stdout",
          "output_type": "stream",
          "text": [
            "  Batch 3,110  of  3,511.    Elapsed: 0:10:40.    Loss: 0.07477109879255295.\n",
            "  Batch 3,110  of  3,511.    Elapsed: 0:10:40.    Loss: 0.07477109879255295.\n",
            "  Batch 3,110  of  3,511.    Elapsed: 0:10:40.    Loss: 0.07477109879255295.\n",
            "  Batch 3,110  of  3,511.    Elapsed: 0:10:40.    Loss: 0.07477109879255295.\n"
          ]
        },
        {
          "name": "stderr",
          "output_type": "stream",
          "text": [
            "INFO:__main__:  Batch 3,110  of  3,511.    Elapsed: 0:10:40.    Loss: 0.07477109879255295.\n"
          ]
        },
        {
          "name": "stdout",
          "output_type": "stream",
          "text": [
            "  Batch 3,120  of  3,511.    Elapsed: 0:10:42.    Loss: 0.0018571874825283885.\n",
            "  Batch 3,120  of  3,511.    Elapsed: 0:10:42.    Loss: 0.0018571874825283885.\n",
            "  Batch 3,120  of  3,511.    Elapsed: 0:10:42.    Loss: 0.0018571874825283885.\n",
            "  Batch 3,120  of  3,511.    Elapsed: 0:10:42.    Loss: 0.0018571874825283885.\n"
          ]
        },
        {
          "name": "stderr",
          "output_type": "stream",
          "text": [
            "INFO:__main__:  Batch 3,120  of  3,511.    Elapsed: 0:10:42.    Loss: 0.0018571874825283885.\n"
          ]
        },
        {
          "name": "stdout",
          "output_type": "stream",
          "text": [
            "  Batch 3,130  of  3,511.    Elapsed: 0:10:44.    Loss: 0.00391137832775712.\n",
            "  Batch 3,130  of  3,511.    Elapsed: 0:10:44.    Loss: 0.00391137832775712.\n",
            "  Batch 3,130  of  3,511.    Elapsed: 0:10:44.    Loss: 0.00391137832775712.\n",
            "  Batch 3,130  of  3,511.    Elapsed: 0:10:44.    Loss: 0.00391137832775712.\n"
          ]
        },
        {
          "name": "stderr",
          "output_type": "stream",
          "text": [
            "INFO:__main__:  Batch 3,130  of  3,511.    Elapsed: 0:10:44.    Loss: 0.00391137832775712.\n"
          ]
        },
        {
          "name": "stdout",
          "output_type": "stream",
          "text": [
            "  Batch 3,140  of  3,511.    Elapsed: 0:10:46.    Loss: 0.3623102903366089.\n",
            "  Batch 3,140  of  3,511.    Elapsed: 0:10:46.    Loss: 0.3623102903366089.\n",
            "  Batch 3,140  of  3,511.    Elapsed: 0:10:46.    Loss: 0.3623102903366089.\n",
            "  Batch 3,140  of  3,511.    Elapsed: 0:10:46.    Loss: 0.3623102903366089.\n"
          ]
        },
        {
          "name": "stderr",
          "output_type": "stream",
          "text": [
            "INFO:__main__:  Batch 3,140  of  3,511.    Elapsed: 0:10:46.    Loss: 0.3623102903366089.\n"
          ]
        },
        {
          "name": "stdout",
          "output_type": "stream",
          "text": [
            "  Batch 3,150  of  3,511.    Elapsed: 0:10:48.    Loss: 0.09272760152816772.\n",
            "  Batch 3,150  of  3,511.    Elapsed: 0:10:48.    Loss: 0.09272760152816772.\n",
            "  Batch 3,150  of  3,511.    Elapsed: 0:10:48.    Loss: 0.09272760152816772.\n",
            "  Batch 3,150  of  3,511.    Elapsed: 0:10:48.    Loss: 0.09272760152816772.\n"
          ]
        },
        {
          "name": "stderr",
          "output_type": "stream",
          "text": [
            "INFO:__main__:  Batch 3,150  of  3,511.    Elapsed: 0:10:48.    Loss: 0.09272760152816772.\n"
          ]
        },
        {
          "name": "stdout",
          "output_type": "stream",
          "text": [
            "  Batch 3,160  of  3,511.    Elapsed: 0:10:50.    Loss: 0.011314399540424347.\n",
            "  Batch 3,160  of  3,511.    Elapsed: 0:10:50.    Loss: 0.011314399540424347.\n",
            "  Batch 3,160  of  3,511.    Elapsed: 0:10:50.    Loss: 0.011314399540424347.\n",
            "  Batch 3,160  of  3,511.    Elapsed: 0:10:50.    Loss: 0.011314399540424347.\n"
          ]
        },
        {
          "name": "stderr",
          "output_type": "stream",
          "text": [
            "INFO:__main__:  Batch 3,160  of  3,511.    Elapsed: 0:10:50.    Loss: 0.011314399540424347.\n"
          ]
        },
        {
          "name": "stdout",
          "output_type": "stream",
          "text": [
            "  Batch 3,170  of  3,511.    Elapsed: 0:10:52.    Loss: 0.10824904590845108.\n",
            "  Batch 3,170  of  3,511.    Elapsed: 0:10:52.    Loss: 0.10824904590845108.\n",
            "  Batch 3,170  of  3,511.    Elapsed: 0:10:52.    Loss: 0.10824904590845108.\n",
            "  Batch 3,170  of  3,511.    Elapsed: 0:10:52.    Loss: 0.10824904590845108.\n"
          ]
        },
        {
          "name": "stderr",
          "output_type": "stream",
          "text": [
            "INFO:__main__:  Batch 3,170  of  3,511.    Elapsed: 0:10:52.    Loss: 0.10824904590845108.\n"
          ]
        },
        {
          "name": "stdout",
          "output_type": "stream",
          "text": [
            "  Batch 3,180  of  3,511.    Elapsed: 0:10:54.    Loss: 0.21352234482765198.\n",
            "  Batch 3,180  of  3,511.    Elapsed: 0:10:54.    Loss: 0.21352234482765198.\n",
            "  Batch 3,180  of  3,511.    Elapsed: 0:10:54.    Loss: 0.21352234482765198.\n",
            "  Batch 3,180  of  3,511.    Elapsed: 0:10:54.    Loss: 0.21352234482765198.\n"
          ]
        },
        {
          "name": "stderr",
          "output_type": "stream",
          "text": [
            "INFO:__main__:  Batch 3,180  of  3,511.    Elapsed: 0:10:54.    Loss: 0.21352234482765198.\n"
          ]
        },
        {
          "name": "stdout",
          "output_type": "stream",
          "text": [
            "  Batch 3,190  of  3,511.    Elapsed: 0:10:56.    Loss: 0.004826729651540518.\n",
            "  Batch 3,190  of  3,511.    Elapsed: 0:10:56.    Loss: 0.004826729651540518.\n",
            "  Batch 3,190  of  3,511.    Elapsed: 0:10:56.    Loss: 0.004826729651540518.\n",
            "  Batch 3,190  of  3,511.    Elapsed: 0:10:56.    Loss: 0.004826729651540518.\n"
          ]
        },
        {
          "name": "stderr",
          "output_type": "stream",
          "text": [
            "INFO:__main__:  Batch 3,190  of  3,511.    Elapsed: 0:10:56.    Loss: 0.004826729651540518.\n"
          ]
        },
        {
          "name": "stdout",
          "output_type": "stream",
          "text": [
            "  Batch 3,200  of  3,511.    Elapsed: 0:10:58.    Loss: 0.006423965562134981.\n",
            "  Batch 3,200  of  3,511.    Elapsed: 0:10:58.    Loss: 0.006423965562134981.\n",
            "  Batch 3,200  of  3,511.    Elapsed: 0:10:58.    Loss: 0.006423965562134981.\n",
            "  Batch 3,200  of  3,511.    Elapsed: 0:10:58.    Loss: 0.006423965562134981.\n"
          ]
        },
        {
          "name": "stderr",
          "output_type": "stream",
          "text": [
            "INFO:__main__:  Batch 3,200  of  3,511.    Elapsed: 0:10:58.    Loss: 0.006423965562134981.\n"
          ]
        },
        {
          "name": "stdout",
          "output_type": "stream",
          "text": [
            "  Batch 3,210  of  3,511.    Elapsed: 0:11:00.    Loss: 0.0011061136610805988.\n",
            "  Batch 3,210  of  3,511.    Elapsed: 0:11:00.    Loss: 0.0011061136610805988.\n",
            "  Batch 3,210  of  3,511.    Elapsed: 0:11:00.    Loss: 0.0011061136610805988.\n",
            "  Batch 3,210  of  3,511.    Elapsed: 0:11:00.    Loss: 0.0011061136610805988.\n"
          ]
        },
        {
          "name": "stderr",
          "output_type": "stream",
          "text": [
            "INFO:__main__:  Batch 3,210  of  3,511.    Elapsed: 0:11:00.    Loss: 0.0011061136610805988.\n"
          ]
        },
        {
          "name": "stdout",
          "output_type": "stream",
          "text": [
            "  Batch 3,220  of  3,511.    Elapsed: 0:11:02.    Loss: 0.02626100368797779.\n",
            "  Batch 3,220  of  3,511.    Elapsed: 0:11:02.    Loss: 0.02626100368797779.\n",
            "  Batch 3,220  of  3,511.    Elapsed: 0:11:02.    Loss: 0.02626100368797779.\n",
            "  Batch 3,220  of  3,511.    Elapsed: 0:11:02.    Loss: 0.02626100368797779.\n"
          ]
        },
        {
          "name": "stderr",
          "output_type": "stream",
          "text": [
            "INFO:__main__:  Batch 3,220  of  3,511.    Elapsed: 0:11:02.    Loss: 0.02626100368797779.\n"
          ]
        },
        {
          "name": "stdout",
          "output_type": "stream",
          "text": [
            "  Batch 3,230  of  3,511.    Elapsed: 0:11:04.    Loss: 0.1264292448759079.\n",
            "  Batch 3,230  of  3,511.    Elapsed: 0:11:04.    Loss: 0.1264292448759079.\n",
            "  Batch 3,230  of  3,511.    Elapsed: 0:11:04.    Loss: 0.1264292448759079.\n",
            "  Batch 3,230  of  3,511.    Elapsed: 0:11:04.    Loss: 0.1264292448759079.\n"
          ]
        },
        {
          "name": "stderr",
          "output_type": "stream",
          "text": [
            "INFO:__main__:  Batch 3,230  of  3,511.    Elapsed: 0:11:04.    Loss: 0.1264292448759079.\n"
          ]
        },
        {
          "name": "stdout",
          "output_type": "stream",
          "text": [
            "  Batch 3,240  of  3,511.    Elapsed: 0:11:06.    Loss: 0.01986679434776306.\n",
            "  Batch 3,240  of  3,511.    Elapsed: 0:11:06.    Loss: 0.01986679434776306.\n",
            "  Batch 3,240  of  3,511.    Elapsed: 0:11:06.    Loss: 0.01986679434776306.\n",
            "  Batch 3,240  of  3,511.    Elapsed: 0:11:06.    Loss: 0.01986679434776306.\n"
          ]
        },
        {
          "name": "stderr",
          "output_type": "stream",
          "text": [
            "INFO:__main__:  Batch 3,240  of  3,511.    Elapsed: 0:11:06.    Loss: 0.01986679434776306.\n"
          ]
        },
        {
          "name": "stdout",
          "output_type": "stream",
          "text": [
            "  Batch 3,250  of  3,511.    Elapsed: 0:11:08.    Loss: 0.003204491687938571.\n",
            "  Batch 3,250  of  3,511.    Elapsed: 0:11:08.    Loss: 0.003204491687938571.\n",
            "  Batch 3,250  of  3,511.    Elapsed: 0:11:08.    Loss: 0.003204491687938571.\n",
            "  Batch 3,250  of  3,511.    Elapsed: 0:11:08.    Loss: 0.003204491687938571.\n"
          ]
        },
        {
          "name": "stderr",
          "output_type": "stream",
          "text": [
            "INFO:__main__:  Batch 3,250  of  3,511.    Elapsed: 0:11:08.    Loss: 0.003204491687938571.\n"
          ]
        },
        {
          "name": "stdout",
          "output_type": "stream",
          "text": [
            "  Batch 3,260  of  3,511.    Elapsed: 0:11:10.    Loss: 0.004490170627832413.\n",
            "  Batch 3,260  of  3,511.    Elapsed: 0:11:10.    Loss: 0.004490170627832413.\n",
            "  Batch 3,260  of  3,511.    Elapsed: 0:11:10.    Loss: 0.004490170627832413.\n",
            "  Batch 3,260  of  3,511.    Elapsed: 0:11:10.    Loss: 0.004490170627832413.\n"
          ]
        },
        {
          "name": "stderr",
          "output_type": "stream",
          "text": [
            "INFO:__main__:  Batch 3,260  of  3,511.    Elapsed: 0:11:10.    Loss: 0.004490170627832413.\n"
          ]
        },
        {
          "name": "stdout",
          "output_type": "stream",
          "text": [
            "  Batch 3,270  of  3,511.    Elapsed: 0:11:12.    Loss: 0.012403398752212524.\n",
            "  Batch 3,270  of  3,511.    Elapsed: 0:11:12.    Loss: 0.012403398752212524.\n",
            "  Batch 3,270  of  3,511.    Elapsed: 0:11:12.    Loss: 0.012403398752212524.\n",
            "  Batch 3,270  of  3,511.    Elapsed: 0:11:12.    Loss: 0.012403398752212524.\n"
          ]
        },
        {
          "name": "stderr",
          "output_type": "stream",
          "text": [
            "INFO:__main__:  Batch 3,270  of  3,511.    Elapsed: 0:11:12.    Loss: 0.012403398752212524.\n"
          ]
        },
        {
          "name": "stdout",
          "output_type": "stream",
          "text": [
            "  Batch 3,280  of  3,511.    Elapsed: 0:11:14.    Loss: 0.0032345561776310205.\n",
            "  Batch 3,280  of  3,511.    Elapsed: 0:11:14.    Loss: 0.0032345561776310205.\n",
            "  Batch 3,280  of  3,511.    Elapsed: 0:11:14.    Loss: 0.0032345561776310205.\n",
            "  Batch 3,280  of  3,511.    Elapsed: 0:11:14.    Loss: 0.0032345561776310205.\n"
          ]
        },
        {
          "name": "stderr",
          "output_type": "stream",
          "text": [
            "INFO:__main__:  Batch 3,280  of  3,511.    Elapsed: 0:11:14.    Loss: 0.0032345561776310205.\n"
          ]
        },
        {
          "name": "stdout",
          "output_type": "stream",
          "text": [
            "  Batch 3,290  of  3,511.    Elapsed: 0:11:16.    Loss: 0.16168458759784698.\n",
            "  Batch 3,290  of  3,511.    Elapsed: 0:11:16.    Loss: 0.16168458759784698.\n",
            "  Batch 3,290  of  3,511.    Elapsed: 0:11:16.    Loss: 0.16168458759784698.\n",
            "  Batch 3,290  of  3,511.    Elapsed: 0:11:16.    Loss: 0.16168458759784698.\n"
          ]
        },
        {
          "name": "stderr",
          "output_type": "stream",
          "text": [
            "INFO:__main__:  Batch 3,290  of  3,511.    Elapsed: 0:11:16.    Loss: 0.16168458759784698.\n"
          ]
        },
        {
          "name": "stdout",
          "output_type": "stream",
          "text": [
            "  Batch 3,300  of  3,511.    Elapsed: 0:11:19.    Loss: 0.036690082401037216.\n",
            "  Batch 3,300  of  3,511.    Elapsed: 0:11:19.    Loss: 0.036690082401037216.\n",
            "  Batch 3,300  of  3,511.    Elapsed: 0:11:19.    Loss: 0.036690082401037216.\n",
            "  Batch 3,300  of  3,511.    Elapsed: 0:11:19.    Loss: 0.036690082401037216.\n"
          ]
        },
        {
          "name": "stderr",
          "output_type": "stream",
          "text": [
            "INFO:__main__:  Batch 3,300  of  3,511.    Elapsed: 0:11:19.    Loss: 0.036690082401037216.\n"
          ]
        },
        {
          "name": "stdout",
          "output_type": "stream",
          "text": [
            "  Batch 3,310  of  3,511.    Elapsed: 0:11:21.    Loss: 0.0030912263318896294.\n",
            "  Batch 3,310  of  3,511.    Elapsed: 0:11:21.    Loss: 0.0030912263318896294.\n",
            "  Batch 3,310  of  3,511.    Elapsed: 0:11:21.    Loss: 0.0030912263318896294.\n",
            "  Batch 3,310  of  3,511.    Elapsed: 0:11:21.    Loss: 0.0030912263318896294.\n"
          ]
        },
        {
          "name": "stderr",
          "output_type": "stream",
          "text": [
            "INFO:__main__:  Batch 3,310  of  3,511.    Elapsed: 0:11:21.    Loss: 0.0030912263318896294.\n"
          ]
        },
        {
          "name": "stdout",
          "output_type": "stream",
          "text": [
            "  Batch 3,320  of  3,511.    Elapsed: 0:11:23.    Loss: 0.0016204912681132555.\n",
            "  Batch 3,320  of  3,511.    Elapsed: 0:11:23.    Loss: 0.0016204912681132555.\n",
            "  Batch 3,320  of  3,511.    Elapsed: 0:11:23.    Loss: 0.0016204912681132555.\n",
            "  Batch 3,320  of  3,511.    Elapsed: 0:11:23.    Loss: 0.0016204912681132555.\n"
          ]
        },
        {
          "name": "stderr",
          "output_type": "stream",
          "text": [
            "INFO:__main__:  Batch 3,320  of  3,511.    Elapsed: 0:11:23.    Loss: 0.0016204912681132555.\n"
          ]
        },
        {
          "name": "stdout",
          "output_type": "stream",
          "text": [
            "  Batch 3,330  of  3,511.    Elapsed: 0:11:25.    Loss: 0.0005395843763835728.\n",
            "  Batch 3,330  of  3,511.    Elapsed: 0:11:25.    Loss: 0.0005395843763835728.\n",
            "  Batch 3,330  of  3,511.    Elapsed: 0:11:25.    Loss: 0.0005395843763835728.\n",
            "  Batch 3,330  of  3,511.    Elapsed: 0:11:25.    Loss: 0.0005395843763835728.\n"
          ]
        },
        {
          "name": "stderr",
          "output_type": "stream",
          "text": [
            "INFO:__main__:  Batch 3,330  of  3,511.    Elapsed: 0:11:25.    Loss: 0.0005395843763835728.\n"
          ]
        },
        {
          "name": "stdout",
          "output_type": "stream",
          "text": [
            "  Batch 3,340  of  3,511.    Elapsed: 0:11:27.    Loss: 0.0611162967979908.\n",
            "  Batch 3,340  of  3,511.    Elapsed: 0:11:27.    Loss: 0.0611162967979908.\n",
            "  Batch 3,340  of  3,511.    Elapsed: 0:11:27.    Loss: 0.0611162967979908.\n",
            "  Batch 3,340  of  3,511.    Elapsed: 0:11:27.    Loss: 0.0611162967979908.\n"
          ]
        },
        {
          "name": "stderr",
          "output_type": "stream",
          "text": [
            "INFO:__main__:  Batch 3,340  of  3,511.    Elapsed: 0:11:27.    Loss: 0.0611162967979908.\n"
          ]
        },
        {
          "name": "stdout",
          "output_type": "stream",
          "text": [
            "  Batch 3,350  of  3,511.    Elapsed: 0:11:29.    Loss: 0.04582192003726959.\n",
            "  Batch 3,350  of  3,511.    Elapsed: 0:11:29.    Loss: 0.04582192003726959.\n",
            "  Batch 3,350  of  3,511.    Elapsed: 0:11:29.    Loss: 0.04582192003726959.\n",
            "  Batch 3,350  of  3,511.    Elapsed: 0:11:29.    Loss: 0.04582192003726959.\n"
          ]
        },
        {
          "name": "stderr",
          "output_type": "stream",
          "text": [
            "INFO:__main__:  Batch 3,350  of  3,511.    Elapsed: 0:11:29.    Loss: 0.04582192003726959.\n"
          ]
        },
        {
          "name": "stdout",
          "output_type": "stream",
          "text": [
            "  Batch 3,360  of  3,511.    Elapsed: 0:11:31.    Loss: 0.002743271877989173.\n",
            "  Batch 3,360  of  3,511.    Elapsed: 0:11:31.    Loss: 0.002743271877989173.\n",
            "  Batch 3,360  of  3,511.    Elapsed: 0:11:31.    Loss: 0.002743271877989173.\n",
            "  Batch 3,360  of  3,511.    Elapsed: 0:11:31.    Loss: 0.002743271877989173.\n"
          ]
        },
        {
          "name": "stderr",
          "output_type": "stream",
          "text": [
            "INFO:__main__:  Batch 3,360  of  3,511.    Elapsed: 0:11:31.    Loss: 0.002743271877989173.\n"
          ]
        },
        {
          "name": "stdout",
          "output_type": "stream",
          "text": [
            "  Batch 3,370  of  3,511.    Elapsed: 0:11:33.    Loss: 0.005378224886953831.\n",
            "  Batch 3,370  of  3,511.    Elapsed: 0:11:33.    Loss: 0.005378224886953831.\n",
            "  Batch 3,370  of  3,511.    Elapsed: 0:11:33.    Loss: 0.005378224886953831.\n",
            "  Batch 3,370  of  3,511.    Elapsed: 0:11:33.    Loss: 0.005378224886953831.\n"
          ]
        },
        {
          "name": "stderr",
          "output_type": "stream",
          "text": [
            "INFO:__main__:  Batch 3,370  of  3,511.    Elapsed: 0:11:33.    Loss: 0.005378224886953831.\n"
          ]
        },
        {
          "name": "stdout",
          "output_type": "stream",
          "text": [
            "  Batch 3,380  of  3,511.    Elapsed: 0:11:35.    Loss: 0.010866865515708923.\n",
            "  Batch 3,380  of  3,511.    Elapsed: 0:11:35.    Loss: 0.010866865515708923.\n",
            "  Batch 3,380  of  3,511.    Elapsed: 0:11:35.    Loss: 0.010866865515708923.\n",
            "  Batch 3,380  of  3,511.    Elapsed: 0:11:35.    Loss: 0.010866865515708923.\n"
          ]
        },
        {
          "name": "stderr",
          "output_type": "stream",
          "text": [
            "INFO:__main__:  Batch 3,380  of  3,511.    Elapsed: 0:11:35.    Loss: 0.010866865515708923.\n"
          ]
        },
        {
          "name": "stdout",
          "output_type": "stream",
          "text": [
            "  Batch 3,390  of  3,511.    Elapsed: 0:11:37.    Loss: 0.15181778371334076.\n",
            "  Batch 3,390  of  3,511.    Elapsed: 0:11:37.    Loss: 0.15181778371334076.\n",
            "  Batch 3,390  of  3,511.    Elapsed: 0:11:37.    Loss: 0.15181778371334076.\n",
            "  Batch 3,390  of  3,511.    Elapsed: 0:11:37.    Loss: 0.15181778371334076.\n"
          ]
        },
        {
          "name": "stderr",
          "output_type": "stream",
          "text": [
            "INFO:__main__:  Batch 3,390  of  3,511.    Elapsed: 0:11:37.    Loss: 0.15181778371334076.\n"
          ]
        },
        {
          "name": "stdout",
          "output_type": "stream",
          "text": [
            "  Batch 3,400  of  3,511.    Elapsed: 0:11:39.    Loss: 0.007967664860188961.\n",
            "  Batch 3,400  of  3,511.    Elapsed: 0:11:39.    Loss: 0.007967664860188961.\n",
            "  Batch 3,400  of  3,511.    Elapsed: 0:11:39.    Loss: 0.007967664860188961.\n",
            "  Batch 3,400  of  3,511.    Elapsed: 0:11:39.    Loss: 0.007967664860188961.\n"
          ]
        },
        {
          "name": "stderr",
          "output_type": "stream",
          "text": [
            "INFO:__main__:  Batch 3,400  of  3,511.    Elapsed: 0:11:39.    Loss: 0.007967664860188961.\n"
          ]
        },
        {
          "name": "stdout",
          "output_type": "stream",
          "text": [
            "  Batch 3,410  of  3,511.    Elapsed: 0:11:41.    Loss: 0.005804580170661211.\n",
            "  Batch 3,410  of  3,511.    Elapsed: 0:11:41.    Loss: 0.005804580170661211.\n",
            "  Batch 3,410  of  3,511.    Elapsed: 0:11:41.    Loss: 0.005804580170661211.\n",
            "  Batch 3,410  of  3,511.    Elapsed: 0:11:41.    Loss: 0.005804580170661211.\n"
          ]
        },
        {
          "name": "stderr",
          "output_type": "stream",
          "text": [
            "INFO:__main__:  Batch 3,410  of  3,511.    Elapsed: 0:11:41.    Loss: 0.005804580170661211.\n"
          ]
        },
        {
          "name": "stdout",
          "output_type": "stream",
          "text": [
            "  Batch 3,420  of  3,511.    Elapsed: 0:11:43.    Loss: 0.009806791320443153.\n",
            "  Batch 3,420  of  3,511.    Elapsed: 0:11:43.    Loss: 0.009806791320443153.\n",
            "  Batch 3,420  of  3,511.    Elapsed: 0:11:43.    Loss: 0.009806791320443153.\n",
            "  Batch 3,420  of  3,511.    Elapsed: 0:11:43.    Loss: 0.009806791320443153.\n"
          ]
        },
        {
          "name": "stderr",
          "output_type": "stream",
          "text": [
            "INFO:__main__:  Batch 3,420  of  3,511.    Elapsed: 0:11:43.    Loss: 0.009806791320443153.\n"
          ]
        },
        {
          "name": "stdout",
          "output_type": "stream",
          "text": [
            "  Batch 3,430  of  3,511.    Elapsed: 0:11:45.    Loss: 0.0012318103108555079.\n",
            "  Batch 3,430  of  3,511.    Elapsed: 0:11:45.    Loss: 0.0012318103108555079.\n",
            "  Batch 3,430  of  3,511.    Elapsed: 0:11:45.    Loss: 0.0012318103108555079.\n",
            "  Batch 3,430  of  3,511.    Elapsed: 0:11:45.    Loss: 0.0012318103108555079.\n"
          ]
        },
        {
          "name": "stderr",
          "output_type": "stream",
          "text": [
            "INFO:__main__:  Batch 3,430  of  3,511.    Elapsed: 0:11:45.    Loss: 0.0012318103108555079.\n"
          ]
        },
        {
          "name": "stdout",
          "output_type": "stream",
          "text": [
            "  Batch 3,440  of  3,511.    Elapsed: 0:11:47.    Loss: 0.012055043131113052.\n",
            "  Batch 3,440  of  3,511.    Elapsed: 0:11:47.    Loss: 0.012055043131113052.\n",
            "  Batch 3,440  of  3,511.    Elapsed: 0:11:47.    Loss: 0.012055043131113052.\n",
            "  Batch 3,440  of  3,511.    Elapsed: 0:11:47.    Loss: 0.012055043131113052.\n"
          ]
        },
        {
          "name": "stderr",
          "output_type": "stream",
          "text": [
            "INFO:__main__:  Batch 3,440  of  3,511.    Elapsed: 0:11:47.    Loss: 0.012055043131113052.\n"
          ]
        },
        {
          "name": "stdout",
          "output_type": "stream",
          "text": [
            "  Batch 3,450  of  3,511.    Elapsed: 0:11:49.    Loss: 0.02879965677857399.\n",
            "  Batch 3,450  of  3,511.    Elapsed: 0:11:49.    Loss: 0.02879965677857399.\n",
            "  Batch 3,450  of  3,511.    Elapsed: 0:11:49.    Loss: 0.02879965677857399.\n",
            "  Batch 3,450  of  3,511.    Elapsed: 0:11:49.    Loss: 0.02879965677857399.\n"
          ]
        },
        {
          "name": "stderr",
          "output_type": "stream",
          "text": [
            "INFO:__main__:  Batch 3,450  of  3,511.    Elapsed: 0:11:49.    Loss: 0.02879965677857399.\n"
          ]
        },
        {
          "name": "stdout",
          "output_type": "stream",
          "text": [
            "  Batch 3,460  of  3,511.    Elapsed: 0:11:51.    Loss: 0.0010050947312265635.\n",
            "  Batch 3,460  of  3,511.    Elapsed: 0:11:51.    Loss: 0.0010050947312265635.\n",
            "  Batch 3,460  of  3,511.    Elapsed: 0:11:51.    Loss: 0.0010050947312265635.\n",
            "  Batch 3,460  of  3,511.    Elapsed: 0:11:51.    Loss: 0.0010050947312265635.\n"
          ]
        },
        {
          "name": "stderr",
          "output_type": "stream",
          "text": [
            "INFO:__main__:  Batch 3,460  of  3,511.    Elapsed: 0:11:51.    Loss: 0.0010050947312265635.\n"
          ]
        },
        {
          "name": "stdout",
          "output_type": "stream",
          "text": [
            "  Batch 3,470  of  3,511.    Elapsed: 0:11:54.    Loss: 0.002521806163713336.\n",
            "  Batch 3,470  of  3,511.    Elapsed: 0:11:54.    Loss: 0.002521806163713336.\n",
            "  Batch 3,470  of  3,511.    Elapsed: 0:11:54.    Loss: 0.002521806163713336.\n",
            "  Batch 3,470  of  3,511.    Elapsed: 0:11:54.    Loss: 0.002521806163713336.\n"
          ]
        },
        {
          "name": "stderr",
          "output_type": "stream",
          "text": [
            "INFO:__main__:  Batch 3,470  of  3,511.    Elapsed: 0:11:54.    Loss: 0.002521806163713336.\n"
          ]
        },
        {
          "name": "stdout",
          "output_type": "stream",
          "text": [
            "  Batch 3,480  of  3,511.    Elapsed: 0:11:56.    Loss: 0.0693742036819458.\n",
            "  Batch 3,480  of  3,511.    Elapsed: 0:11:56.    Loss: 0.0693742036819458.\n",
            "  Batch 3,480  of  3,511.    Elapsed: 0:11:56.    Loss: 0.0693742036819458.\n",
            "  Batch 3,480  of  3,511.    Elapsed: 0:11:56.    Loss: 0.0693742036819458.\n"
          ]
        },
        {
          "name": "stderr",
          "output_type": "stream",
          "text": [
            "INFO:__main__:  Batch 3,480  of  3,511.    Elapsed: 0:11:56.    Loss: 0.0693742036819458.\n"
          ]
        },
        {
          "name": "stdout",
          "output_type": "stream",
          "text": [
            "  Batch 3,490  of  3,511.    Elapsed: 0:11:58.    Loss: 0.0022691418416798115.\n",
            "  Batch 3,490  of  3,511.    Elapsed: 0:11:58.    Loss: 0.0022691418416798115.\n",
            "  Batch 3,490  of  3,511.    Elapsed: 0:11:58.    Loss: 0.0022691418416798115.\n",
            "  Batch 3,490  of  3,511.    Elapsed: 0:11:58.    Loss: 0.0022691418416798115.\n"
          ]
        },
        {
          "name": "stderr",
          "output_type": "stream",
          "text": [
            "INFO:__main__:  Batch 3,490  of  3,511.    Elapsed: 0:11:58.    Loss: 0.0022691418416798115.\n"
          ]
        },
        {
          "name": "stdout",
          "output_type": "stream",
          "text": [
            "  Batch 3,500  of  3,511.    Elapsed: 0:12:00.    Loss: 0.3464435636997223.\n",
            "  Batch 3,500  of  3,511.    Elapsed: 0:12:00.    Loss: 0.3464435636997223.\n",
            "  Batch 3,500  of  3,511.    Elapsed: 0:12:00.    Loss: 0.3464435636997223.\n",
            "  Batch 3,500  of  3,511.    Elapsed: 0:12:00.    Loss: 0.3464435636997223.\n"
          ]
        },
        {
          "name": "stderr",
          "output_type": "stream",
          "text": [
            "INFO:__main__:  Batch 3,500  of  3,511.    Elapsed: 0:12:00.    Loss: 0.3464435636997223.\n"
          ]
        },
        {
          "name": "stdout",
          "output_type": "stream",
          "text": [
            "  Batch 3,510  of  3,511.    Elapsed: 0:12:02.    Loss: 0.0014636715641245246.\n",
            "  Batch 3,510  of  3,511.    Elapsed: 0:12:02.    Loss: 0.0014636715641245246.\n",
            "  Batch 3,510  of  3,511.    Elapsed: 0:12:02.    Loss: 0.0014636715641245246.\n",
            "  Batch 3,510  of  3,511.    Elapsed: 0:12:02.    Loss: 0.0014636715641245246.\n"
          ]
        },
        {
          "name": "stderr",
          "output_type": "stream",
          "text": [
            "INFO:__main__:  Batch 3,510  of  3,511.    Elapsed: 0:12:02.    Loss: 0.0014636715641245246.\n"
          ]
        },
        {
          "name": "stdout",
          "output_type": "stream",
          "text": [
            "\n",
            "\n",
            "\n",
            "\n"
          ]
        },
        {
          "name": "stderr",
          "output_type": "stream",
          "text": [
            "INFO:__main__:\n"
          ]
        },
        {
          "name": "stdout",
          "output_type": "stream",
          "text": [
            "  Average training loss: 0.1085\n",
            "  Average training loss: 0.1085\n",
            "  Average training loss: 0.1085\n",
            "  Average training loss: 0.1085\n"
          ]
        },
        {
          "name": "stderr",
          "output_type": "stream",
          "text": [
            "INFO:__main__:  Average training loss: 0.1085\n"
          ]
        },
        {
          "name": "stdout",
          "output_type": "stream",
          "text": [
            "  Training Epoch took: 0:12:02\n",
            "  Training Epoch took: 0:12:02\n",
            "  Training Epoch took: 0:12:02\n",
            "  Training Epoch took: 0:12:02\n"
          ]
        },
        {
          "name": "stderr",
          "output_type": "stream",
          "text": [
            "INFO:__main__:  Training Epoch took: 0:12:02\n"
          ]
        },
        {
          "name": "stdout",
          "output_type": "stream",
          "text": [
            "  Validation Loss: 0.05\n",
            "  Validation Loss: 0.05\n",
            "  Validation Loss: 0.05\n",
            "  Validation Loss: 0.05\n"
          ]
        },
        {
          "name": "stderr",
          "output_type": "stream",
          "text": [
            "INFO:__main__:  Validation Loss: 0.05\n"
          ]
        },
        {
          "name": "stdout",
          "output_type": "stream",
          "text": [
            "  Precision: 91.90 || Recall: 92.93 || F1: 92.41\n",
            "  Precision: 91.90 || Recall: 92.93 || F1: 92.41\n",
            "  Precision: 91.90 || Recall: 92.93 || F1: 92.41\n",
            "  Precision: 91.90 || Recall: 92.93 || F1: 92.41\n"
          ]
        },
        {
          "name": "stderr",
          "output_type": "stream",
          "text": [
            "INFO:__main__:  Precision: 91.90 || Recall: 92.93 || F1: 92.41\n"
          ]
        },
        {
          "name": "stdout",
          "output_type": "stream",
          "text": [
            "  Validation took: 0:00:52\n",
            "  Validation took: 0:00:52\n",
            "  Validation took: 0:00:52\n",
            "  Validation took: 0:00:52\n"
          ]
        },
        {
          "name": "stderr",
          "output_type": "stream",
          "text": [
            "INFO:__main__:  Validation took: 0:00:52\n"
          ]
        },
        {
          "name": "stdout",
          "output_type": "stream",
          "text": [
            "\n",
            "\n",
            "\n",
            "\n"
          ]
        },
        {
          "name": "stderr",
          "output_type": "stream",
          "text": [
            "INFO:__main__:\n"
          ]
        },
        {
          "name": "stdout",
          "output_type": "stream",
          "text": [
            "Training complete!\n",
            "Training complete!\n",
            "Training complete!\n",
            "Training complete!\n"
          ]
        },
        {
          "name": "stderr",
          "output_type": "stream",
          "text": [
            "INFO:__main__:Training complete!\n"
          ]
        }
      ],
      "source": [
        "loss_trn_values, loss_dev_values = [], []\n",
        "\n",
        "\n",
        "for epoch_i in range(1, EPOCHS+1):\n",
        "    # Perform one full pass over the training set.\n",
        "    logger.info(\"\")\n",
        "    logger.info('======== Epoch {:} / {:} ========'.format(epoch_i, EPOCHS))\n",
        "    logger.info('Training...')\n",
        "\n",
        "    t0 = time.time()\n",
        "    total_loss = 0\n",
        "    model.train()\n",
        "\n",
        "    # For each batch of training data...\n",
        "    for step, batch in enumerate(train_dataloader):\n",
        "        b_input_ids = batch[0].to(device)\n",
        "        b_input_mask = batch[1].to(device)\n",
        "        b_labels = batch[2].to(device)\n",
        "\n",
        "        model.zero_grad()\n",
        "\n",
        "        # Perform a forward pass (evaluate the model on this training batch).\n",
        "        outputs = model(b_input_ids, attention_mask=b_input_mask, labels=b_labels)\n",
        "        loss = outputs[0]\n",
        "        total_loss += loss.item()\n",
        "\n",
        "        # Perform a backward pass to calculate the gradients.\n",
        "        loss.backward()\n",
        "\n",
        "        # Clip the norm of the gradients to 1.0.\n",
        "        torch.nn.utils.clip_grad_norm_(model.parameters(), GRADIENT_CLIP)\n",
        "\n",
        "        # Update parameters\n",
        "        optimizer.step()\n",
        "        scheduler.step()\n",
        "\n",
        "        # Progress update\n",
        "        if step % PRINT_INFO_EVERY == 0 and step != 0:\n",
        "            # Calculate elapsed time in minutes.\n",
        "            elapsed = utils.format_time(time.time() - t0)\n",
        "            # Report progress.\n",
        "            logger.info('  Batch {:>5,}  of  {:>5,}.    Elapsed: {:}.    Loss: {}.'.format(step, len(train_dataloader),\n",
        "                                                                                            elapsed, loss.item()))\n",
        "\n",
        "    # Calculate the average loss over the training data.\n",
        "    avg_train_loss = total_loss / len(train_dataloader)\n",
        "\n",
        "    # Store the loss value for plotting the learning curve.\n",
        "    loss_trn_values.append(avg_train_loss)\n",
        "\n",
        "    logger.info(\"\")\n",
        "    logger.info(\"  Average training loss: {0:.4f}\".format(avg_train_loss))\n",
        "    logger.info(\"  Training Epoch took: {:}\".format(utils.format_time(time.time() - t0)))\n",
        "\n",
        "    # ========================================\n",
        "    #               Validation\n",
        "    # ========================================\n",
        "    # After the completion of each training epoch, measure our performance on our validation set.\n",
        "    t0 = time.time()\n",
        "    results, preds_list = utils.evaluate_bert_model(dev_dataloader, BATCH_SIZE, model, tokenizer, index2label, PAD_TOKEN_LABEL_ID, prefix=\"Validation Set\")\n",
        "    loss_dev_values.append(results['loss'])\n",
        "    logger.info(\"  Validation Loss: {0:.2f}\".format(results['loss']))\n",
        "    logger.info(\"  Precision: {0:.2f} || Recall: {1:.2f} || F1: {2:.2f}\".format(results['precision']*100, results['recall']*100, results['f1']*100))\n",
        "    logger.info(\"  Validation took: {:}\".format(utils.format_time(time.time() - t0)))\n",
        "\n",
        "\n",
        "    # Save Checkpoint for this Epoch\n",
        "    utils.save_model(f\"{SAVE_MODEL_DIR}/EPOCH_{epoch_i}\", {\"args\":[]}, model, tokenizer)\n",
        "\n",
        "\n",
        "utils.save_losses(loss_trn_values, filename=LOSS_TRN_FILENAME)\n",
        "utils.save_losses(loss_dev_values, filename=LOSS_DEV_FILENAME)\n",
        "logger.info(\"\")\n",
        "logger.info(\"Training complete!\")"
      ]
    },
    {
      "cell_type": "markdown",
      "metadata": {
        "id": "_jI3pbcKsyZm"
      },
      "source": [
        "# Use Fine-tuned Model for Predictions"
      ]
    },
    {
      "cell_type": "code",
      "execution_count": 59,
      "metadata": {
        "id": "_wqst4JZsyZm"
      },
      "outputs": [],
      "source": [
        "from transformers import pipeline\n",
        "from torch.utils.data import SequentialSampler\n",
        "\n",
        "GPU_IX=0\n",
        "device, USE_CUDA = utils.get_torch_device(GPU_IX)\n",
        "FILE_HAS_GOLD = True\n",
        "SEQ_MAX_LEN = 256\n",
        "BATCH_SIZE = 4\n",
        "# IMPORTANT NOTE: We predict on the dev set to make the results comparable with your previous models from this course\n",
        "TEST_DATA_PATH = \"data/conll2003.dev.conll\" # \"data/conll2003.dev.conll\"\n",
        "# TEST_DATA_PATH = \"data/trial_unk_data.conll\"\n",
        "MODEL_DIR = \"saved_models/MY_BERT_NER/\"\n",
        "LOAD_EPOCH = 1\n",
        "INPUTS_PATH=f\"{MODEL_DIR}/EPOCH_{LOAD_EPOCH}/model_inputs.txt\"\n",
        "OUTPUTS_PATH=f\"{MODEL_DIR}/EPOCH_{LOAD_EPOCH}/model_outputs.txt\"\n",
        "PAD_TOKEN_LABEL_ID = CrossEntropyLoss().ignore_index # -100\n",
        "\n",
        "console_hdlr = logging.StreamHandler(sys.stdout)\n",
        "file_hdlr = logging.FileHandler(filename=f\"{MODEL_DIR}/EPOCH_{LOAD_EPOCH}/BERT_TokenClassifier_predictions.log\")\n",
        "logging.basicConfig(handlers=[console_hdlr, file_hdlr])\n",
        "logger = logging.getLogger(__name__)\n",
        "logger.setLevel(logging.INFO)"
      ]
    },
    {
      "cell_type": "markdown",
      "metadata": {
        "id": "71PYZMzMsyZm"
      },
      "source": [
        "## Load Pre-trained Model"
      ]
    },
    {
      "cell_type": "code",
      "execution_count": 60,
      "metadata": {
        "id": "kwtyjvMXsyZm"
      },
      "outputs": [],
      "source": [
        "model, tokenizer = utils.load_model(BertForTokenClassification, BertTokenizer, f\"{MODEL_DIR}/EPOCH_{LOAD_EPOCH}\")\n",
        "label2index = utils.load_label_dict(f\"{MODEL_DIR}/label2index.json\")\n",
        "index2label = {v:k for k,v in label2index.items()}"
      ]
    },
    {
      "cell_type": "markdown",
      "metadata": {
        "id": "jHivh1HXsyZn"
      },
      "source": [
        "## Load File for Predictions "
      ]
    },
    {
      "cell_type": "code",
      "execution_count": 61,
      "metadata": {
        "id": "azF_T-YAsyZn"
      },
      "outputs": [],
      "source": [
        "test_data, test_labels, _ = utils.read_conll(TEST_DATA_PATH, has_labels=FILE_HAS_GOLD)\n",
        "prediction_inputs, prediction_masks, gold_labels, seq_lens = utils.data_to_tensors(test_data, \n",
        "                                                                                   tokenizer, \n",
        "                                                                                   max_len=SEQ_MAX_LEN, \n",
        "                                                                                   labels=test_labels, \n",
        "                                                                                   label2index=label2index)"
      ]
    },
    {
      "cell_type": "code",
      "execution_count": 62,
      "metadata": {
        "id": "XWHyjRKF1Pw5"
      },
      "outputs": [],
      "source": [
        "gold = []\n",
        "for ls in test_labels:\n",
        "  gold.extend(ls)"
      ]
    },
    {
      "cell_type": "markdown",
      "metadata": {
        "id": "mWvjPEnNsyZn"
      },
      "source": [
        "## Make Predictions"
      ]
    },
    {
      "cell_type": "code",
      "execution_count": 63,
      "metadata": {
        "colab": {
          "base_uri": "https://localhost:8080/"
        },
        "id": "eVvU6VhqsyZn",
        "outputId": "0fa102ab-5016-4d40-b5cc-8578d92abf5a"
      },
      "outputs": [
        {
          "name": "stdout",
          "output_type": "stream",
          "text": [
            "Predicting labels for 3,250 test sentences...\n",
            "Predicting labels for 3,250 test sentences...\n",
            "Predicting labels for 3,250 test sentences...\n",
            "Predicting labels for 3,250 test sentences...\n"
          ]
        },
        {
          "name": "stderr",
          "output_type": "stream",
          "text": [
            "INFO:__main__:Predicting labels for 3,250 test sentences...\n"
          ]
        },
        {
          "name": "stdout",
          "output_type": "stream",
          "text": [
            "  Test Loss: 0.06\n",
            "  Test Loss: 0.06\n",
            "  Test Loss: 0.06\n",
            "  Test Loss: 0.06\n"
          ]
        },
        {
          "name": "stderr",
          "output_type": "stream",
          "text": [
            "INFO:__main__:  Test Loss: 0.06\n"
          ]
        },
        {
          "name": "stdout",
          "output_type": "stream",
          "text": [
            "  Precision: 91.90 || Recall: 92.93 || F1: 92.41\n",
            "  Precision: 91.90 || Recall: 92.93 || F1: 92.41\n",
            "  Precision: 91.90 || Recall: 92.93 || F1: 92.41\n",
            "  Precision: 91.90 || Recall: 92.93 || F1: 92.41\n"
          ]
        },
        {
          "name": "stderr",
          "output_type": "stream",
          "text": [
            "INFO:__main__:  Precision: 91.90 || Recall: 92.93 || F1: 92.41\n"
          ]
        }
      ],
      "source": [
        "if FILE_HAS_GOLD:\n",
        "    prediction_data = TensorDataset(prediction_inputs, prediction_masks, gold_labels, seq_lens)\n",
        "    prediction_sampler = SequentialSampler(prediction_data)\n",
        "    prediction_dataloader = DataLoader(prediction_data, sampler=prediction_sampler, batch_size=BATCH_SIZE)\n",
        "\n",
        "    logger.info('Predicting labels for {:,} test sentences...'.format(len(prediction_inputs)))\n",
        "    \n",
        "    results, preds_list = utils.evaluate_bert_model(prediction_dataloader, BATCH_SIZE, model, tokenizer, index2label, \n",
        "                                                        PAD_TOKEN_LABEL_ID, full_report=True, prefix=\"Test Set\")\n",
        "    logger.info(\"  Test Loss: {0:.2f}\".format(results['loss']))\n",
        "    logger.info(\"  Precision: {0:.2f} || Recall: {1:.2f} || F1: {2:.2f}\".format(results['precision']*100, results['recall']*100, results['f1']*100))\n",
        "\n",
        "    preds = []\n",
        "    with open(OUTPUTS_PATH, \"w\") as fout:\n",
        "        with open(INPUTS_PATH, \"w\") as fin:\n",
        "            for sent, pred in preds_list:\n",
        "                preds.extend(pred)\n",
        "                fin.write(\" \".join(sent)+\"\\n\")\n",
        "                fout.write(\" \".join(pred)+\"\\n\")\n",
        "\n",
        "else:\n",
        "    # https://huggingface.co/transformers/main_classes/pipelines.html#transformers.TokenClassificationPipeline\n",
        "    logger.info('Predicting labels for {:,} test sentences...'.format(len(test_data)))\n",
        "    if not USE_CUDA: GPU_IX = -1\n",
        "    nlp = pipeline('token-classification', model=model, tokenizer=tokenizer, device=GPU_IX)\n",
        "    nlp.ignore_labels = []\n",
        "    with open(OUTPUTS_PATH, \"w\") as fout:\n",
        "        with open(INPUTS_PATH, \"w\") as fin:\n",
        "            for seq_ix, seq in enumerate(test_data):\n",
        "                sentence = \" \".join(seq)\n",
        "                predicted_labels = []\n",
        "                output_obj = nlp(sentence)\n",
        "                # [print(o) for o in output_obj]\n",
        "                for tok in output_obj:\n",
        "                    if '##' not in tok['word']:\n",
        "                        predicted_labels.append(tok['entity'])\n",
        "                logger.info(f\"\\n----- {seq_ix+1} -----\\n{seq}\\nPRED:{predicted_labels}\")\n",
        "                fin.write(sentence+\"\\n\")\n",
        "                fout.write(\" \".join(predicted_labels)+\"\\n\")"
      ]
    },
    {
      "cell_type": "code",
      "execution_count": 64,
      "metadata": {
        "colab": {
          "base_uri": "https://localhost:8080/"
        },
        "id": "rz9iQRi7ucI1",
        "outputId": "4cf68544-a36f-40bf-bd13-11fcf57ec5b5"
      },
      "outputs": [
        {
          "name": "stdout",
          "output_type": "stream",
          "text": [
            "              precision    recall  f1-score   support\n",
            "\n",
            "       B-LOC       0.95      0.95      0.95      1837\n",
            "      B-MISC       0.89      0.86      0.88       922\n",
            "       B-ORG       0.92      0.93      0.93      1341\n",
            "       B-PER       0.97      0.97      0.97      1842\n",
            "       I-LOC       0.92      0.93      0.92       257\n",
            "      I-MISC       0.86      0.80      0.83       346\n",
            "       I-ORG       0.91      0.93      0.92       751\n",
            "       I-PER       0.98      0.99      0.99      1307\n",
            "           O       1.00      1.00      1.00     42759\n",
            "\n",
            "    accuracy                           0.99     51362\n",
            "   macro avg       0.93      0.93      0.93     51362\n",
            "weighted avg       0.99      0.99      0.99     51362\n",
            "\n"
          ]
        }
      ],
      "source": [
        "print(classification_report(gold, preds))"
      ]
    },
    {
      "cell_type": "code",
      "execution_count": 58,
      "metadata": {
        "id": "zv781luI6Vav"
      },
      "outputs": [],
      "source": []
    }
  ],
  "metadata": {
    "accelerator": "GPU",
    "colab": {
      "provenance": []
    },
    "gpuClass": "standard",
    "kernelspec": {
      "display_name": "base",
      "language": "python",
      "name": "python3"
    },
    "language_info": {
      "codemirror_mode": {
        "name": "ipython",
        "version": 3
      },
      "file_extension": ".py",
      "mimetype": "text/x-python",
      "name": "python",
      "nbconvert_exporter": "python",
      "pygments_lexer": "ipython3",
      "version": "3.9.13 (main, Aug 25 2022, 18:29:29) \n[Clang 12.0.0 ]"
    },
    "orig_nbformat": 4,
    "vscode": {
      "interpreter": {
        "hash": "b404d2aafdf561b3056e6883553e066f5a70fc5deb88f06afbbb68722dddb5be"
      }
    }
  },
  "nbformat": 4,
  "nbformat_minor": 0
}
