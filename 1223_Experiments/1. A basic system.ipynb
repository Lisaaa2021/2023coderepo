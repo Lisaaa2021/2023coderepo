{
 "cells": [
  {
   "cell_type": "code",
   "execution_count": 4,
   "metadata": {},
   "outputs": [],
   "source": [
    "from util.basic_system import extract_features_and_labels,\\\n",
    "create_classifier, extract_features, classify_data\n",
    "import pandas as pd\n",
    "import util.basic_evaluation\n",
    "from sklearn.metrics import classification_report\n",
    "\n",
    "#Load the data\n",
    "dev_path = '../data/conll2003.dev.conll'\n",
    "train_path = '../data/conll2003.train.conll'\n",
    "\n",
    "X_train, Y_train = extract_features_and_labels(train_path)\n",
    "X_dev, Y_dev_true = extract_features_and_labels(dev_path)"
   ]
  },
  {
   "cell_type": "code",
   "execution_count": 2,
   "metadata": {},
   "outputs": [],
   "source": [
    "\n",
    "#Let's train the model with two more features:\n",
    "model, vec = create_classifier(X_train, Y_train)\n"
   ]
  },
  {
   "cell_type": "code",
   "execution_count": 6,
   "metadata": {},
   "outputs": [],
   "source": [
    "#Let's get the prediction of Y_test\n",
    "X_dev = vec.transform(X_dev)\n",
    "Y_pred = model.predict(X_dev)"
   ]
  },
  {
   "cell_type": "code",
   "execution_count": 7,
   "metadata": {},
   "outputs": [
    {
     "name": "stdout",
     "output_type": "stream",
     "text": [
      "                         0\n",
      "(O, precision)       0.984\n",
      "(O, recall)          0.991\n",
      "(O, f1_socre)        0.988\n",
      "(B-ORG, precision)   0.776\n",
      "(B-ORG, recall)      0.582\n",
      "(B-ORG, f1_socre)    0.665\n",
      "(B-LOC, precision)   0.886\n",
      "(B-LOC, recall)      0.781\n",
      "(B-LOC, f1_socre)    0.830\n",
      "(B-MISC, precision)  0.884\n",
      "(B-MISC, recall)     0.669\n",
      "(B-MISC, f1_socre)   0.762\n",
      "(I-MISC, precision)  0.837\n",
      "(I-MISC, recall)     0.474\n",
      "(I-MISC, f1_socre)   0.605\n",
      "(B-PER, precision)   0.748\n",
      "(B-PER, recall)      0.759\n",
      "(B-PER, f1_socre)    0.753\n",
      "(I-PER, precision)   0.559\n",
      "(I-PER, recall)      0.927\n",
      "(I-PER, f1_socre)    0.697\n",
      "(I-LOC, precision)   0.733\n",
      "(I-LOC, recall)      0.661\n",
      "(I-LOC, f1_socre)    0.695\n",
      "(I-ORG, precision)   0.714\n",
      "(I-ORG, recall)      0.478\n",
      "(I-ORG, f1_socre)    0.573\n",
      "\\begin{tabular}{lr}\n",
      "\\toprule\n",
      "{} &      0 \\\\\n",
      "\\midrule\n",
      "(O, precision)      &  0.984 \\\\\n",
      "(O, recall)         &  0.991 \\\\\n",
      "(O, f1\\_socre)       &  0.988 \\\\\n",
      "(B-ORG, precision)  &  0.776 \\\\\n",
      "(B-ORG, recall)     &  0.582 \\\\\n",
      "(B-ORG, f1\\_socre)   &  0.665 \\\\\n",
      "(B-LOC, precision)  &  0.886 \\\\\n",
      "(B-LOC, recall)     &  0.781 \\\\\n",
      "(B-LOC, f1\\_socre)   &  0.830 \\\\\n",
      "(B-MISC, precision) &  0.884 \\\\\n",
      "(B-MISC, recall)    &  0.669 \\\\\n",
      "(B-MISC, f1\\_socre)  &  0.762 \\\\\n",
      "(I-MISC, precision) &  0.837 \\\\\n",
      "(I-MISC, recall)    &  0.474 \\\\\n",
      "(I-MISC, f1\\_socre)  &  0.605 \\\\\n",
      "(B-PER, precision)  &  0.748 \\\\\n",
      "(B-PER, recall)     &  0.759 \\\\\n",
      "(B-PER, f1\\_socre)   &  0.753 \\\\\n",
      "(I-PER, precision)  &  0.559 \\\\\n",
      "(I-PER, recall)     &  0.927 \\\\\n",
      "(I-PER, f1\\_socre)   &  0.697 \\\\\n",
      "(I-LOC, precision)  &  0.733 \\\\\n",
      "(I-LOC, recall)     &  0.661 \\\\\n",
      "(I-LOC, f1\\_socre)   &  0.695 \\\\\n",
      "(I-ORG, precision)  &  0.714 \\\\\n",
      "(I-ORG, recall)     &  0.478 \\\\\n",
      "(I-ORG, f1\\_socre)   &  0.573 \\\\\n",
      "\\bottomrule\n",
      "\\end{tabular}\n",
      "\n"
     ]
    }
   ],
   "source": [
    "#evaluation\n",
    "evaluation_counts = util.basic_evaluation.obtain_counts(Y_dev_true, Y_pred)\n",
    "result = util.basic_evaluation.calculate_precision_recall_fscore(evaluation_counts)\n",
    "util.basic_evaluation.provide_output_tables(result)"
   ]
  },
  {
   "cell_type": "code",
   "execution_count": 8,
   "metadata": {},
   "outputs": [
    {
     "name": "stdout",
     "output_type": "stream",
     "text": [
      "              precision    recall  f1-score   support\n",
      "\n",
      "       B-LOC      0.886     0.781     0.830      1837\n",
      "      B-MISC      0.884     0.669     0.762       922\n",
      "       B-ORG      0.776     0.582     0.665      1341\n",
      "       B-PER      0.748     0.759     0.753      1842\n",
      "       I-LOC      0.733     0.661     0.695       257\n",
      "      I-MISC      0.837     0.474     0.605       346\n",
      "       I-ORG      0.714     0.478     0.573       751\n",
      "       I-PER      0.559     0.927     0.697      1307\n",
      "           O      0.984     0.991     0.988     42759\n",
      "\n",
      "    accuracy                          0.945     51362\n",
      "   macro avg      0.791     0.702     0.730     51362\n",
      "weighted avg      0.948     0.945     0.944     51362\n",
      "\n"
     ]
    }
   ],
   "source": [
    "print(classification_report(Y_dev_true, Y_pred, digits=3))\n"
   ]
  },
  {
   "cell_type": "code",
   "execution_count": 10,
   "metadata": {},
   "outputs": [
    {
     "data": {
      "text/plain": [
       "[['O',\n",
       "  'B-ORG',\n",
       "  'B-LOC',\n",
       "  'B-MISC',\n",
       "  'I-MISC',\n",
       "  'B-PER',\n",
       "  'I-PER',\n",
       "  'I-LOC',\n",
       "  'I-ORG'],\n",
       " [42394, 19, 2, 10, 9, 89, 220, 0, 16],\n",
       " [129, 780, 85, 21, 2, 134, 124, 6, 60],\n",
       " [67, 104, 1434, 11, 0, 150, 46, 11, 14],\n",
       " [124, 28, 32, 617, 12, 37, 59, 0, 13],\n",
       " [66, 7, 3, 27, 164, 6, 57, 8, 8],\n",
       " [108, 7, 18, 2, 0, 1398, 302, 0, 7],\n",
       " [39, 4, 1, 2, 0, 41, 1211, 0, 9],\n",
       " [14, 1, 7, 2, 4, 1, 41, 170, 17],\n",
       " [131, 55, 36, 6, 5, 14, 108, 37, 359]]"
      ]
     },
     "execution_count": 10,
     "metadata": {},
     "output_type": "execute_result"
    }
   ],
   "source": [
    "util.basic_evaluation.provide_confusion_matrix(evaluation_counts)"
   ]
  }
 ],
 "metadata": {
  "kernelspec": {
   "display_name": "Python 3.8.12 64-bit ('3.8.12')",
   "language": "python",
   "name": "python3"
  },
  "language_info": {
   "codemirror_mode": {
    "name": "ipython",
    "version": 3
   },
   "file_extension": ".py",
   "mimetype": "text/x-python",
   "name": "python",
   "nbconvert_exporter": "python",
   "pygments_lexer": "ipython3",
   "version": "3.8.12"
  },
  "orig_nbformat": 4,
  "vscode": {
   "interpreter": {
    "hash": "3507a3494b46b57e95a2a0ac15252eab7d9950b0f76f41ee00fce5306eb99052"
   }
  }
 },
 "nbformat": 4,
 "nbformat_minor": 2
}
