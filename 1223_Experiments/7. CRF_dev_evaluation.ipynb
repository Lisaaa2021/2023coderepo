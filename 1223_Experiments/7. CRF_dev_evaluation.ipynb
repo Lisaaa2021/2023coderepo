{
 "cells": [
  {
   "cell_type": "code",
   "execution_count": 2,
   "metadata": {},
   "outputs": [],
   "source": [
    "from util.basic_evaluation import extract_annotations\n",
    "import pandas as pd\n",
    "from sklearn.metrics import classification_report"
   ]
  },
  {
   "cell_type": "code",
   "execution_count": 3,
   "metadata": {},
   "outputs": [],
   "source": [
    "inputfile = '../data/conll2003.dev.conll'\n",
    "gold = pd.read_csv(inputfile,\n",
    "                     sep='\\t',\n",
    "                     on_bad_lines='skip',\n",
    "                     header=None,\n",
    "                     quotechar='|')\n",
    "gold = gold.rename({0: 'token', 1: 'pos', 2: 'chunk_tag', 3: 'target'}, axis=1)\n",
    "gold.to_csv('../data/dev_gold.csv')"
   ]
  },
  {
   "cell_type": "code",
   "execution_count": 4,
   "metadata": {},
   "outputs": [],
   "source": [
    "# for unknown reason, the last 4 lines are missing in the dev output\n",
    "# so we removed the last four lines in the gold data as well\n",
    "gold = pd.read_csv('../data/dev_gold.csv')['target'].iloc[:51358]"
   ]
  },
  {
   "cell_type": "code",
   "execution_count": 5,
   "metadata": {},
   "outputs": [],
   "source": [
    "crf = '7. crf_dev_output.csv'\n",
    "crf_out = pd.read_csv(crf, sep='\\t', header=None, quotechar='|').rename({0:'token', 1:'result'},axis=1)\n",
    "system_out = crf_out['result']"
   ]
  },
  {
   "cell_type": "code",
   "execution_count": 6,
   "metadata": {},
   "outputs": [
    {
     "name": "stdout",
     "output_type": "stream",
     "text": [
      "              precision    recall  f1-score   support\n",
      "\n",
      "       B-LOC      0.938     0.841     0.887      1837\n",
      "      B-MISC      0.927     0.796     0.856       922\n",
      "       B-ORG      0.804     0.755     0.779      1340\n",
      "       B-PER      0.916     0.798     0.853      1842\n",
      "       I-LOC      0.621     0.759     0.683       257\n",
      "      I-MISC      0.845     0.647     0.733       346\n",
      "       I-ORG      0.782     0.736     0.758       750\n",
      "       I-PER      0.890     0.950     0.919      1307\n",
      "           O      0.979     0.993     0.986     42757\n",
      "\n",
      "    accuracy                          0.962     51358\n",
      "   macro avg      0.856     0.808     0.828     51358\n",
      "weighted avg      0.962     0.962     0.961     51358\n",
      "\n"
     ]
    }
   ],
   "source": [
    "print(classification_report(gold, system_out, digits =3))"
   ]
  },
  {
   "cell_type": "code",
   "execution_count": null,
   "metadata": {},
   "outputs": [],
   "source": []
  }
 ],
 "metadata": {
  "kernelspec": {
   "display_name": "base",
   "language": "python",
   "name": "python3"
  },
  "language_info": {
   "codemirror_mode": {
    "name": "ipython",
    "version": 3
   },
   "file_extension": ".py",
   "mimetype": "text/x-python",
   "name": "python",
   "nbconvert_exporter": "python",
   "pygments_lexer": "ipython3",
   "version": "3.9.13"
  },
  "orig_nbformat": 4,
  "vscode": {
   "interpreter": {
    "hash": "b404d2aafdf561b3056e6883553e066f5a70fc5deb88f06afbbb68722dddb5be"
   }
  }
 },
 "nbformat": 4,
 "nbformat_minor": 2
}
