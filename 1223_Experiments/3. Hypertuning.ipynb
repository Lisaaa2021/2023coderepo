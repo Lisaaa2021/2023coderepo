{
  "cells": [
    {
      "cell_type": "code",
      "execution_count": 32,
      "metadata": {
        "id": "fDB5AYSl52cp"
      },
      "outputs": [],
      "source": [
        "from util.ner_machine_learning import extract_embeddings_as_features_and_gold, \\\n",
        "    extract_features_and_labels, create_classifier\n",
        "from util.basic_evaluation import obtain_counts, calculate_precision_recall_fscore, provide_output_tables\n",
        "from gensim.models import KeyedVectors\n",
        "from sklearn.metrics import classification_report\n",
        "from sklearn.preprocessing import OneHotEncoder\n",
        "from sklearn.svm import SVC, LinearSVC\n",
        "from util.feature_extract import extract_left_token, extract_right_token\n",
        "import pandas as pd\n",
        "from sklearn.model_selection import HalvingGridSearchCV\n",
        "\n",
        "\n",
        "#conll filepath\n",
        "train_path = '../data/conll2003.train.conll'\n",
        "dev_path = '../data/conll2003.dev.conll'"
      ]
    },
    {
      "cell_type": "code",
      "execution_count": 33,
      "metadata": {
        "id": "V13kB1gC52cq"
      },
      "outputs": [],
      "source": [
        "# Load the training data\n",
        "data = pd.read_csv(train_path, delimiter='\\t', quotechar= '|', header = None)\n",
        "data = data.rename({0:'token', 1:'pos', 2:'chunk_tag',3:'target'}, axis = 1)\n",
        "# [row, column]\n",
        "X_train = data[['token','pos','chunk_tag']]\n",
        "Y_train = data['target']\n",
        "#print(Y_train)\n",
        "\n",
        "# Load the dev data\n",
        "data = pd.read_csv(dev_path, delimiter='\\t', quotechar='|', header=None)\n",
        "data = data.rename({0: 'token', 1: 'pos', 2: 'chunk_tag', 3: 'target'}, axis=1)\n",
        "X_dev = data[['token', 'pos', 'chunk_tag']]\n",
        "Y_dev = data['target']"
      ]
    },
    {
      "cell_type": "code",
      "execution_count": 34,
      "metadata": {
        "id": "RRc4RRl652cr"
      },
      "outputs": [],
      "source": [
        "# add token in the left to features\n",
        "X_train['token_left'] = extract_left_token(X_train['token'])\n",
        "X_dev['token_left'] = extract_left_token(X_dev['token'])\n",
        "\n",
        "X_train['token_right'] = extract_right_token(X_train['token'])\n",
        "X_dev['token_right'] = extract_right_token(X_dev['token'])"
      ]
    },
    {
      "cell_type": "code",
      "execution_count": 35,
      "metadata": {
        "id": "RdxoD9wM52cr"
      },
      "outputs": [],
      "source": [
        "enc = OneHotEncoder(handle_unknown='ignore')\n",
        "# When an unknown category is encountered during transform,\n",
        "# the resulting one-hot encoded columns for this feature will be all zeros.\n",
        "\n",
        "enc.fit_transform(X_train)\n",
        "X_train_ohe = enc.transform(X_train)\n",
        "X_dev_ohe = enc.transform(X_dev)"
      ]
    },
    {
      "cell_type": "code",
      "execution_count": 36,
      "metadata": {
        "id": "NLC4Fr5k52cu"
      },
      "outputs": [],
      "source": [
        "# from sklearn.model_selection import GridSearchCV\n",
        "# # Hyperparameter tuning\n",
        "# # https://www.vebuso.com/2020/03/svm-hyperparameter-tuning-using-gridsearchcv/\n",
        "\n",
        "# #Instanciate model\n",
        "# model = SVC()\n",
        "\n",
        "# #Hyperparameter Grid\n",
        "# paras = {'C':[0.1, 1, 10, 100], 'kernel':['linear','poly','rbf','sigmoid','precomputed'],'gamma' :[1, 0.1, 0.01, 0.001]}\n",
        "\n",
        "# search = GridSearchCV(model, paras, scoring='f1_weighted', verbose = 2 , cv = 5)\n"
      ]
    },
    {
      "cell_type": "code",
      "execution_count": 37,
      "metadata": {
        "colab": {
          "base_uri": "https://localhost:8080/"
        },
        "id": "spSCuuM1wMD3",
        "outputId": "6663c42c-e3b3-4e81-fcb9-41514044ba95"
      },
      "outputs": [
        {
          "name": "stderr",
          "output_type": "stream",
          "text": [
            "/Users/lisa2021/opt/anaconda3/lib/python3.9/site-packages/sklearn/svm/_base.py:1206: ConvergenceWarning: Liblinear failed to converge, increase the number of iterations.\n",
            "  warnings.warn(\n",
            "/Users/lisa2021/opt/anaconda3/lib/python3.9/site-packages/sklearn/svm/_base.py:1206: ConvergenceWarning: Liblinear failed to converge, increase the number of iterations.\n",
            "  warnings.warn(\n",
            "/Users/lisa2021/opt/anaconda3/lib/python3.9/site-packages/sklearn/svm/_base.py:1206: ConvergenceWarning: Liblinear failed to converge, increase the number of iterations.\n",
            "  warnings.warn(\n",
            "/Users/lisa2021/opt/anaconda3/lib/python3.9/site-packages/sklearn/svm/_base.py:1206: ConvergenceWarning: Liblinear failed to converge, increase the number of iterations.\n",
            "  warnings.warn(\n",
            "/Users/lisa2021/opt/anaconda3/lib/python3.9/site-packages/sklearn/svm/_base.py:1206: ConvergenceWarning: Liblinear failed to converge, increase the number of iterations.\n",
            "  warnings.warn(\n",
            "/Users/lisa2021/opt/anaconda3/lib/python3.9/site-packages/sklearn/svm/_base.py:1206: ConvergenceWarning: Liblinear failed to converge, increase the number of iterations.\n",
            "  warnings.warn(\n",
            "/Users/lisa2021/opt/anaconda3/lib/python3.9/site-packages/sklearn/svm/_base.py:1206: ConvergenceWarning: Liblinear failed to converge, increase the number of iterations.\n",
            "  warnings.warn(\n",
            "/Users/lisa2021/opt/anaconda3/lib/python3.9/site-packages/sklearn/svm/_base.py:1206: ConvergenceWarning: Liblinear failed to converge, increase the number of iterations.\n",
            "  warnings.warn(\n",
            "/Users/lisa2021/opt/anaconda3/lib/python3.9/site-packages/sklearn/svm/_base.py:1206: ConvergenceWarning: Liblinear failed to converge, increase the number of iterations.\n",
            "  warnings.warn(\n",
            "/Users/lisa2021/opt/anaconda3/lib/python3.9/site-packages/sklearn/svm/_base.py:1206: ConvergenceWarning: Liblinear failed to converge, increase the number of iterations.\n",
            "  warnings.warn(\n",
            "/Users/lisa2021/opt/anaconda3/lib/python3.9/site-packages/sklearn/svm/_base.py:1206: ConvergenceWarning: Liblinear failed to converge, increase the number of iterations.\n",
            "  warnings.warn(\n",
            "/Users/lisa2021/opt/anaconda3/lib/python3.9/site-packages/sklearn/svm/_base.py:1206: ConvergenceWarning: Liblinear failed to converge, increase the number of iterations.\n",
            "  warnings.warn(\n",
            "/Users/lisa2021/opt/anaconda3/lib/python3.9/site-packages/sklearn/svm/_base.py:1206: ConvergenceWarning: Liblinear failed to converge, increase the number of iterations.\n",
            "  warnings.warn(\n",
            "/Users/lisa2021/opt/anaconda3/lib/python3.9/site-packages/sklearn/svm/_base.py:1206: ConvergenceWarning: Liblinear failed to converge, increase the number of iterations.\n",
            "  warnings.warn(\n",
            "/Users/lisa2021/opt/anaconda3/lib/python3.9/site-packages/sklearn/svm/_base.py:1206: ConvergenceWarning: Liblinear failed to converge, increase the number of iterations.\n",
            "  warnings.warn(\n"
          ]
        },
        {
          "name": "stdout",
          "output_type": "stream",
          "text": [
            "{'iter': array([0, 0, 0, 0, 1, 1]), 'n_resources': array([ 67873,  67873,  67873,  67873, 203619, 203619]), 'mean_fit_time': array([0.22393556, 0.4952621 , 1.9126832 , 2.21649556, 6.55272303,\n",
            "       2.17724266]), 'std_fit_time': array([0.01841008, 0.05970046, 0.05964691, 0.06807241, 0.55005732,\n",
            "       0.20887665]), 'mean_score_time': array([0.05976114, 0.05584283, 0.05445576, 0.05398335, 0.1801002 ,\n",
            "       0.18398299]), 'std_score_time': array([0.00626723, 0.0009396 , 0.00106347, 0.00035617, 0.0021726 ,\n",
            "       0.00407399]), 'param_C': masked_array(data=[0.1, 1, 10, 100, 10, 1],\n",
            "             mask=[False, False, False, False, False, False],\n",
            "       fill_value='?',\n",
            "            dtype=object), 'params': [{'C': 0.1}, {'C': 1}, {'C': 10}, {'C': 100}, {'C': 10}, {'C': 1}], 'split0_test_score': array([0.73886558, 0.77522824, 0.76341073, 0.74368169, 0.81962612,\n",
            "       0.82837191]), 'split1_test_score': array([0.76305976, 0.80916526, 0.78791209, 0.75507905, 0.84738695,\n",
            "       0.85782625]), 'split2_test_score': array([0.7517682 , 0.78151135, 0.77256906, 0.76159093, 0.84243328,\n",
            "       0.85149286]), 'split3_test_score': array([0.74152719, 0.77098325, 0.75459749, 0.73543783, 0.83489408,\n",
            "       0.84132261]), 'split4_test_score': array([0.68615294, 0.73341525, 0.72262658, 0.70166182, 0.78517861,\n",
            "       0.799631  ]), 'mean_test_score': array([0.73627474, 0.77406067, 0.76022319, 0.73949026, 0.82590381,\n",
            "       0.83572893]), 'std_test_score': array([0.02647255, 0.02429291, 0.02179178, 0.02095916, 0.02242108,\n",
            "       0.02061683]), 'rank_test_score': array([6, 3, 4, 5, 2, 1], dtype=int32), 'split0_train_score': array([0.92706882, 0.99537188, 0.9980028 , 0.99866382, 0.99558019,\n",
            "       0.99122968]), 'split1_train_score': array([0.92553558, 0.99330127, 0.99807991, 0.99875516, 0.99441273,\n",
            "       0.98943641]), 'split2_train_score': array([0.92518294, 0.99540093, 0.99840151, 0.99840798, 0.99586536,\n",
            "       0.99060852]), 'split3_train_score': array([0.92455641, 0.9962261 , 0.99909901, 0.99939663, 0.99639796,\n",
            "       0.99141736]), 'split4_train_score': array([0.93231843, 0.99551903, 0.9976808 , 0.99846701, 0.99567753,\n",
            "       0.99094471]), 'mean_train_score': array([0.92693243, 0.99516384, 0.9982528 , 0.99873812, 0.99558675,\n",
            "       0.99072734]), 'std_train_score': array([0.00281727, 0.00098216, 0.0004812 , 0.00035269, 0.00065151,\n",
            "       0.00070091])}\n"
          ]
        }
      ],
      "source": [
        "model = LinearSVC()\n",
        "\n",
        "#Hyperparameter Grid\n",
        "paras = {'C':[0.1, 1, 10, 100]}\n",
        "search = HalvingGridSearchCV(model, paras, scoring='f1_macro', verbose = 0 , cv = 5).fit(X_train_ohe,Y_train)\n",
        "print(search.cv_results_)"
      ]
    },
    {
      "cell_type": "code",
      "execution_count": 38,
      "metadata": {
        "colab": {
          "base_uri": "https://localhost:8080/"
        },
        "id": "bdGBjniA52cu",
        "outputId": "0e06e549-5e05-4e14-cf18-47d342708f68"
      },
      "outputs": [
        {
          "data": {
            "text/plain": [
              "LinearSVC(C=1)"
            ]
          },
          "execution_count": 38,
          "metadata": {},
          "output_type": "execute_result"
        }
      ],
      "source": [
        "search.best_estimator_"
      ]
    },
    {
      "cell_type": "code",
      "execution_count": 39,
      "metadata": {},
      "outputs": [],
      "source": [
        "best_model = LinearSVC(C=1)"
      ]
    },
    {
      "cell_type": "code",
      "execution_count": 40,
      "metadata": {
        "id": "3Zpml-qjGP1w"
      },
      "outputs": [
        {
          "name": "stdout",
          "output_type": "stream",
          "text": [
            "              precision    recall  f1-score   support\n",
            "\n",
            "       B-LOC      0.901     0.858     0.879      1837\n",
            "      B-MISC      0.919     0.804     0.858       922\n",
            "       B-ORG      0.877     0.789     0.830      1341\n",
            "       B-PER      0.877     0.901     0.889      1842\n",
            "       I-LOC      0.894     0.821     0.856       257\n",
            "      I-MISC      0.821     0.662     0.733       346\n",
            "       I-ORG      0.845     0.747     0.793       751\n",
            "       I-PER      0.865     0.951     0.906      1307\n",
            "           O      0.988     0.995     0.991     42759\n",
            "\n",
            "    accuracy                          0.970     51362\n",
            "   macro avg      0.887     0.836     0.859     51362\n",
            "weighted avg      0.970     0.970     0.970     51362\n",
            "\n"
          ]
        }
      ],
      "source": [
        "best_model = LinearSVC(C=1)\n",
        "best_model.fit(X_train_ohe, Y_train)\n",
        "Y_pred = best_model.predict(X_dev_ohe)\n",
        "\n",
        "#evaluation_counts = obtain_counts(Y_dev, Y_pred)\n",
        "#result = calculate_precision_recall_fscore(evaluation_counts)\n",
        "#provide_output_tables(result)\n",
        "#pd.DataFrame(Y_pred).to_csv('output/assignment2SVC_hyt.csv')\n",
        "print(classification_report(Y_dev, Y_pred, digits = 3))"
      ]
    }
  ],
  "metadata": {
    "colab": {
      "provenance": []
    },
    "kernelspec": {
      "display_name": "base",
      "language": "python",
      "name": "python3"
    },
    "language_info": {
      "codemirror_mode": {
        "name": "ipython",
        "version": 3
      },
      "file_extension": ".py",
      "mimetype": "text/x-python",
      "name": "python",
      "nbconvert_exporter": "python",
      "pygments_lexer": "ipython3",
      "version": "3.9.13"
    },
    "vscode": {
      "interpreter": {
        "hash": "b404d2aafdf561b3056e6883553e066f5a70fc5deb88f06afbbb68722dddb5be"
      }
    }
  },
  "nbformat": 4,
  "nbformat_minor": 0
}
